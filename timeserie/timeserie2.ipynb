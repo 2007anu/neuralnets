{
 "cells": [
  {
   "cell_type": "code",
   "execution_count": 1,
   "metadata": {
    "collapsed": false
   },
   "outputs": [
    {
     "name": "stderr",
     "output_type": "stream",
     "text": [
      "Using gpu device 0: Tesla K80 (CNMeM is disabled)\n"
     ]
    }
   ],
   "source": [
    "from theano.sandbox import cuda"
   ]
  },
  {
   "cell_type": "code",
   "execution_count": 2,
   "metadata": {
    "collapsed": false
   },
   "outputs": [
    {
     "name": "stderr",
     "output_type": "stream",
     "text": [
      "Using Theano backend.\n"
     ]
    }
   ],
   "source": [
    "%matplotlib inline\n",
    "import utils_modified; reload(utils_modified)\n",
    "from utils_modified import *\n",
    "from __future__ import division, print_function"
   ]
  },
  {
   "cell_type": "code",
   "execution_count": 3,
   "metadata": {
    "collapsed": true
   },
   "outputs": [],
   "source": [
    "import numpy as np\n",
    "import random\n",
    "import sys"
   ]
  },
  {
   "cell_type": "code",
   "execution_count": 4,
   "metadata": {
    "collapsed": false
   },
   "outputs": [],
   "source": [
    "from keras.preprocessing.sequence import pad_sequences\n",
    "from keras.layers import Input, Dense, Embedding, Activation, LSTM, merge, Flatten, Dropout, Lambda\n",
    "from keras.models import Model, Sequential\n",
    "from keras.engine.topology import Merge\n",
    "from keras.layers.normalization import BatchNormalization\n",
    "from keras.optimizers import SGD, RMSprop, Adam\n",
    "from keras.layers.convolutional import *\n",
    "from keras.utils.data_utils import get_file"
   ]
  },
  {
   "cell_type": "code",
   "execution_count": 161,
   "metadata": {
    "collapsed": true
   },
   "outputs": [],
   "source": [
    "import quandl # pip install quandl\n",
    "import pandas as pd"
   ]
  },
  {
   "cell_type": "code",
   "execution_count": 5,
   "metadata": {
    "collapsed": false
   },
   "outputs": [],
   "source": [
    "# https://keras.io/getting-started/sequential-model-guide/"
   ]
  },
  {
   "cell_type": "code",
   "execution_count": 156,
   "metadata": {
    "collapsed": false
   },
   "outputs": [],
   "source": [
    "def builder():\n",
    "    # data array : 20days x 15stocks\n",
    "    # note that we can name any layer by passing it a \"name\" argument.\n",
    "    main_input = Input(shape=(20,15), dtype='float32', name='main_input')\n",
    "\n",
    "    # a LSTM will transform the vector sequence into a single vector,\n",
    "    # containing information about the entire sequence\n",
    "    lstm_out = LSTM(32)(main_input)\n",
    "\n",
    "    output = Dense(1, activation='relu')(lstm_out)\n",
    "\n",
    "    model = Model(input=main_input, output=output)\n",
    "\n",
    "    model.compile(optimizer='rmsprop', loss='mean_squared_error')\n",
    "    \n",
    "    return model"
   ]
  },
  {
   "cell_type": "code",
   "execution_count": 162,
   "metadata": {
    "collapsed": false
   },
   "outputs": [],
   "source": [
    "model1 = builder() # will be trained on simulated data"
   ]
  },
  {
   "cell_type": "code",
   "execution_count": 158,
   "metadata": {
    "collapsed": false
   },
   "outputs": [
    {
     "name": "stdout",
     "output_type": "stream",
     "text": [
      "____________________________________________________________________________________________________\n",
      "Layer (type)                     Output Shape          Param #     Connected to                     \n",
      "====================================================================================================\n",
      "main_input (InputLayer)          (None, 20, 15)        0                                            \n",
      "____________________________________________________________________________________________________\n",
      "lstm_4 (LSTM)                    (None, 32)            6144        main_input[0][0]                 \n",
      "____________________________________________________________________________________________________\n",
      "dense_4 (Dense)                  (None, 1)             33          lstm_4[0][0]                     \n",
      "====================================================================================================\n",
      "Total params: 6,177\n",
      "Trainable params: 6,177\n",
      "Non-trainable params: 0\n",
      "____________________________________________________________________________________________________\n"
     ]
    }
   ],
   "source": [
    "model1.summary()"
   ]
  },
  {
   "cell_type": "code",
   "execution_count": 159,
   "metadata": {
    "collapsed": false
   },
   "outputs": [],
   "source": [
    "if False:\n",
    "    X = np.random.random((50,20,15))\n",
    "    Y = np.random.random((50,1))\n",
    "else:\n",
    "    AllXs = []\n",
    "    AllYs = []\n",
    "    for i in range(100):\n",
    "        t = (np.random.rand()-0.5)*6 # an offset for the sinus model\n",
    "        Xs = []\n",
    "        for stp in range(20):\n",
    "            vol = 2 + math.sin(t+stp*0.2) # a market volatility\n",
    "            Xs.append( np.random.randn(1,1,15)*vol ) # one slice of stock returns\n",
    "        futurevol = 2 + math.sin(t+(20-1+5)*0.2)\n",
    "        #print(vol, nextvol)\n",
    "        AllXs.append( np.concatenate(Xs, axis=1) )\n",
    "        AllYs.append( np.array([futurevol]).reshape((1,1)) )\n",
    "    X = np.concatenate(AllXs, axis=0)\n",
    "    Y = np.concatenate(AllYs, axis=0)"
   ]
  },
  {
   "cell_type": "code",
   "execution_count": 160,
   "metadata": {
    "collapsed": false
   },
   "outputs": [
    {
     "name": "stdout",
     "output_type": "stream",
     "text": [
      "Epoch 1/20\n",
      "100/100 [==============================] - 0s - loss: 3.6379     \n",
      "Epoch 2/20\n",
      "100/100 [==============================] - 0s - loss: 2.8001     \n",
      "Epoch 3/20\n",
      "100/100 [==============================] - 0s - loss: 1.7201     \n",
      "Epoch 4/20\n",
      "100/100 [==============================] - 0s - loss: 0.9740     \n",
      "Epoch 5/20\n",
      "100/100 [==============================] - 0s - loss: 0.7180     \n",
      "Epoch 6/20\n",
      "100/100 [==============================] - 0s - loss: 0.5716     \n",
      "Epoch 7/20\n",
      "100/100 [==============================] - 0s - loss: 0.4653     \n",
      "Epoch 8/20\n",
      "100/100 [==============================] - 0s - loss: 0.3708     \n",
      "Epoch 9/20\n",
      "100/100 [==============================] - 0s - loss: 0.2965     \n",
      "Epoch 10/20\n",
      "100/100 [==============================] - 0s - loss: 0.2360     \n",
      "Epoch 11/20\n",
      "100/100 [==============================] - 0s - loss: 0.1820     \n",
      "Epoch 12/20\n",
      "100/100 [==============================] - 0s - loss: 0.1337     \n",
      "Epoch 13/20\n",
      "100/100 [==============================] - 0s - loss: 0.1044     \n",
      "Epoch 14/20\n",
      "100/100 [==============================] - 0s - loss: 0.0699     \n",
      "Epoch 15/20\n",
      "100/100 [==============================] - 0s - loss: 0.0458     \n",
      "Epoch 16/20\n",
      "100/100 [==============================] - 0s - loss: 0.0297     \n",
      "Epoch 17/20\n",
      "100/100 [==============================] - 0s - loss: 0.0165     \n",
      "Epoch 18/20\n",
      "100/100 [==============================] - 0s - loss: 0.0096     \n",
      "Epoch 19/20\n",
      "100/100 [==============================] - 0s - loss: 0.0041     \n",
      "Epoch 20/20\n",
      "100/100 [==============================] - 0s - loss: 0.0044     \n"
     ]
    },
    {
     "data": {
      "text/plain": [
       "<keras.callbacks.History at 0x7fa05ec6f2d0>"
      ]
     },
     "execution_count": 160,
     "metadata": {},
     "output_type": "execute_result"
    }
   ],
   "source": [
    "model1.fit(X, Y, batch_size=5, nb_epoch=20)"
   ]
  },
  {
   "cell_type": "code",
   "execution_count": 86,
   "metadata": {
    "collapsed": true
   },
   "outputs": [],
   "source": [
    "def qData(tick='MSFT'):\n",
    "    return quandl.get(\"WIKI/\"+tick+\".4\",\n",
    "                      start_date=\"2007-01-01\",\n",
    "                      end_date=\"2016-12-31\",\n",
    "                      collapse=\"daily\")"
   ]
  },
  {
   "cell_type": "code",
   "execution_count": 87,
   "metadata": {
    "collapsed": true
   },
   "outputs": [],
   "source": [
    "TICKERS = ['MSFT','JPM','INTC','DOW','KO',\n",
    "             'MCD','CAT','WMT','MMM','AXP',\n",
    "             'BA','GE','XOM','PG','JNJ']"
   ]
  },
  {
   "cell_type": "code",
   "execution_count": 96,
   "metadata": {
    "collapsed": false
   },
   "outputs": [],
   "source": [
    "try:\n",
    "    D.keys()\n",
    "except:\n",
    "    print('create empty Quandl cache')\n",
    "    D = {}\n",
    "\n",
    "for tckr in TICKERS:\n",
    "    if not(tckr in D.keys()):\n",
    "        print(tckr)\n",
    "        qdt = qData(tckr)\n",
    "        qdt.rename(columns={'Close': tckr}, inplace = True)\n",
    "        D[tckr] = qdt\n",
    "        \n",
    "for tck in D.keys():\n",
    "    assert(D[tck].keys() == [tck])"
   ]
  },
  {
   "cell_type": "code",
   "execution_count": 97,
   "metadata": {
    "collapsed": false
   },
   "outputs": [
    {
     "name": "stdout",
     "output_type": "stream",
     "text": [
      "(2517, 1)\n",
      "(2502, 1)\n",
      "(2518, 1)\n",
      "(2505, 1)\n",
      "(2518, 1)\n",
      "(2518, 1)\n",
      "(2518, 1)\n",
      "(2518, 1)\n",
      "(2518, 1)\n",
      "(2518, 1)\n",
      "(2518, 1)\n",
      "(2518, 1)\n",
      "(2503, 1)\n",
      "(2512, 1)\n",
      "(2518, 1)\n"
     ]
    }
   ],
   "source": [
    "for tck in D.keys():\n",
    "    print(D[tck].shape)"
   ]
  },
  {
   "cell_type": "code",
   "execution_count": 98,
   "metadata": {
    "collapsed": false
   },
   "outputs": [],
   "source": [
    "J = D[TICKERS[0]].join(D[TICKERS[1]])\n",
    "for tck in TICKERS[2:]:\n",
    "    J = J.join(D[tck])"
   ]
  },
  {
   "cell_type": "code",
   "execution_count": 99,
   "metadata": {
    "collapsed": false
   },
   "outputs": [
    {
     "data": {
      "text/html": [
       "<div>\n",
       "<table border=\"1\" class=\"dataframe\">\n",
       "  <thead>\n",
       "    <tr style=\"text-align: right;\">\n",
       "      <th></th>\n",
       "      <th>MSFT</th>\n",
       "      <th>JPM</th>\n",
       "      <th>INTC</th>\n",
       "      <th>DOW</th>\n",
       "      <th>KO</th>\n",
       "      <th>MCD</th>\n",
       "      <th>CAT</th>\n",
       "      <th>WMT</th>\n",
       "      <th>MMM</th>\n",
       "      <th>AXP</th>\n",
       "      <th>BA</th>\n",
       "      <th>GE</th>\n",
       "      <th>XOM</th>\n",
       "      <th>PG</th>\n",
       "      <th>JNJ</th>\n",
       "    </tr>\n",
       "    <tr>\n",
       "      <th>Date</th>\n",
       "      <th></th>\n",
       "      <th></th>\n",
       "      <th></th>\n",
       "      <th></th>\n",
       "      <th></th>\n",
       "      <th></th>\n",
       "      <th></th>\n",
       "      <th></th>\n",
       "      <th></th>\n",
       "      <th></th>\n",
       "      <th></th>\n",
       "      <th></th>\n",
       "      <th></th>\n",
       "      <th></th>\n",
       "      <th></th>\n",
       "    </tr>\n",
       "  </thead>\n",
       "  <tbody>\n",
       "    <tr>\n",
       "      <th>2007-01-03</th>\n",
       "      <td>29.86</td>\n",
       "      <td>48.07</td>\n",
       "      <td>20.35</td>\n",
       "      <td>40.27</td>\n",
       "      <td>48.58</td>\n",
       "      <td>43.87</td>\n",
       "      <td>61.16</td>\n",
       "      <td>47.55</td>\n",
       "      <td>78.26</td>\n",
       "      <td>60.36</td>\n",
       "      <td>89.17</td>\n",
       "      <td>37.97</td>\n",
       "      <td>74.11</td>\n",
       "      <td>64.54</td>\n",
       "      <td>66.40</td>\n",
       "    </tr>\n",
       "    <tr>\n",
       "      <th>2007-01-04</th>\n",
       "      <td>29.81</td>\n",
       "      <td>48.19</td>\n",
       "      <td>21.17</td>\n",
       "      <td>40.09</td>\n",
       "      <td>48.60</td>\n",
       "      <td>43.54</td>\n",
       "      <td>61.00</td>\n",
       "      <td>47.78</td>\n",
       "      <td>77.95</td>\n",
       "      <td>59.92</td>\n",
       "      <td>89.53</td>\n",
       "      <td>37.75</td>\n",
       "      <td>72.72</td>\n",
       "      <td>64.05</td>\n",
       "      <td>67.23</td>\n",
       "    </tr>\n",
       "    <tr>\n",
       "      <th>2007-01-05</th>\n",
       "      <td>29.64</td>\n",
       "      <td>47.79</td>\n",
       "      <td>21.10</td>\n",
       "      <td>39.71</td>\n",
       "      <td>48.26</td>\n",
       "      <td>43.54</td>\n",
       "      <td>60.22</td>\n",
       "      <td>47.39</td>\n",
       "      <td>77.42</td>\n",
       "      <td>59.13</td>\n",
       "      <td>89.15</td>\n",
       "      <td>37.56</td>\n",
       "      <td>73.24</td>\n",
       "      <td>63.50</td>\n",
       "      <td>66.62</td>\n",
       "    </tr>\n",
       "    <tr>\n",
       "      <th>2007-01-08</th>\n",
       "      <td>29.93</td>\n",
       "      <td>47.95</td>\n",
       "      <td>21.01</td>\n",
       "      <td>39.49</td>\n",
       "      <td>48.57</td>\n",
       "      <td>43.71</td>\n",
       "      <td>60.29</td>\n",
       "      <td>47.00</td>\n",
       "      <td>77.59</td>\n",
       "      <td>59.69</td>\n",
       "      <td>88.94</td>\n",
       "      <td>37.55</td>\n",
       "      <td>72.65</td>\n",
       "      <td>63.64</td>\n",
       "      <td>66.51</td>\n",
       "    </tr>\n",
       "    <tr>\n",
       "      <th>2007-01-09</th>\n",
       "      <td>29.96</td>\n",
       "      <td>47.75</td>\n",
       "      <td>21.03</td>\n",
       "      <td>39.39</td>\n",
       "      <td>48.61</td>\n",
       "      <td>43.79</td>\n",
       "      <td>60.62</td>\n",
       "      <td>47.39</td>\n",
       "      <td>77.68</td>\n",
       "      <td>59.31</td>\n",
       "      <td>88.00</td>\n",
       "      <td>37.55</td>\n",
       "      <td>72.09</td>\n",
       "      <td>63.48</td>\n",
       "      <td>66.26</td>\n",
       "    </tr>\n",
       "  </tbody>\n",
       "</table>\n",
       "</div>"
      ],
      "text/plain": [
       "             MSFT    JPM   INTC    DOW     KO    MCD    CAT    WMT    MMM  \\\n",
       "Date                                                                        \n",
       "2007-01-03  29.86  48.07  20.35  40.27  48.58  43.87  61.16  47.55  78.26   \n",
       "2007-01-04  29.81  48.19  21.17  40.09  48.60  43.54  61.00  47.78  77.95   \n",
       "2007-01-05  29.64  47.79  21.10  39.71  48.26  43.54  60.22  47.39  77.42   \n",
       "2007-01-08  29.93  47.95  21.01  39.49  48.57  43.71  60.29  47.00  77.59   \n",
       "2007-01-09  29.96  47.75  21.03  39.39  48.61  43.79  60.62  47.39  77.68   \n",
       "\n",
       "              AXP     BA     GE    XOM     PG    JNJ  \n",
       "Date                                                  \n",
       "2007-01-03  60.36  89.17  37.97  74.11  64.54  66.40  \n",
       "2007-01-04  59.92  89.53  37.75  72.72  64.05  67.23  \n",
       "2007-01-05  59.13  89.15  37.56  73.24  63.50  66.62  \n",
       "2007-01-08  59.69  88.94  37.55  72.65  63.64  66.51  \n",
       "2007-01-09  59.31  88.00  37.55  72.09  63.48  66.26  "
      ]
     },
     "execution_count": 99,
     "metadata": {},
     "output_type": "execute_result"
    }
   ],
   "source": [
    "J.head(5)"
   ]
  },
  {
   "cell_type": "code",
   "execution_count": 102,
   "metadata": {
    "collapsed": false
   },
   "outputs": [
    {
     "data": {
      "text/plain": [
       "MSFT     0\n",
       "JPM      0\n",
       "INTC     0\n",
       "DOW      6\n",
       "KO       0\n",
       "MCD      0\n",
       "CAT      0\n",
       "WMT     15\n",
       "MMM      0\n",
       "AXP      1\n",
       "BA      13\n",
       "GE       0\n",
       "XOM     16\n",
       "PG       0\n",
       "JNJ      0\n",
       "dtype: int64"
      ]
     },
     "execution_count": 102,
     "metadata": {},
     "output_type": "execute_result"
    }
   ],
   "source": [
    "J.isnull().sum()"
   ]
  },
  {
   "cell_type": "code",
   "execution_count": 165,
   "metadata": {
    "collapsed": true
   },
   "outputs": [],
   "source": [
    "J2 = J.fillna(method='ffill')\n",
    "#J2[J['WMT'].isnull()]"
   ]
  },
  {
   "cell_type": "code",
   "execution_count": 166,
   "metadata": {
    "collapsed": false
   },
   "outputs": [
    {
     "data": {
      "text/plain": [
       "(2517, 15)"
      ]
     },
     "execution_count": 166,
     "metadata": {},
     "output_type": "execute_result"
    }
   ],
   "source": [
    "LogDiffJ = J2.apply(np.log).diff(periods=1, axis=0)\n",
    "LogDiffJ.drop(LogDiffJ.index[0:1], inplace=True)\n",
    "LogDiffJ.shape"
   ]
  },
  {
   "cell_type": "code",
   "execution_count": 167,
   "metadata": {
    "collapsed": false
   },
   "outputs": [
    {
     "data": {
      "text/plain": [
       "(2517, 15)"
      ]
     },
     "execution_count": 167,
     "metadata": {},
     "output_type": "execute_result"
    }
   ],
   "source": [
    "MktData = LogDiffJ.as_matrix(columns=None) # as numpy.array\n",
    "MktData.shape"
   ]
  },
  {
   "cell_type": "code",
   "execution_count": 284,
   "metadata": {
    "collapsed": true
   },
   "outputs": [],
   "source": [
    "model2 = builder() # will be trained on market data"
   ]
  },
  {
   "cell_type": "code",
   "execution_count": 298,
   "metadata": {
    "collapsed": false
   },
   "outputs": [],
   "source": [
    "if True:\n",
    "    AllXs = []\n",
    "    AllYs = []\n",
    "    for i in range(100):\n",
    "        t = np.random.randint(50, MktData.shape[0]-100) # an offset for whole historics\n",
    "        Xs = []\n",
    "        for stp in range(20):\n",
    "            Xs.append( MktData[t+stp,:].reshape(1,1,-1)*100 ) # one slice of stock returns\n",
    "        futurevol = math.sqrt(np.sum(MktData[t+20:t+20+10,:]*MktData[t+20:t+20+10,:]))*100\n",
    "        #print(futurevol)\n",
    "        AllXs.append( np.concatenate(Xs, axis=1) )\n",
    "        AllYs.append( np.array([futurevol]).reshape((1,1)) )\n",
    "    X = np.concatenate(AllXs, axis=0)\n",
    "    Y = np.concatenate(AllYs, axis=0)"
   ]
  },
  {
   "cell_type": "code",
   "execution_count": 299,
   "metadata": {
    "collapsed": false
   },
   "outputs": [
    {
     "data": {
      "text/plain": [
       "((100, 20, 15), (100, 1))"
      ]
     },
     "execution_count": 299,
     "metadata": {},
     "output_type": "execute_result"
    }
   ],
   "source": [
    "X.shape, Y.shape"
   ]
  },
  {
   "cell_type": "code",
   "execution_count": 300,
   "metadata": {
    "collapsed": false
   },
   "outputs": [
    {
     "name": "stdout",
     "output_type": "stream",
     "text": [
      "-23.3016325713 0.0293632244999 22.3917160238\n",
      "6.67103515354 19.9754065213 70.1243805881\n"
     ]
    }
   ],
   "source": [
    "print(np.min(X), np.mean(X), np.max(X))\n",
    "print(np.min(Y), np.mean(Y), np.max(Y))"
   ]
  },
  {
   "cell_type": "code",
   "execution_count": 283,
   "metadata": {
    "collapsed": true
   },
   "outputs": [],
   "source": [
    "# WARNING : need to scale data to speed up training !!!\n",
    "factorX = 0.10\n",
    "factorY = 0.03"
   ]
  },
  {
   "cell_type": "markdown",
   "metadata": {},
   "source": [
    "## WARNING :  Need a **VALIDATION** test too"
   ]
  },
  {
   "cell_type": "code",
   "execution_count": 285,
   "metadata": {
    "collapsed": false,
    "scrolled": false
   },
   "outputs": [
    {
     "name": "stdout",
     "output_type": "stream",
     "text": [
      "Epoch 1/200\n",
      "100/100 [==============================] - 0s - loss: 0.5564     \n",
      "Epoch 2/200\n",
      "100/100 [==============================] - 0s - loss: 0.4165     \n",
      "Epoch 3/200\n",
      "100/100 [==============================] - 0s - loss: 0.2714     \n",
      "Epoch 4/200\n",
      "100/100 [==============================] - 0s - loss: 0.1632     \n",
      "Epoch 5/200\n",
      "100/100 [==============================] - 0s - loss: 0.1328     \n",
      "Epoch 6/200\n",
      "100/100 [==============================] - 0s - loss: 0.1227     \n",
      "Epoch 7/200\n",
      "100/100 [==============================] - 0s - loss: 0.1120     \n",
      "Epoch 8/200\n",
      "100/100 [==============================] - 0s - loss: 0.1001     \n",
      "Epoch 9/200\n",
      "100/100 [==============================] - 0s - loss: 0.0911     \n",
      "Epoch 10/200\n",
      "100/100 [==============================] - 0s - loss: 0.0973     \n",
      "Epoch 11/200\n",
      "100/100 [==============================] - 0s - loss: 0.0830     \n",
      "Epoch 12/200\n",
      "100/100 [==============================] - 0s - loss: 0.0841     \n",
      "Epoch 13/200\n",
      "100/100 [==============================] - 0s - loss: 0.0732     \n",
      "Epoch 14/200\n",
      "100/100 [==============================] - 0s - loss: 0.0748     \n",
      "Epoch 15/200\n",
      "100/100 [==============================] - 0s - loss: 0.0708     \n",
      "Epoch 16/200\n",
      "100/100 [==============================] - 0s - loss: 0.0745     \n",
      "Epoch 17/200\n",
      "100/100 [==============================] - 0s - loss: 0.0644     \n",
      "Epoch 18/200\n",
      "100/100 [==============================] - 0s - loss: 0.0636     \n",
      "Epoch 19/200\n",
      "100/100 [==============================] - 0s - loss: 0.0644     \n",
      "Epoch 20/200\n",
      "100/100 [==============================] - 0s - loss: 0.0609     \n",
      "Epoch 21/200\n",
      "100/100 [==============================] - 0s - loss: 0.0599     \n",
      "Epoch 22/200\n",
      "100/100 [==============================] - 0s - loss: 0.0575     \n",
      "Epoch 23/200\n",
      "100/100 [==============================] - 0s - loss: 0.0605     \n",
      "Epoch 24/200\n",
      "100/100 [==============================] - 0s - loss: 0.0542     \n",
      "Epoch 25/200\n",
      "100/100 [==============================] - 0s - loss: 0.0561     \n",
      "Epoch 26/200\n",
      "100/100 [==============================] - 0s - loss: 0.0543     \n",
      "Epoch 27/200\n",
      "100/100 [==============================] - 0s - loss: 0.0542     \n",
      "Epoch 28/200\n",
      "100/100 [==============================] - 0s - loss: 0.0498     \n",
      "Epoch 29/200\n",
      "100/100 [==============================] - 0s - loss: 0.0519     \n",
      "Epoch 30/200\n",
      "100/100 [==============================] - 0s - loss: 0.0508     \n",
      "Epoch 31/200\n",
      "100/100 [==============================] - 0s - loss: 0.0488     \n",
      "Epoch 32/200\n",
      "100/100 [==============================] - 0s - loss: 0.0507     \n",
      "Epoch 33/200\n",
      "100/100 [==============================] - 0s - loss: 0.0498     \n",
      "Epoch 34/200\n",
      "100/100 [==============================] - 0s - loss: 0.0440     \n",
      "Epoch 35/200\n",
      "100/100 [==============================] - 0s - loss: 0.0432     \n",
      "Epoch 36/200\n",
      "100/100 [==============================] - 0s - loss: 0.0496     \n",
      "Epoch 37/200\n",
      "100/100 [==============================] - 0s - loss: 0.0418     \n",
      "Epoch 38/200\n",
      "100/100 [==============================] - 0s - loss: 0.0397     \n",
      "Epoch 39/200\n",
      "100/100 [==============================] - 0s - loss: 0.0393     \n",
      "Epoch 40/200\n",
      "100/100 [==============================] - 0s - loss: 0.0395     \n",
      "Epoch 41/200\n",
      "100/100 [==============================] - 0s - loss: 0.0433     \n",
      "Epoch 42/200\n",
      "100/100 [==============================] - 0s - loss: 0.0441     \n",
      "Epoch 43/200\n",
      "100/100 [==============================] - 0s - loss: 0.0400     \n",
      "Epoch 44/200\n",
      "100/100 [==============================] - 0s - loss: 0.0374     \n",
      "Epoch 45/200\n",
      "100/100 [==============================] - 0s - loss: 0.0417     \n",
      "Epoch 46/200\n",
      "100/100 [==============================] - 0s - loss: 0.0389     \n",
      "Epoch 47/200\n",
      "100/100 [==============================] - 0s - loss: 0.0380     \n",
      "Epoch 48/200\n",
      "100/100 [==============================] - 0s - loss: 0.0361     \n",
      "Epoch 49/200\n",
      "100/100 [==============================] - 0s - loss: 0.0383     \n",
      "Epoch 50/200\n",
      "100/100 [==============================] - 0s - loss: 0.0366     \n",
      "Epoch 51/200\n",
      "100/100 [==============================] - 0s - loss: 0.0336     \n",
      "Epoch 52/200\n",
      "100/100 [==============================] - 0s - loss: 0.0391     \n",
      "Epoch 53/200\n",
      "100/100 [==============================] - 0s - loss: 0.0332     \n",
      "Epoch 54/200\n",
      "100/100 [==============================] - 0s - loss: 0.0358     \n",
      "Epoch 55/200\n",
      "100/100 [==============================] - 0s - loss: 0.0329     \n",
      "Epoch 56/200\n",
      "100/100 [==============================] - 0s - loss: 0.0309     \n",
      "Epoch 57/200\n",
      "100/100 [==============================] - 0s - loss: 0.0312     \n",
      "Epoch 58/200\n",
      "100/100 [==============================] - 0s - loss: 0.0395     \n",
      "Epoch 59/200\n",
      "100/100 [==============================] - 0s - loss: 0.0285     \n",
      "Epoch 60/200\n",
      "100/100 [==============================] - 0s - loss: 0.0290     \n",
      "Epoch 61/200\n",
      "100/100 [==============================] - 0s - loss: 0.0330     \n",
      "Epoch 62/200\n",
      "100/100 [==============================] - 0s - loss: 0.0279     \n",
      "Epoch 63/200\n",
      "100/100 [==============================] - 0s - loss: 0.0282     \n",
      "Epoch 64/200\n",
      "100/100 [==============================] - 0s - loss: 0.0313     \n",
      "Epoch 65/200\n",
      "100/100 [==============================] - 0s - loss: 0.0346     \n",
      "Epoch 66/200\n",
      "100/100 [==============================] - 0s - loss: 0.0269     \n",
      "Epoch 67/200\n",
      "100/100 [==============================] - 0s - loss: 0.0246     \n",
      "Epoch 68/200\n",
      "100/100 [==============================] - 0s - loss: 0.0257     \n",
      "Epoch 69/200\n",
      "100/100 [==============================] - 0s - loss: 0.0271     \n",
      "Epoch 70/200\n",
      "100/100 [==============================] - 0s - loss: 0.0271     \n",
      "Epoch 71/200\n",
      "100/100 [==============================] - 0s - loss: 0.0241     \n",
      "Epoch 72/200\n",
      "100/100 [==============================] - 0s - loss: 0.0237     \n",
      "Epoch 73/200\n",
      "100/100 [==============================] - 0s - loss: 0.0288     \n",
      "Epoch 74/200\n",
      "100/100 [==============================] - 0s - loss: 0.0251     \n",
      "Epoch 75/200\n",
      "100/100 [==============================] - 0s - loss: 0.0273     \n",
      "Epoch 76/200\n",
      "100/100 [==============================] - 0s - loss: 0.0213     \n",
      "Epoch 77/200\n",
      "100/100 [==============================] - 0s - loss: 0.0208     \n",
      "Epoch 78/200\n",
      "100/100 [==============================] - 0s - loss: 0.0222     \n",
      "Epoch 79/200\n",
      "100/100 [==============================] - 0s - loss: 0.0192     \n",
      "Epoch 80/200\n",
      "100/100 [==============================] - 0s - loss: 0.0206     \n",
      "Epoch 81/200\n",
      "100/100 [==============================] - 0s - loss: 0.0245     \n",
      "Epoch 82/200\n",
      "100/100 [==============================] - 0s - loss: 0.0185     \n",
      "Epoch 83/200\n",
      "100/100 [==============================] - 0s - loss: 0.0188     \n",
      "Epoch 84/200\n",
      "100/100 [==============================] - 0s - loss: 0.0176     \n",
      "Epoch 85/200\n",
      "100/100 [==============================] - 0s - loss: 0.0180     \n",
      "Epoch 86/200\n",
      "100/100 [==============================] - 0s - loss: 0.0153     \n",
      "Epoch 87/200\n",
      "100/100 [==============================] - 0s - loss: 0.0181     \n",
      "Epoch 88/200\n",
      "100/100 [==============================] - 0s - loss: 0.0174     \n",
      "Epoch 89/200\n",
      "100/100 [==============================] - 0s - loss: 0.0153     \n",
      "Epoch 90/200\n",
      "100/100 [==============================] - 0s - loss: 0.0131     \n",
      "Epoch 91/200\n",
      "100/100 [==============================] - 0s - loss: 0.0186     \n",
      "Epoch 92/200\n",
      "100/100 [==============================] - 0s - loss: 0.0129     \n",
      "Epoch 93/200\n",
      "100/100 [==============================] - 0s - loss: 0.0137     \n",
      "Epoch 94/200\n",
      "100/100 [==============================] - 0s - loss: 0.0119     \n",
      "Epoch 95/200\n",
      "100/100 [==============================] - 0s - loss: 0.0149     \n",
      "Epoch 96/200\n",
      "100/100 [==============================] - 0s - loss: 0.0111     \n",
      "Epoch 97/200\n",
      "100/100 [==============================] - 0s - loss: 0.0142     \n",
      "Epoch 98/200\n",
      "100/100 [==============================] - 0s - loss: 0.0097     \n",
      "Epoch 99/200\n",
      "100/100 [==============================] - 0s - loss: 0.0128     \n",
      "Epoch 100/200\n",
      "100/100 [==============================] - 0s - loss: 0.0096     \n",
      "Epoch 101/200\n",
      "100/100 [==============================] - 0s - loss: 0.0091     \n",
      "Epoch 102/200\n",
      "100/100 [==============================] - 0s - loss: 0.0128     \n",
      "Epoch 103/200\n",
      "100/100 [==============================] - 0s - loss: 0.0102     \n",
      "Epoch 104/200\n",
      "100/100 [==============================] - 0s - loss: 0.0088     \n",
      "Epoch 105/200\n",
      "100/100 [==============================] - 0s - loss: 0.0097     \n",
      "Epoch 106/200\n",
      "100/100 [==============================] - 0s - loss: 0.0164     \n",
      "Epoch 107/200\n",
      "100/100 [==============================] - 0s - loss: 0.0085     \n",
      "Epoch 108/200\n",
      "100/100 [==============================] - 0s - loss: 0.0077     \n",
      "Epoch 109/200\n",
      "100/100 [==============================] - 0s - loss: 0.0073     \n",
      "Epoch 110/200\n",
      "100/100 [==============================] - 0s - loss: 0.0101     \n",
      "Epoch 111/200\n",
      "100/100 [==============================] - 0s - loss: 0.0083     \n",
      "Epoch 112/200\n",
      "100/100 [==============================] - 0s - loss: 0.0095     \n",
      "Epoch 113/200\n",
      "100/100 [==============================] - 0s - loss: 0.0074     \n",
      "Epoch 114/200\n",
      "100/100 [==============================] - 0s - loss: 0.0077     \n",
      "Epoch 115/200\n",
      "100/100 [==============================] - 0s - loss: 0.0084     \n",
      "Epoch 116/200\n",
      "100/100 [==============================] - 0s - loss: 0.0062     \n",
      "Epoch 117/200\n",
      "100/100 [==============================] - 0s - loss: 0.0099     \n",
      "Epoch 118/200\n",
      "100/100 [==============================] - 0s - loss: 0.0077     \n",
      "Epoch 119/200\n",
      "100/100 [==============================] - 0s - loss: 0.0066     \n",
      "Epoch 120/200\n",
      "100/100 [==============================] - 0s - loss: 0.0067     \n",
      "Epoch 121/200\n",
      "100/100 [==============================] - 0s - loss: 0.0061     \n",
      "Epoch 122/200\n",
      "100/100 [==============================] - 0s - loss: 0.0094     \n",
      "Epoch 123/200\n",
      "100/100 [==============================] - 0s - loss: 0.0072     \n",
      "Epoch 124/200\n",
      "100/100 [==============================] - 0s - loss: 0.0053     \n",
      "Epoch 125/200\n",
      "100/100 [==============================] - 0s - loss: 0.0085     \n",
      "Epoch 126/200\n",
      "100/100 [==============================] - 0s - loss: 0.0087     \n",
      "Epoch 127/200\n",
      "100/100 [==============================] - 0s - loss: 0.0054     \n",
      "Epoch 128/200\n",
      "100/100 [==============================] - 0s - loss: 0.0045     \n",
      "Epoch 129/200\n",
      "100/100 [==============================] - 0s - loss: 0.0070     \n",
      "Epoch 130/200\n",
      "100/100 [==============================] - 0s - loss: 0.0049     \n",
      "Epoch 131/200\n",
      "100/100 [==============================] - 0s - loss: 0.0083     \n",
      "Epoch 132/200\n",
      "100/100 [==============================] - 0s - loss: 0.0046     \n",
      "Epoch 133/200\n",
      "100/100 [==============================] - 0s - loss: 0.0059     \n",
      "Epoch 134/200\n",
      "100/100 [==============================] - 0s - loss: 0.0052     \n",
      "Epoch 135/200\n",
      "100/100 [==============================] - 0s - loss: 0.0086     \n",
      "Epoch 136/200\n",
      "100/100 [==============================] - 0s - loss: 0.0040     \n",
      "Epoch 137/200\n",
      "100/100 [==============================] - 0s - loss: 0.0053     \n",
      "Epoch 138/200\n",
      "100/100 [==============================] - 0s - loss: 0.0042     \n",
      "Epoch 139/200\n",
      "100/100 [==============================] - 0s - loss: 0.0050     \n",
      "Epoch 140/200\n",
      "100/100 [==============================] - 0s - loss: 0.0051     \n",
      "Epoch 141/200\n",
      "100/100 [==============================] - 0s - loss: 0.0037     \n",
      "Epoch 142/200\n",
      "100/100 [==============================] - 0s - loss: 0.0041     \n",
      "Epoch 143/200\n",
      "100/100 [==============================] - 0s - loss: 0.0067     \n",
      "Epoch 144/200\n",
      "100/100 [==============================] - 0s - loss: 0.0045     \n",
      "Epoch 145/200\n",
      "100/100 [==============================] - 0s - loss: 0.0047     \n",
      "Epoch 146/200\n",
      "100/100 [==============================] - 0s - loss: 0.0040     \n",
      "Epoch 147/200\n",
      "100/100 [==============================] - 0s - loss: 0.0041     \n",
      "Epoch 148/200\n",
      "100/100 [==============================] - 0s - loss: 0.0043     \n",
      "Epoch 149/200\n",
      "100/100 [==============================] - 0s - loss: 0.0045     \n",
      "Epoch 150/200\n",
      "100/100 [==============================] - 0s - loss: 0.0038     \n",
      "Epoch 151/200\n",
      "100/100 [==============================] - 0s - loss: 0.0059     \n",
      "Epoch 152/200\n",
      "100/100 [==============================] - 0s - loss: 0.0063     \n",
      "Epoch 153/200\n",
      "100/100 [==============================] - 0s - loss: 0.0029     \n",
      "Epoch 154/200\n",
      "100/100 [==============================] - 0s - loss: 0.0037     \n",
      "Epoch 155/200\n",
      "100/100 [==============================] - 0s - loss: 0.0032     \n",
      "Epoch 156/200\n",
      "100/100 [==============================] - 0s - loss: 0.0024     \n",
      "Epoch 157/200\n",
      "100/100 [==============================] - 0s - loss: 0.0077     \n",
      "Epoch 158/200\n",
      "100/100 [==============================] - 0s - loss: 0.0046     \n",
      "Epoch 159/200\n",
      "100/100 [==============================] - 0s - loss: 0.0025     \n",
      "Epoch 160/200\n",
      "100/100 [==============================] - 0s - loss: 0.0030     \n",
      "Epoch 161/200\n",
      "100/100 [==============================] - 0s - loss: 0.0029     \n",
      "Epoch 162/200\n",
      "100/100 [==============================] - 0s - loss: 0.0039     \n",
      "Epoch 163/200\n",
      "100/100 [==============================] - 0s - loss: 0.0023     \n",
      "Epoch 164/200\n",
      "100/100 [==============================] - 0s - loss: 0.0038     \n",
      "Epoch 165/200\n",
      "100/100 [==============================] - 0s - loss: 0.0059     \n",
      "Epoch 166/200\n",
      "100/100 [==============================] - 0s - loss: 0.0064     \n",
      "Epoch 167/200\n",
      "100/100 [==============================] - 0s - loss: 0.0023     \n",
      "Epoch 168/200\n",
      "100/100 [==============================] - 0s - loss: 0.0024     \n",
      "Epoch 169/200\n",
      "100/100 [==============================] - 0s - loss: 0.0020     \n",
      "Epoch 170/200\n",
      "100/100 [==============================] - 0s - loss: 0.0039     \n",
      "Epoch 171/200\n",
      "100/100 [==============================] - 0s - loss: 0.0024     \n",
      "Epoch 172/200\n",
      "100/100 [==============================] - 0s - loss: 0.0019     \n",
      "Epoch 173/200\n",
      "100/100 [==============================] - 0s - loss: 0.0061     \n",
      "Epoch 174/200\n",
      "100/100 [==============================] - 0s - loss: 0.0035     \n",
      "Epoch 175/200\n",
      "100/100 [==============================] - 0s - loss: 0.0022     \n",
      "Epoch 176/200\n",
      "100/100 [==============================] - 0s - loss: 0.0015     \n",
      "Epoch 177/200\n",
      "100/100 [==============================] - 0s - loss: 0.0058     \n",
      "Epoch 178/200\n",
      "100/100 [==============================] - 0s - loss: 0.0042     \n",
      "Epoch 179/200\n",
      "100/100 [==============================] - 0s - loss: 0.0033     \n",
      "Epoch 180/200\n",
      "100/100 [==============================] - 0s - loss: 0.0014     \n",
      "Epoch 181/200\n",
      "100/100 [==============================] - 0s - loss: 0.0014     \n",
      "Epoch 182/200\n",
      "100/100 [==============================] - 0s - loss: 0.0046     \n",
      "Epoch 183/200\n",
      "100/100 [==============================] - 0s - loss: 0.0052     \n",
      "Epoch 184/200\n",
      "100/100 [==============================] - 0s - loss: 0.0016     \n",
      "Epoch 185/200\n",
      "100/100 [==============================] - 0s - loss: 0.0018     \n",
      "Epoch 186/200\n",
      "100/100 [==============================] - 0s - loss: 0.0047     \n",
      "Epoch 187/200\n",
      "100/100 [==============================] - 0s - loss: 0.0022     \n",
      "Epoch 188/200\n",
      "100/100 [==============================] - 0s - loss: 0.0043     \n",
      "Epoch 189/200\n",
      "100/100 [==============================] - 0s - loss: 0.0027     \n",
      "Epoch 190/200\n",
      "100/100 [==============================] - 0s - loss: 0.0019     \n",
      "Epoch 191/200\n",
      "100/100 [==============================] - 0s - loss: 0.0030     \n",
      "Epoch 192/200\n",
      "100/100 [==============================] - 0s - loss: 0.0028     \n",
      "Epoch 193/200\n",
      "100/100 [==============================] - 0s - loss: 0.0026     \n",
      "Epoch 194/200\n",
      "100/100 [==============================] - 0s - loss: 0.0021     \n",
      "Epoch 195/200\n",
      "100/100 [==============================] - 0s - loss: 0.0029     \n",
      "Epoch 196/200\n",
      "100/100 [==============================] - 0s - loss: 0.0022     \n",
      "Epoch 197/200\n",
      "100/100 [==============================] - 0s - loss: 0.0034     \n",
      "Epoch 198/200\n",
      "100/100 [==============================] - 0s - loss: 0.0016     \n",
      "Epoch 199/200\n",
      "100/100 [==============================] - 0s - loss: 0.0012     \n",
      "Epoch 200/200\n",
      "100/100 [==============================] - 0s - loss: 0.0030     \n"
     ]
    },
    {
     "data": {
      "text/plain": [
       "<keras.callbacks.History at 0x7fa03de7a610>"
      ]
     },
     "execution_count": 285,
     "metadata": {},
     "output_type": "execute_result"
    }
   ],
   "source": [
    "model2.fit(factorX*X, factorY*Y, batch_size=25, nb_epoch=200) # seems like 150 epochs are required to converge : BUG ?"
   ]
  },
  {
   "cell_type": "code",
   "execution_count": null,
   "metadata": {
    "collapsed": true
   },
   "outputs": [],
   "source": []
  }
 ],
 "metadata": {
  "kernelspec": {
   "display_name": "Python 2",
   "language": "python",
   "name": "python2"
  },
  "language_info": {
   "codemirror_mode": {
    "name": "ipython",
    "version": 2
   },
   "file_extension": ".py",
   "mimetype": "text/x-python",
   "name": "python",
   "nbconvert_exporter": "python",
   "pygments_lexer": "ipython2",
   "version": "2.7.11"
  }
 },
 "nbformat": 4,
 "nbformat_minor": 0
}
