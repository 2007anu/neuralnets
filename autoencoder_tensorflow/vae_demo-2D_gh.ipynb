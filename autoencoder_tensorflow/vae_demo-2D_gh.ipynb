{
 "cells": [
  {
   "cell_type": "markdown",
   "metadata": {},
   "source": [
    "# Toy example for a variational autoencoder\n",
    "\n",
    "This is a very minimalistic application of an variational autoencoder, just reproducing a 2 dimensional density distribution. For more explanation are given in a talk: https://home.zhaw.ch/~dueo/bbs/files/vae.pdf"
   ]
  },
  {
   "cell_type": "code",
   "execution_count": 1,
   "metadata": {
    "collapsed": true
   },
   "outputs": [],
   "source": [
    "import numpy as np\n",
    "import matplotlib.pyplot as plt\n",
    "%matplotlib inline"
   ]
  },
  {
   "cell_type": "markdown",
   "metadata": {},
   "source": [
    "### Creating the data\n",
    "The following data comes from a simple 2 dimensional distribution."
   ]
  },
  {
   "cell_type": "code",
   "execution_count": 2,
   "metadata": {
    "collapsed": false
   },
   "outputs": [],
   "source": [
    "def next_batch(batch_size, non_crossing=True):\n",
    "    z_true = np.random.uniform(0,1,batch_size)\n",
    "    r = np.power(z_true, 0.5)\n",
    "    phi = 0.25 * np.pi * z_true\n",
    "    x1 = r*np.cos(phi)\n",
    "    x2 = r*np.sin(phi)\n",
    "    \n",
    "    # Sampling form a Gaussian\n",
    "    x1 = np.random.normal(x1, 0.10* np.power(z_true,2), batch_size)\n",
    "    x2 = np.random.normal(x2, 0.10* np.power(z_true,2), batch_size)\n",
    "        \n",
    "    # Bringing data in the right form\n",
    "    X = np.transpose(np.reshape((x1,x2), (2, batch_size)))\n",
    "    X = np.asarray(X, dtype='float32')\n",
    "    return X"
   ]
  },
  {
   "cell_type": "code",
   "execution_count": 3,
   "metadata": {
    "collapsed": false
   },
   "outputs": [
    {
     "data": {
      "image/png": "[encoded data removed]",
      "text/plain": [
       "<matplotlib.figure.Figure at 0x7f8f7a4e6310>"
      ]
     },
     "metadata": {},
     "output_type": "display_data"
    },
    {
     "data": {
      "text/plain": [
       "(10000, 2)"
      ]
     },
     "execution_count": 3,
     "metadata": {},
     "output_type": "execute_result"
    }
   ],
   "source": [
    "xx = next_batch(10000)\n",
    "plt.plot(xx[:,0], xx[:,1], '.')\n",
    "plt.show()\n",
    "xx.shape"
   ]
  },
  {
   "cell_type": "markdown",
   "metadata": {},
   "source": [
    "### Tensorflow\n",
    "For this demo we use tensorflow..."
   ]
  },
  {
   "cell_type": "code",
   "execution_count": 4,
   "metadata": {
    "collapsed": false
   },
   "outputs": [
    {
     "name": "stdout",
     "output_type": "stream",
     "text": [
      "Tensor Flow version 0.10.0\n"
     ]
    }
   ],
   "source": [
    "import tensorflow as tf\n",
    "print(\"Tensor Flow version {}\".format(tf.__version__))"
   ]
  },
  {
   "cell_type": "code",
   "execution_count": 5,
   "metadata": {
    "collapsed": true
   },
   "outputs": [],
   "source": [
    "# Functions to get variables\n",
    "def weights(shape):\n",
    "  initial = tf.truncated_normal(shape, stddev=0.1)\n",
    "  return tf.Variable(initial)\n",
    "\n",
    "def bias(shape):\n",
    "  initial = tf.constant(0.1, shape=shape)\n",
    "  return tf.Variable(initial)"
   ]
  },
  {
   "cell_type": "markdown",
   "metadata": {},
   "source": [
    "### Building the networks\n",
    "#### The encoder network $q_\\phi(z|x)$\n",
    "\n",
    "The decoder network takes the input image and calculates the mean $\\mu =$ `z_mu` and the log variance $\\log\\sigma^2 =$ `z_ls2` of the Gaussian, thus producing the latent variable z."
   ]
  },
  {
   "cell_type": "code",
   "execution_count": 6,
   "metadata": {
    "collapsed": false
   },
   "outputs": [],
   "source": [
    "n_z = 1 #Dimension of the latent space\n",
    "# Input\n",
    "x = tf.placeholder(\"float32\", shape=[None, 2]) #Batchsize x Number of Pixels\n",
    "n_hidden_1 = 5\n",
    "n_hidden_2 = 6\n",
    "\n",
    "# First hidden layer\n",
    "W_fc1 = weights([2, n_hidden_1])\n",
    "b_fc1 = bias([n_hidden_1])\n",
    "h_1   = tf.nn.softplus(tf.matmul(x, W_fc1) + b_fc1)\n",
    "\n",
    "# Second hidden layer\n",
    "W_fc2 = weights([n_hidden_1, n_hidden_2]) \n",
    "b_fc2 = bias([n_hidden_2])\n",
    "h_2   = tf.nn.softplus(tf.matmul(h_1, W_fc2) + b_fc2)\n",
    "\n",
    "\n",
    "# Parameters for the Gaussian\n",
    "z_mu = tf.add(tf.matmul(h_2, weights([n_hidden_2, n_z])), bias([n_z]))\n",
    "# A little trick:\n",
    "#  sigma is always > 0.\n",
    "#  We don't want to enforce that the network produces only positive numbers, therefore we let \n",
    "#  the network model the parameter log(\\sigma^2) $\\in [\\infty, \\infty]$\n",
    "z_ls2 = tf.add(tf.matmul(h_2, weights([n_hidden_2, n_z])), bias([n_z])) "
   ]
  },
  {
   "cell_type": "markdown",
   "metadata": {},
   "source": [
    "#### The decoder network $p_\\theta(x|z)$ a.k.a. generator network\n",
    "\n",
    "Samples from a Gaussian using the given mean and the std. The sampling is done by addding a random number ensuring that backpropagation works fine."
   ]
  },
  {
   "cell_type": "code",
   "execution_count": 7,
   "metadata": {
    "collapsed": false
   },
   "outputs": [],
   "source": [
    "batch_size = 640 #We have to define the batch size with the current version of TensorFlow\n",
    "eps = tf.random_normal((batch_size, n_z), 0, 1, dtype=tf.float32) # Adding a random number\n",
    "z = tf.add(z_mu, tf.mul(tf.sqrt(tf.exp(z_ls2)), eps))  # The sampled z"
   ]
  },
  {
   "cell_type": "code",
   "execution_count": 8,
   "metadata": {
    "collapsed": false
   },
   "outputs": [],
   "source": [
    "n_hidden_1 = 5\n",
    "n_hidden_2 = 6\n",
    "\n",
    "W_fc1_g = weights([n_z, n_hidden_1])\n",
    "b_fc1_g = bias([n_hidden_1])\n",
    "h_1_g   = tf.nn.softplus(tf.matmul(z, W_fc1_g) + b_fc1_g)\n",
    "\n",
    "W_fc2_g = weights([n_hidden_1, n_hidden_2])\n",
    "b_fc2_g = bias([n_hidden_2])\n",
    "h_2_g   = tf.nn.softplus(tf.matmul(h_1_g, W_fc2_g) + b_fc2_g)\n",
    "\n",
    "x_mu = tf.add(tf.matmul(h_2_g,  weights([n_hidden_2, 2])), bias([2]))\n",
    "x_ls2 = tf.add(tf.matmul(h_2_g,  weights([n_hidden_2, 2])), bias([2]))"
   ]
  },
  {
   "cell_type": "markdown",
   "metadata": {},
   "source": [
    "#### Defining the loss function\n",
    "\n",
    "##### The reconstruction error\n",
    "We assume that the data x, is Gaussian distributed with diagnoal covariance matrix $\\Sigma_{ij} = \\delta_{i,j} \\sigma_i^2$. The parameters of that Gaussian are determined by the encoder network. The reconstruction error for the $i-th$ example in the min-batch is given by \n",
    "$$\n",
    "    \\mathbb{E}_{q(z|x^{(i)})}\\left( \\log\\left(p(x^{(i)}|z)\\right)\\right) \n",
    "$$\n",
    "we approximate the expectation with samplinging from the distribution (eaven with $L=1$)\n",
    "$$\n",
    "    \\mathbb{E}_{q(z|x^{(i)})}\\left( \\log\\left(p(x^{(i)}|z)\\right)\\right) \\approx \n",
    "    \\frac{1}{L} \\sum_{i=1}^L \\log\\left(p(x^{(i)}|z^{(i,l)})\\right) \\approx \\log\\left(p(x^{(i)}|z^{(i,l)})\\right)\n",
    "$$\n",
    "\n",
    "For the simple $J-dimensional$ Gaussian, we obtain the following reconstruction error (neglegting a constant term)\n",
    "$$\n",
    "    -\\log\\left(p(x^{(i)}|z^{(i)})\\right) = \\sum_{j=1}^D \\frac{1}{2} \\log(\\sigma_{x_j}^2) + \\frac{(x^{(i)}_j - \\mu_{x_j})^2}{2 \\sigma_{x_j}^2}\n",
    "$$\n",
    "\n",
    "##### The regularisation term\n",
    "\n",
    "$$\n",
    "    -D_{\\tt{KL}} \\left( q(z|x^{(i)}) || p(z) \\right) = \\frac{1}{2} \\sum_{j=1}^{J} \\left(1 + \\log(\\sigma_{z_j}^{(i)^2}) - \\mu_{z_j}^{(i)^2} - \\sigma_{z_j}^{(i)^2} \\right)\n",
    "$$"
   ]
  },
  {
   "cell_type": "code",
   "execution_count": 9,
   "metadata": {
    "collapsed": false
   },
   "outputs": [],
   "source": [
    "reconstr_loss = tf.reduce_sum(0.5 * x_ls2 + (tf.square(x-x_mu)/(2.0 * tf.exp(x_ls2))), 1)\n",
    "latent_loss = -0.5 * tf.reduce_sum(1 + z_ls2 - tf.square(z_mu) - tf.exp(z_ls2), 1)\n",
    "cost = tf.reduce_mean(reconstr_loss + latent_loss)   # average over batch\n",
    "\n",
    "# Use ADAM optimizer\n",
    "optimizer =  tf.train.AdamOptimizer(learning_rate=0.01).minimize(cost)"
   ]
  },
  {
   "cell_type": "code",
   "execution_count": 10,
   "metadata": {
    "collapsed": false
   },
   "outputs": [
    {
     "name": "stdout",
     "output_type": "stream",
     "text": [
      "(640, 2)\n",
      "Test run after starting [0.41279659]\n",
      "Model saved in file: model2d\n",
      "Epoch: 0001 cost= 0.000663717\n",
      "0.270597070456 0.271181970835 mean sigma2 1.08919537067\n",
      "Model saved in file: model2d\n",
      "Epoch: 2001 cost= -0.005674694\n",
      "-2.49456572533 1.92081451416 mean sigma2 0.0374721512198\n",
      "Model saved in file: model2d\n",
      "Epoch: 4001 cost= -0.006306952\n",
      "-2.64247179031 2.01703286171 mean sigma2 0.0136267002672\n",
      "Model saved in file: model2d\n",
      "Epoch: 6001 cost= -0.006011723\n",
      "-2.65820407867 1.94559705257 mean sigma2 0.0191905070096\n",
      "Model saved in file: model2d\n",
      "Epoch: 8001 cost= -0.006446387\n",
      "-2.47610020638 2.16305041313 mean sigma2 0.0155066549778\n",
      "Model saved in file: model2d\n",
      "Epoch: 10001 cost= -0.006144456\n",
      "-2.52234768867 2.5755610466 mean sigma2 0.0137803331017\n",
      "Model saved in file: model2d\n",
      "Epoch: 12001 cost= -0.006318725\n",
      "-2.66585254669 2.66351890564 mean sigma2 0.00567994778976\n",
      "Model saved in file: model2d\n",
      "Epoch: 14001 cost= -0.006550765\n",
      "-2.62451004982 2.53515076637 mean sigma2 0.0056636473164\n",
      "Model saved in file: model2d\n",
      "Epoch: 16001 cost= -0.006551910\n",
      "-2.80483746529 2.84756994247 mean sigma2 0.00477619934827\n",
      "Model saved in file: model2d\n",
      "Epoch: 18001 cost= -0.006437983\n",
      "-2.48123240471 3.04054713249 mean sigma2 0.00485956901684\n"
     ]
    }
   ],
   "source": [
    "# This takes quite some time to converge. I am courious what would happen \n",
    "# if a proper optimizer is finally implemented in TensorFlow\n",
    "\n",
    "runs = 20000 #Set to 0, for no training\n",
    "init = tf.initialize_all_variables()\n",
    "saver = tf.train.Saver()\n",
    "\n",
    "with tf.Session() as sess:\n",
    "    sess.run(init)\n",
    "    batch_xs = next_batch(batch_size)\n",
    "    print(batch_xs.shape)\n",
    "    dd = sess.run([cost], feed_dict={x: batch_xs})\n",
    "    print('Test run after starting {}'.format(dd))\n",
    "\n",
    "    for epoch in range(runs):\n",
    "        avg_cost = 0.\n",
    "        batch_xs = next_batch(batch_size)\n",
    "        _,d, z_mean_val, z_log_sigma_sq_val = sess.run((optimizer, cost, z_mu, z_ls2), feed_dict={x: batch_xs})\n",
    "        avg_cost += d / batch_size\n",
    "\n",
    "        # Display logs per epoch step\n",
    "        if epoch % 2000 == 0:\n",
    "            save_path = saver.save(sess, \"model2d\") #Saves the weights (not the graph)\n",
    "            print(\"Model saved in file: {}\".format(save_path))\n",
    "            print \"Epoch:\", '%04d' % (epoch+1), \"cost=\", \"{:.9f}\".format(avg_cost)\n",
    "            print (\"{} {} mean sigma2 {}\".format(z_mean_val.min(), z_mean_val.max(), np.mean(np.exp(z_log_sigma_sq_val))))\n",
    "            "
   ]
  },
  {
   "cell_type": "code",
   "execution_count": 11,
   "metadata": {
    "collapsed": false
   },
   "outputs": [],
   "source": [
    "#saver = tf.train.Saver()\n",
    "saver = tf.train.import_meta_graph('model2d.meta')\n",
    "with tf.Session() as sess:\n",
    "    saver.restore(sess, tf.train.latest_checkpoint('./'))\n",
    "    #saver.restore(sess, \"model2d.ckpt\")\n",
    "    x_sample = next_batch(batch_size)\n",
    "    var = (x_mu, x_ls2, z, z_mu, z_ls2, cost, reconstr_loss, latent_loss)\n",
    "    out = sess.run(var, feed_dict={x: x_sample})\n",
    "    x_mu_val, x_ls2_val, z_vals, z_mu_val,z_ls2_val, cost_val, reconstr_loss_val,latent_loss_val = out"
   ]
  },
  {
   "cell_type": "code",
   "execution_count": 12,
   "metadata": {
    "collapsed": false
   },
   "outputs": [
    {
     "data": {
      "text/plain": [
       "[<matplotlib.lines.Line2D at 0x7f8f55ea4450>]"
      ]
     },
     "execution_count": 12,
     "metadata": {},
     "output_type": "execute_result"
    },
    {
     "data": {
      "image/png": "[encoded data removed]",
      "text/plain": [
       "<matplotlib.figure.Figure at 0x7f8f563bdf90>"
      ]
     },
     "metadata": {},
     "output_type": "display_data"
    }
   ],
   "source": [
    "plt.plot(x_mu_val[:,0], x_mu_val[:,1], '.')\n",
    "plt.plot(x_sample[:,0], x_sample[:,1], '+')"
   ]
  },
  {
   "cell_type": "code",
   "execution_count": 13,
   "metadata": {
    "collapsed": false
   },
   "outputs": [],
   "source": [
    "# Sampling from z=-2 to z=2\n",
    "z_vals = np.reshape(np.asarray(np.linspace(-2,2, batch_size), dtype='float32'), (batch_size,1))"
   ]
  },
  {
   "cell_type": "code",
   "execution_count": 14,
   "metadata": {
    "collapsed": false
   },
   "outputs": [],
   "source": [
    "#saver = tf.train.Saver()\n",
    "saver = tf.train.import_meta_graph('model2d.meta')\n",
    "with tf.Session() as sess:\n",
    "    saver.restore(sess, tf.train.latest_checkpoint('./'))\n",
    "    #saver.restore(sess, \"model_2d/model2d.ckpt\")\n",
    "    x_mu_val, x_ls2_val = sess.run((x_mu, x_ls2), feed_dict={z: z_vals})"
   ]
  },
  {
   "cell_type": "code",
   "execution_count": 15,
   "metadata": {
    "collapsed": false
   },
   "outputs": [],
   "source": [
    "idx = np.linspace(0, batch_size-1, 20, dtype='int32')"
   ]
  },
  {
   "cell_type": "code",
   "execution_count": 16,
   "metadata": {
    "collapsed": false
   },
   "outputs": [
    {
     "data": {
      "text/plain": [
       "<matplotlib.collections.PathCollection at 0x7f8f4c05eb10>"
      ]
     },
     "execution_count": 16,
     "metadata": {},
     "output_type": "execute_result"
    },
    {
     "data": {
      "image/png": "[encoded data removed]",
      "text/plain": [
       "<matplotlib.figure.Figure at 0x7f8f443c0210>"
      ]
     },
     "metadata": {},
     "output_type": "display_data"
    }
   ],
   "source": [
    "plt.scatter(x_mu_val[idx,0], x_mu_val[idx,1], c=z_vals[idx], s=60000* np.mean(np.exp(x_ls2_val[idx,:]), axis=1))"
   ]
  },
  {
   "cell_type": "code",
   "execution_count": null,
   "metadata": {
    "collapsed": true
   },
   "outputs": [],
   "source": []
  }
 ],
 "metadata": {
  "kernelspec": {
   "display_name": "Python 2",
   "language": "python",
   "name": "python2"
  },
  "language_info": {
   "codemirror_mode": {
    "name": "ipython",
    "version": 2
   },
   "file_extension": ".py",
   "mimetype": "text/x-python",
   "name": "python",
   "nbconvert_exporter": "python",
   "pygments_lexer": "ipython2",
   "version": "2.7.11"
  }
 },
 "nbformat": 4,
 "nbformat_minor": 0
}
