{
 "cells": [
  {
   "cell_type": "code",
   "execution_count": 1,
   "metadata": {
    "collapsed": false
   },
   "outputs": [
    {
     "name": "stderr",
     "output_type": "stream",
     "text": [
      "Using gpu device 0: Tesla K80 (CNMeM is disabled)\n",
      "Using Theano backend.\n"
     ]
    }
   ],
   "source": [
    "# Rather than importing everything manually, we'll make things easy\n",
    "#   and load them all in utils.py, and just import them from there.\n",
    "%matplotlib inline\n",
    "import utils; reload(utils)\n",
    "from utils import *"
   ]
  },
  {
   "cell_type": "code",
   "execution_count": 2,
   "metadata": {
    "collapsed": true
   },
   "outputs": [],
   "source": [
    "%matplotlib inline\n",
    "from __future__ import division,print_function\n",
    "import os, json\n",
    "from glob import glob\n",
    "import numpy as np\n",
    "import scipy\n",
    "from sklearn.preprocessing import OneHotEncoder\n",
    "from sklearn.metrics import confusion_matrix\n",
    "np.set_printoptions(precision=4, linewidth=100)\n",
    "from matplotlib import pyplot as plt\n",
    "import utils; reload(utils)\n",
    "from utils import plots, get_batches, plot_confusion_matrix, get_data"
   ]
  },
  {
   "cell_type": "code",
   "execution_count": 3,
   "metadata": {
    "collapsed": true
   },
   "outputs": [],
   "source": [
    "from numpy.random import random, permutation\n",
    "from scipy import misc, ndimage\n",
    "from scipy.ndimage.interpolation import zoom\n",
    "\n",
    "import keras\n",
    "from keras import backend as K\n",
    "from keras.utils.data_utils import get_file\n",
    "from keras.models import Sequential\n",
    "from keras.layers import Input\n",
    "from keras.layers.core import Flatten, Dense, Dropout, Lambda\n",
    "from keras.layers.convolutional import Convolution2D, MaxPooling2D, ZeroPadding2D\n",
    "from keras.optimizers import SGD, RMSprop\n",
    "from keras.preprocessing import image"
   ]
  },
  {
   "cell_type": "code",
   "execution_count": 4,
   "metadata": {
    "collapsed": false
   },
   "outputs": [],
   "source": [
    "#path = \"../data/dogsandcats_small/\" # we copied a fraction of the full set for tests\n",
    "path = \"../data/dogsandcats/\"\n",
    "model_path = path + \"models/\"\n",
    "if not os.path.exists(model_path):\n",
    "    os.mkdir(model_path)\n",
    "    print('Done')"
   ]
  },
  {
   "cell_type": "code",
   "execution_count": 5,
   "metadata": {
    "collapsed": false
   },
   "outputs": [],
   "source": [
    "from vgg16 import Vgg16\n",
    "from resnet50 import Resnet50"
   ]
  },
  {
   "cell_type": "code",
   "execution_count": 6,
   "metadata": {
    "collapsed": true
   },
   "outputs": [],
   "source": [
    "batch_size = 100"
   ]
  },
  {
   "cell_type": "code",
   "execution_count": 7,
   "metadata": {
    "collapsed": false
   },
   "outputs": [],
   "source": [
    "def get_batches(dirname, gen=image.ImageDataGenerator(), shuffle=True, \n",
    "                batch_size=batch_size, class_mode='categorical'):\n",
    "    return gen.flow_from_directory(path+dirname, target_size=(224,224), \n",
    "                class_mode=class_mode, shuffle=shuffle, batch_size=batch_size)"
   ]
  },
  {
   "cell_type": "code",
   "execution_count": 8,
   "metadata": {
    "collapsed": false
   },
   "outputs": [
    {
     "name": "stdout",
     "output_type": "stream",
     "text": [
      "Found 4000 images belonging to 2 classes.\n",
      "Found 21000 images belonging to 2 classes.\n"
     ]
    }
   ],
   "source": [
    "# Use batch size of 1 since we're just doing preprocessing on the CPU\n",
    "val_batches = get_batches('valid', shuffle=False, batch_size=batch_size) # no shuffle as we store conv output\n",
    "trn_batches = get_batches('train', shuffle=False, batch_size=batch_size) # no shuffle as we store conv output"
   ]
  },
  {
   "cell_type": "code",
   "execution_count": 9,
   "metadata": {
    "collapsed": false
   },
   "outputs": [
    {
     "data": {
      "text/plain": [
       "['cat/cat.1262.jpg',\n",
       " 'cat/cat.9495.jpg',\n",
       " 'cat/cat.3044.jpg',\n",
       " 'cat/cat.1424.jpg',\n",
       " 'cat/cat.8210.jpg',\n",
       " 'cat/cat.8847.jpg',\n",
       " 'cat/cat.308.jpg',\n",
       " 'cat/cat.10802.jpg',\n",
       " 'cat/cat.5060.jpg',\n",
       " 'cat/cat.10406.jpg']"
      ]
     },
     "execution_count": 9,
     "metadata": {},
     "output_type": "execute_result"
    }
   ],
   "source": [
    "val_batches.filenames[0:10]"
   ]
  },
  {
   "cell_type": "code",
   "execution_count": 10,
   "metadata": {
    "collapsed": false
   },
   "outputs": [],
   "source": [
    "val_labels = onehot(val_batches.classes)\n",
    "trn_labels = onehot(trn_batches.classes)"
   ]
  },
  {
   "cell_type": "code",
   "execution_count": 11,
   "metadata": {
    "collapsed": false
   },
   "outputs": [
    {
     "data": {
      "text/plain": [
       "'import hashlib\\ndef modelhash(mdl):\\n    chaine = str(mdl.to_json())\\n    return hashlib.md5(chaine).hexdigest()'"
      ]
     },
     "execution_count": 11,
     "metadata": {},
     "output_type": "execute_result"
    }
   ],
   "source": [
    "'''import hashlib\n",
    "def modelhash(mdl):\n",
    "    chaine = str(mdl.to_json())\n",
    "    return hashlib.md5(chaine).hexdigest()'''\n",
    "# THE ABOVE FUNCTION DOES NOT WORK DUE TO LAYER DEFAULT NAMES"
   ]
  },
  {
   "cell_type": "code",
   "execution_count": 12,
   "metadata": {
    "collapsed": false
   },
   "outputs": [
    {
     "name": "stderr",
     "output_type": "stream",
     "text": [
      "/home/ubuntu/anaconda2/lib/python2.7/site-packages/keras/layers/core.py:622: UserWarning: `output_shape` argument not specified for layer lambda_1 and cannot be automatically inferred with the Theano backend. Defaulting to output shape `(None, 3, 224, 224)` (same as input shape). If the expected output shape is different, specify it via the `output_shape` argument.\n",
      "  .format(self.name, input_shape))\n"
     ]
    }
   ],
   "source": [
    "if True:\n",
    "    realvgg = Vgg16()\n",
    "    conv_layers, fc_layers = split_at(realvgg.model, Flatten)\n",
    "    #conv_layers, fc_layers = split_at(realvgg.model, Convolution2D)\n",
    "    conv_model = Sequential(conv_layers)\n",
    "    conv_model_hash = 'conv_v3'"
   ]
  },
  {
   "cell_type": "code",
   "execution_count": 13,
   "metadata": {
    "collapsed": false
   },
   "outputs": [],
   "source": [
    "if False:\n",
    "    vggbase = Vgg16()\n",
    "    vggbase.model.pop()\n",
    "    vggbase.model.pop()\n",
    "    vggbase_hash = 'vgg_v1'\n",
    "    # optional extra pop\n",
    "    if False:\n",
    "        vggbase.model.pop()\n",
    "        vggbase.model.pop()\n",
    "        #vggbase_hash = modelhash(vggbase.model)\n",
    "        vggbase_hash = 'vgg_v2'\n",
    "    print(vggbase_hash)"
   ]
  },
  {
   "cell_type": "code",
   "execution_count": 14,
   "metadata": {
    "collapsed": false
   },
   "outputs": [],
   "source": [
    "if False:\n",
    "    resnetbase = Resnet50()\n",
    "    resnetbase.model.layers.pop()\n",
    "    for layer in resnetbase.model.layers:\n",
    "        layer.trainable=False\n",
    "    resnetbase.model = Model(resnetbase.model.input, resnetbase.model.layers[-1].output)\n",
    "    resnetbase.model.compile(optimizer=RMSprop(lr=0.1), loss='categorical_crossentropy', metrics=['accuracy'])\n",
    "    resnetbase_hash = 'resnet_v1'"
   ]
  },
  {
   "cell_type": "markdown",
   "metadata": {},
   "source": [
    "### Will take a few minutes to complete the 1st time"
   ]
  },
  {
   "cell_type": "code",
   "execution_count": 15,
   "metadata": {
    "collapsed": false
   },
   "outputs": [],
   "source": [
    "if True:\n",
    "    try:\n",
    "        val_convfeatures = load_array(model_path+'valid_'+conv_model_hash+'_features.bc')\n",
    "        if False: # force update\n",
    "            raise\n",
    "    except:\n",
    "        print('Missing file')\n",
    "        val_convfeatures = conv_model.predict_generator(val_batches, val_batches.nb_sample)\n",
    "        save_array(model_path+'valid_'+conv_model_hash+'_features.bc', val_convfeatures)"
   ]
  },
  {
   "cell_type": "code",
   "execution_count": 16,
   "metadata": {
    "collapsed": false
   },
   "outputs": [],
   "source": [
    "if False:\n",
    "    try:\n",
    "        val_vggfeatures = load_array(model_path+'valid_'+vggbase_hash+'_features.bc')\n",
    "        if False: # force update\n",
    "            raise\n",
    "    except:\n",
    "        print('Missing file')\n",
    "        val_vggfeatures = vggbase.model.predict_generator(val_batches, val_batches.nb_sample)\n",
    "        save_array(model_path+'valid_'+vggbase_hash+'_features.bc', val_vggfeatures)"
   ]
  },
  {
   "cell_type": "code",
   "execution_count": 17,
   "metadata": {
    "collapsed": false
   },
   "outputs": [],
   "source": [
    "if False:\n",
    "    try:\n",
    "        val_resnetfeatures = load_array(model_path+'valid_'+resnetbase_hash+'_features.bc')\n",
    "        if False: # force update\n",
    "            raise\n",
    "    except:\n",
    "        print('Missing file')\n",
    "        val_resnetfeatures = resnetbase.model.predict_generator(val_batches, val_batches.nb_sample)\n",
    "        save_array(model_path+'valid_'+resnetbase_hash+'_features.bc', val_resnetfeatures)"
   ]
  },
  {
   "cell_type": "markdown",
   "metadata": {},
   "source": [
    "### Will take a few minutes (maybe 10) to complete the 1st time"
   ]
  },
  {
   "cell_type": "code",
   "execution_count": 18,
   "metadata": {
    "collapsed": false
   },
   "outputs": [],
   "source": [
    "if True:\n",
    "    try:\n",
    "        trn_convfeatures = load_array(model_path+'train_'+conv_model_hash+'_features.bc')\n",
    "        if False: # force update\n",
    "            raise\n",
    "    except:\n",
    "        print('Missing file')\n",
    "        trn_convfeatures = conv_model.predict_generator(trn_batches, trn_batches.nb_sample)\n",
    "        save_array(model_path+'train_'+conv_model_hash+'_features.bc', trn_convfeatures)"
   ]
  },
  {
   "cell_type": "code",
   "execution_count": 19,
   "metadata": {
    "collapsed": false
   },
   "outputs": [],
   "source": [
    "if False:\n",
    "    try:\n",
    "        trn_vggfeatures = load_array(model_path+'train_'+vggbase_hash+'_features.bc')\n",
    "        if False: # force update\n",
    "            raise\n",
    "    except:\n",
    "        print('Missing file')\n",
    "        trn_vggfeatures = vggbase.model.predict_generator(trn_batches, trn_batches.nb_sample)\n",
    "        save_array(model_path+'train_'+vggbase_hash+'_features.bc', trn_vggfeatures)"
   ]
  },
  {
   "cell_type": "code",
   "execution_count": 20,
   "metadata": {
    "collapsed": false
   },
   "outputs": [],
   "source": [
    "if False:\n",
    "    try:\n",
    "        trn_resnetfeatures = load_array(model_path+'train_'+resnetbase_hash+'_features.bc')\n",
    "        if False: # force update\n",
    "            raise\n",
    "    except:\n",
    "        print('Missing file')\n",
    "        trn_resnetfeatures = resnetbase.model.predict_generator(trn_batches, trn_batches.nb_sample)\n",
    "        save_array(model_path+'train_'+resnetbase_hash+'_features.bc', trn_resnetfeatures)"
   ]
  },
  {
   "cell_type": "markdown",
   "metadata": {},
   "source": [
    "### Ready to train the model"
   ]
  },
  {
   "cell_type": "code",
   "execution_count": 30,
   "metadata": {
    "collapsed": false
   },
   "outputs": [],
   "source": [
    "# see : https://github.com/fastai/courses/blob/master/deeplearning1/nbs/lesson3.ipynb\n",
    "\n",
    "def proc_wgts(layer, ndo):\n",
    "    # copy the weights from the pre-trained model\n",
    "    # original weights are for a 50% drop out\n",
    "    # we infer the corresponding weight for a new drop out (ndo) level\n",
    "    return [w*0.5/(1.-ndo) for w in layer.get_weights()]\n",
    "\n",
    "def get_fc_model(ndo):\n",
    "    model = Sequential([\n",
    "        Dense(4096, activation='relu', input_shape=conv_layers[-1].output_shape[1:]),\n",
    "        Dropout(ndo),\n",
    "        Dense(4096, activation='relu'),\n",
    "        #BatchNormalization(),\n",
    "        Dropout(ndo),\n",
    "        #BatchNormalization(),\n",
    "        Dense(2, activation='softmax')\n",
    "        ])\n",
    "\n",
    "    for l_new, l_orig in zip(model.layers[0:3], fc_layers[0:3]):\n",
    "        assert (type(l_new) == type(l_orig))\n",
    "        l_new.set_weights(proc_wgts(l_orig, ndo))\n",
    "    \n",
    "    for layer in model.layers[:-1]:\n",
    "        layer.trainable = False\n",
    "        \n",
    "    model.layers[-1].trainable = True\n",
    "    \n",
    "    #opt = RMSprop(lr=0.00001, rho=0.7)\n",
    "    opt = Adam()\n",
    "    model.compile(optimizer=opt, loss='categorical_crossentropy', metrics=['accuracy'])\n",
    "    return model"
   ]
  },
  {
   "cell_type": "markdown",
   "metadata": {},
   "source": [
    "### Train one or several models (ensembling)"
   ]
  },
  {
   "cell_type": "code",
   "execution_count": 62,
   "metadata": {
    "collapsed": false
   },
   "outputs": [
    {
     "name": "stdout",
     "output_type": "stream",
     "text": [
      "Train on 21000 samples, validate on 4000 samples\n",
      "Epoch 1/10\n",
      "21000/21000 [==============================] - 9s - loss: 0.0532 - acc: 0.9798 - val_loss: 0.0442 - val_acc: 0.9830\n",
      "Epoch 2/10\n",
      "21000/21000 [==============================] - 9s - loss: 0.0398 - acc: 0.9850 - val_loss: 0.0420 - val_acc: 0.9845\n",
      "Epoch 3/10\n",
      "21000/21000 [==============================] - 9s - loss: 0.0311 - acc: 0.9883 - val_loss: 0.0791 - val_acc: 0.9705\n",
      "Epoch 4/10\n",
      "21000/21000 [==============================] - 9s - loss: 0.0290 - acc: 0.9894 - val_loss: 0.0522 - val_acc: 0.9830\n",
      "Epoch 5/10\n",
      "21000/21000 [==============================] - 9s - loss: 0.0251 - acc: 0.9914 - val_loss: 0.0483 - val_acc: 0.9852\n",
      "Epoch 6/10\n",
      "21000/21000 [==============================] - 9s - loss: 0.0210 - acc: 0.9920 - val_loss: 0.0489 - val_acc: 0.9852\n",
      "Epoch 7/10\n",
      "21000/21000 [==============================] - 9s - loss: 0.0189 - acc: 0.9932 - val_loss: 0.0458 - val_acc: 0.9838\n",
      "Epoch 8/10\n",
      "21000/21000 [==============================] - 9s - loss: 0.0161 - acc: 0.9936 - val_loss: 0.0501 - val_acc: 0.9850\n",
      "Epoch 9/10\n",
      "21000/21000 [==============================] - 9s - loss: 0.0159 - acc: 0.9939 - val_loss: 0.0549 - val_acc: 0.9850\n",
      "Epoch 10/10\n",
      "21000/21000 [==============================] - 9s - loss: 0.0147 - acc: 0.9947 - val_loss: 0.0569 - val_acc: 0.9855\n"
     ]
    }
   ],
   "source": [
    "ll_models = []\n",
    "for i in range(1): # INFO : change here the size of the ensemble\n",
    "    ll_models.append( get_fc_model(0.1) )\n",
    "    #ll_models[-1].optimizer.lr = 1*1e-5\n",
    "    ll_models[-1].fit(trn_convfeatures, trn_labels, validation_data=(val_convfeatures, val_labels), nb_epoch=10)"
   ]
  },
  {
   "cell_type": "code",
   "execution_count": 63,
   "metadata": {
    "collapsed": false
   },
   "outputs": [
    {
     "data": {
      "text/plain": [
       "array(0.9854999780654907, dtype=float32)"
      ]
     },
     "execution_count": 63,
     "metadata": {},
     "output_type": "execute_result"
    }
   ],
   "source": [
    "all_val_preds = []\n",
    "for mdl in ll_models:\n",
    "    these_val_preds = mdl.predict_on_batch(val_convfeatures)\n",
    "    assert(len(these_val_preds) == 4000)\n",
    "    all_val_preds.append( these_val_preds )\n",
    "mean_val_preds = np.stack(all_val_preds).mean(axis=0)\n",
    "categorical_accuracy(val_labels, mean_val_preds).eval()"
   ]
  },
  {
   "cell_type": "code",
   "execution_count": 46,
   "metadata": {
    "collapsed": true
   },
   "outputs": [],
   "source": [
    "# WARNING : should save each model of the ensemble\n",
    "#ll_model.save_weights(model_path+'llmodel_finetune1.h5')\n",
    "#ll_model.load_weights(model_path+'llmodel_finetune1.h5')"
   ]
  },
  {
   "cell_type": "code",
   "execution_count": 33,
   "metadata": {
    "collapsed": false
   },
   "outputs": [
    {
     "name": "stdout",
     "output_type": "stream",
     "text": [
      "Found 12500 images belonging to 1 classes.\n"
     ]
    },
    {
     "data": {
      "text/plain": [
       "['test/10592.jpg',\n",
       " 'test/7217.jpg',\n",
       " 'test/3653.jpg',\n",
       " 'test/4382.jpg',\n",
       " 'test/2924.jpg',\n",
       " 'test/10.jpg',\n",
       " 'test/10916.jpg',\n",
       " 'test/12374.jpg',\n",
       " 'test/1871.jpg',\n",
       " 'test/11645.jpg']"
      ]
     },
     "execution_count": 33,
     "metadata": {},
     "output_type": "execute_result"
    }
   ],
   "source": [
    "test_batches = get_batches('test', shuffle=False, batch_size=batch_size, class_mode=None)\n",
    "testfiles = test_batches.filenames\n",
    "testfiles[0:10]"
   ]
  },
  {
   "cell_type": "markdown",
   "metadata": {},
   "source": [
    "### Will take a few minutes (maybe 5) to complete the 1st time"
   ]
  },
  {
   "cell_type": "code",
   "execution_count": 34,
   "metadata": {
    "collapsed": false
   },
   "outputs": [
    {
     "name": "stdout",
     "output_type": "stream",
     "text": [
      "Missing file\n"
     ]
    }
   ],
   "source": [
    "try:\n",
    "    test_convfeatures = load_array(model_path+'test_'+conv_model_hash+'_features.bc')\n",
    "    #test_vggfeatures = load_array(model_path+'test_vggbase_features.bc')\n",
    "    if False: # force update\n",
    "        raise\n",
    "except:\n",
    "    print('Missing file')\n",
    "    test_convfeatures = conv_model.predict_generator(test_batches, test_batches.nb_sample)\n",
    "    save_array(model_path+'test_'+conv_model_hash+'_features.bc', test_convfeatures)\n",
    "    #test_vggfeatures = vggbase.model.predict_generator(test_batches, test_batches.nb_sample)\n",
    "    #save_array(model_path + 'test_vggbase_features.bc', test_vggfeatures)"
   ]
  },
  {
   "cell_type": "code",
   "execution_count": 64,
   "metadata": {
    "collapsed": false
   },
   "outputs": [],
   "source": [
    "all_test_preds = []\n",
    "for mdl in ll_models:\n",
    "    these_test_preds = mdl.predict_on_batch(test_convfeatures)\n",
    "    assert(len(these_test_preds) == 12500)\n",
    "    all_test_preds.append( these_test_preds )\n",
    "mean_test_preds = np.stack(all_test_preds).mean(axis=0)"
   ]
  },
  {
   "cell_type": "code",
   "execution_count": 67,
   "metadata": {
    "collapsed": false
   },
   "outputs": [
    {
     "data": {
      "text/plain": [
       "array([[  1.0000e+00,   2.9676e-10],\n",
       "       [  1.0000e+00,   3.1055e-09],\n",
       "       [  8.6116e-09,   1.0000e+00],\n",
       "       [  1.0000e+00,   1.5027e-06],\n",
       "       [  1.1490e-03,   9.9885e-01],\n",
       "       [  1.0000e+00,   1.1879e-09],\n",
       "       [  2.2946e-04,   9.9977e-01],\n",
       "       [  1.0000e+00,   1.2871e-14],\n",
       "       [  1.6734e-06,   1.0000e+00],\n",
       "       [  1.2401e-08,   1.0000e+00]], dtype=float32)"
      ]
     },
     "execution_count": 67,
     "metadata": {},
     "output_type": "execute_result"
    }
   ],
   "source": [
    "mean_test_preds[0:10]"
   ]
  },
  {
   "cell_type": "code",
   "execution_count": 57,
   "metadata": {
    "collapsed": false
   },
   "outputs": [
    {
     "data": {
      "text/plain": [
       "[{'id': 1, 'label': 0.9999},\n",
       " {'id': 2, 'label': 0.9999},\n",
       " {'id': 3, 'label': 0.9999},\n",
       " {'id': 4, 'label': 0.9999},\n",
       " {'id': 5, 'label': 0.0001},\n",
       " {'id': 6, 'label': 0.0001},\n",
       " {'id': 7, 'label': 0.0001},\n",
       " {'id': 8, 'label': 0.0001},\n",
       " {'id': 9, 'label': 0.0001},\n",
       " {'id': 10, 'label': 0.0001},\n",
       " {'id': 11, 'label': 0.0001},\n",
       " {'id': 12, 'label': 0.9999},\n",
       " {'id': 13, 'label': 0.0001},\n",
       " {'id': 14, 'label': 0.013},\n",
       " {'id': 15, 'label': 0.0001},\n",
       " {'id': 16, 'label': 0.0001},\n",
       " {'id': 17, 'label': 0.9999},\n",
       " {'id': 18, 'label': 0.9999}]"
      ]
     },
     "execution_count": 57,
     "metadata": {},
     "output_type": "execute_result"
    }
   ],
   "source": [
    "dog_idx = 1\n",
    "Z1 = [{'id':int(f.split('/')[-1].split('.')[0]), 'label':min(max(round(p[dog_idx],4),0.0001),0.9999)} \n",
    "      for f, p in zip(testfiles, mean_test_preds)]\n",
    "def comp(x,y):\n",
    "    return int(x['id']) - int(y['id'])\n",
    "Z1 = sorted(Z1, comp)\n",
    "Z1[0:18]"
   ]
  },
  {
   "cell_type": "code",
   "execution_count": 58,
   "metadata": {
    "collapsed": true
   },
   "outputs": [],
   "source": [
    "import csv\n",
    "\n",
    "with open('predictions.csv', 'w') as csvfile:\n",
    "    fieldnames = ['id', 'label']\n",
    "    writer = csv.DictWriter(csvfile, fieldnames=fieldnames)\n",
    "    writer.writeheader()\n",
    "    for z in Z1:\n",
    "        writer.writerow(z)"
   ]
  },
  {
   "cell_type": "code",
   "execution_count": null,
   "metadata": {
    "collapsed": true
   },
   "outputs": [],
   "source": []
  }
 ],
 "metadata": {
  "kernelspec": {
   "display_name": "Python 2",
   "language": "python",
   "name": "python2"
  },
  "language_info": {
   "codemirror_mode": {
    "name": "ipython",
    "version": 2
   },
   "file_extension": ".py",
   "mimetype": "text/x-python",
   "name": "python",
   "nbconvert_exporter": "python",
   "pygments_lexer": "ipython2",
   "version": "2.7.11"
  }
 },
 "nbformat": 4,
 "nbformat_minor": 0
}
