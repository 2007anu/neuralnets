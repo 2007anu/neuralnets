{
 "cells": [
  {
   "cell_type": "code",
   "execution_count": 1,
   "metadata": {
    "collapsed": false
   },
   "outputs": [
    {
     "name": "stderr",
     "output_type": "stream",
     "text": [
      "Using gpu device 0: Tesla K80 (CNMeM is disabled)\n"
     ]
    }
   ],
   "source": [
    "from theano.sandbox import cuda"
   ]
  },
  {
   "cell_type": "code",
   "execution_count": 2,
   "metadata": {
    "collapsed": false
   },
   "outputs": [
    {
     "name": "stderr",
     "output_type": "stream",
     "text": [
      "Using Theano backend.\n"
     ]
    }
   ],
   "source": [
    "%matplotlib inline\n",
    "import utils_modified; reload(utils_modified)\n",
    "from utils_modified import *\n",
    "from __future__ import division, print_function"
   ]
  },
  {
   "cell_type": "code",
   "execution_count": 3,
   "metadata": {
    "collapsed": true
   },
   "outputs": [],
   "source": [
    "import numpy as np\n",
    "import random\n",
    "import sys"
   ]
  },
  {
   "cell_type": "code",
   "execution_count": 4,
   "metadata": {
    "collapsed": false
   },
   "outputs": [],
   "source": [
    "from keras.preprocessing.sequence import pad_sequences\n",
    "from keras.layers import Input, Dense, Embedding, Activation, merge, Flatten, Dropout, Lambda\n",
    "from keras.layers import LSTM, SimpleRNN\n",
    "from keras.models import Model, Sequential\n",
    "from keras.engine.topology import Merge\n",
    "from keras.layers.normalization import BatchNormalization\n",
    "from keras.optimizers import SGD, RMSprop, Adam\n",
    "from keras.layers.convolutional import *\n",
    "from keras.utils.data_utils import get_file"
   ]
  },
  {
   "cell_type": "code",
   "execution_count": 5,
   "metadata": {
    "collapsed": true
   },
   "outputs": [],
   "source": [
    "import quandl # pip install quandl\n",
    "import pandas as pd"
   ]
  },
  {
   "cell_type": "code",
   "execution_count": 6,
   "metadata": {
    "collapsed": false
   },
   "outputs": [],
   "source": [
    "# https://keras.io/getting-started/sequential-model-guide/"
   ]
  },
  {
   "cell_type": "code",
   "execution_count": 103,
   "metadata": {
    "collapsed": true
   },
   "outputs": [],
   "source": [
    "nbassets = 9"
   ]
  },
  {
   "cell_type": "code",
   "execution_count": 249,
   "metadata": {
    "collapsed": false
   },
   "outputs": [],
   "source": [
    "def builder():\n",
    "    # data array : 20days x 15stocks\n",
    "    # note that we can name any layer by passing it a \"name\" argument.\n",
    "    #main_input = Input(shape=(20,9), dtype='float32', name='main_input')\n",
    "    \n",
    "    model = Sequential()\n",
    "    \n",
    "    model.add( Dense(output_dim=100, input_shape=(20,nbassets), activation='tanh') )\n",
    "    \n",
    "    #model.add( BatchNormalization() )\n",
    "\n",
    "    # a LSTM will transform the vector sequence into a single vector,\n",
    "    # containing information about the entire sequence\n",
    "    model.add( SimpleRNN(30,\n",
    "                         return_sequences=False, stateful=False,\n",
    "                         activation='relu', inner_init='identity') )\n",
    "    \n",
    "    #model.add( Dropout(0.5) )\n",
    "\n",
    "    model.add( Dense(30, activation='tanh') )\n",
    "    \n",
    "    model.add( Dense(1, activation='relu') )\n",
    "    \n",
    "    model.compile(optimizer=Adam(1e-3), loss='mean_squared_error')\n",
    "    \n",
    "    return model"
   ]
  },
  {
   "cell_type": "code",
   "execution_count": 277,
   "metadata": {
    "collapsed": false
   },
   "outputs": [],
   "source": [
    "model1 = builder() # will be trained on simulated data"
   ]
  },
  {
   "cell_type": "code",
   "execution_count": 278,
   "metadata": {
    "collapsed": false
   },
   "outputs": [
    {
     "name": "stdout",
     "output_type": "stream",
     "text": [
      "____________________________________________________________________________________________________\n",
      "Layer (type)                     Output Shape          Param #     Connected to                     \n",
      "====================================================================================================\n",
      "dense_50 (Dense)                 (None, 20, 100)       1000        dense_input_22[0][0]             \n",
      "____________________________________________________________________________________________________\n",
      "simplernn_22 (SimpleRNN)         (None, 30)            3930        dense_50[0][0]                   \n",
      "____________________________________________________________________________________________________\n",
      "dense_51 (Dense)                 (None, 30)            930         simplernn_22[0][0]               \n",
      "____________________________________________________________________________________________________\n",
      "dense_52 (Dense)                 (None, 1)             31          dense_51[0][0]                   \n",
      "====================================================================================================\n",
      "Total params: 5,891\n",
      "Trainable params: 5,891\n",
      "Non-trainable params: 0\n",
      "____________________________________________________________________________________________________\n"
     ]
    }
   ],
   "source": [
    "model1.summary()"
   ]
  },
  {
   "cell_type": "code",
   "execution_count": 279,
   "metadata": {
    "collapsed": false
   },
   "outputs": [],
   "source": [
    "if False:\n",
    "    X = np.random.random((50,20,nbassets))\n",
    "    Y = np.random.random((50,1))\n",
    "else:\n",
    "    AllXs = []\n",
    "    AllYs = []\n",
    "    for i in range(1000):\n",
    "        t = (np.random.rand()-0.5)*6*5 # an offset for the sinus model\n",
    "        Xs = []\n",
    "        for stp in range(20):\n",
    "            vol = 2 + math.sin(t+stp*0.2) # a market volatility\n",
    "            Xs.append( np.random.randn(1,1,nbassets)*vol ) # one slice of stock returns\n",
    "        futurevol = 2 + math.sin(t+(20-1+5)*0.2)\n",
    "        #print(vol, nextvol)\n",
    "        AllXs.append( np.concatenate(Xs, axis=1) )\n",
    "        AllYs.append( np.array([futurevol]).reshape((1,1)) )\n",
    "    X = np.concatenate(AllXs, axis=0)\n",
    "    Y = np.concatenate(AllYs, axis=0)"
   ]
  },
  {
   "cell_type": "code",
   "execution_count": 283,
   "metadata": {
    "collapsed": false
   },
   "outputs": [
    {
     "name": "stdout",
     "output_type": "stream",
     "text": [
      "Train on 800 samples, validate on 200 samples\n",
      "Epoch 1/80\n",
      "800/800 [==============================] - 0s - loss: 0.0050 - val_loss: 0.1829\n",
      "Epoch 2/80\n",
      "800/800 [==============================] - 0s - loss: 0.0041 - val_loss: 0.1838\n",
      "Epoch 3/80\n",
      "800/800 [==============================] - 0s - loss: 0.0043 - val_loss: 0.1905\n",
      "Epoch 4/80\n",
      "800/800 [==============================] - 0s - loss: 0.0040 - val_loss: 0.1830\n",
      "Epoch 5/80\n",
      "800/800 [==============================] - 0s - loss: 0.0039 - val_loss: 0.1836\n",
      "Epoch 6/80\n",
      "800/800 [==============================] - 0s - loss: 0.0038 - val_loss: 0.1865\n",
      "Epoch 7/80\n",
      "800/800 [==============================] - 0s - loss: 0.0034 - val_loss: 0.1893\n",
      "Epoch 8/80\n",
      "800/800 [==============================] - 0s - loss: 0.0033 - val_loss: 0.1835\n",
      "Epoch 9/80\n",
      "800/800 [==============================] - 0s - loss: 0.0033 - val_loss: 0.1882\n",
      "Epoch 10/80\n",
      "800/800 [==============================] - 0s - loss: 0.0031 - val_loss: 0.1907\n",
      "Epoch 11/80\n",
      "800/800 [==============================] - 0s - loss: 0.0031 - val_loss: 0.1904\n",
      "Epoch 12/80\n",
      "800/800 [==============================] - 0s - loss: 0.0027 - val_loss: 0.1871\n",
      "Epoch 13/80\n",
      "800/800 [==============================] - 0s - loss: 0.0027 - val_loss: 0.1879\n",
      "Epoch 14/80\n",
      "800/800 [==============================] - 0s - loss: 0.0030 - val_loss: 0.1880\n",
      "Epoch 15/80\n",
      "800/800 [==============================] - 0s - loss: 0.0027 - val_loss: 0.1889\n",
      "Epoch 16/80\n",
      "800/800 [==============================] - 0s - loss: 0.0028 - val_loss: 0.1901\n",
      "Epoch 17/80\n",
      "800/800 [==============================] - 0s - loss: 0.0035 - val_loss: 0.1901\n",
      "Epoch 18/80\n",
      "800/800 [==============================] - 0s - loss: 0.0054 - val_loss: 0.1929\n",
      "Epoch 19/80\n",
      "800/800 [==============================] - 0s - loss: 0.0075 - val_loss: 0.1952\n",
      "Epoch 20/80\n",
      "800/800 [==============================] - 0s - loss: 0.0066 - val_loss: 0.1830\n",
      "Epoch 21/80\n",
      "800/800 [==============================] - 0s - loss: 0.0058 - val_loss: 0.1870\n",
      "Epoch 22/80\n",
      "800/800 [==============================] - 0s - loss: 0.0057 - val_loss: 0.1884\n",
      "Epoch 23/80\n",
      "800/800 [==============================] - 0s - loss: 0.0050 - val_loss: 0.1877\n",
      "Epoch 24/80\n",
      "800/800 [==============================] - 0s - loss: 0.0049 - val_loss: 0.1838\n",
      "Epoch 25/80\n",
      "800/800 [==============================] - 0s - loss: 0.0052 - val_loss: 0.1859\n",
      "Epoch 26/80\n",
      "800/800 [==============================] - 0s - loss: 0.0052 - val_loss: 0.1861\n",
      "Epoch 27/80\n",
      "800/800 [==============================] - 0s - loss: 0.0043 - val_loss: 0.1860\n",
      "Epoch 28/80\n",
      "800/800 [==============================] - 0s - loss: 0.0033 - val_loss: 0.1957\n",
      "Epoch 29/80\n",
      "800/800 [==============================] - 0s - loss: 0.0040 - val_loss: 0.1872\n",
      "Epoch 30/80\n",
      "800/800 [==============================] - 0s - loss: 0.0057 - val_loss: 0.1969\n",
      "Epoch 31/80\n",
      "800/800 [==============================] - 0s - loss: 0.0050 - val_loss: 0.1860\n",
      "Epoch 32/80\n",
      "800/800 [==============================] - 0s - loss: 0.0041 - val_loss: 0.1896\n",
      "Epoch 33/80\n",
      "800/800 [==============================] - 0s - loss: 0.0035 - val_loss: 0.1803\n",
      "Epoch 34/80\n",
      "800/800 [==============================] - 0s - loss: 0.0036 - val_loss: 0.1870\n",
      "Epoch 35/80\n",
      "800/800 [==============================] - 0s - loss: 0.0026 - val_loss: 0.1855\n",
      "Epoch 36/80\n",
      "800/800 [==============================] - 0s - loss: 0.0025 - val_loss: 0.1863\n",
      "Epoch 37/80\n",
      "800/800 [==============================] - 0s - loss: 0.0024 - val_loss: 0.1863\n",
      "Epoch 38/80\n",
      "800/800 [==============================] - 0s - loss: 0.0028 - val_loss: 0.1911\n",
      "Epoch 39/80\n",
      "800/800 [==============================] - 0s - loss: 0.0034 - val_loss: 0.1944\n",
      "Epoch 40/80\n",
      "800/800 [==============================] - 0s - loss: 0.0030 - val_loss: 0.1988\n",
      "Epoch 41/80\n",
      "800/800 [==============================] - 0s - loss: 0.0030 - val_loss: 0.1925\n",
      "Epoch 42/80\n",
      "800/800 [==============================] - 0s - loss: 0.0028 - val_loss: 0.1875\n",
      "Epoch 43/80\n",
      "800/800 [==============================] - 0s - loss: 0.0025 - val_loss: 0.1875\n",
      "Epoch 44/80\n",
      "800/800 [==============================] - 0s - loss: 0.0030 - val_loss: 0.1893\n",
      "Epoch 45/80\n",
      "800/800 [==============================] - 0s - loss: 0.0045 - val_loss: 0.1949\n",
      "Epoch 46/80\n",
      "800/800 [==============================] - 0s - loss: 0.0043 - val_loss: 0.1890\n",
      "Epoch 47/80\n",
      "800/800 [==============================] - 0s - loss: 0.0042 - val_loss: 0.1924\n",
      "Epoch 48/80\n",
      "800/800 [==============================] - 0s - loss: 0.0065 - val_loss: 0.1850\n",
      "Epoch 49/80\n",
      "800/800 [==============================] - 0s - loss: 0.0082 - val_loss: 0.1827\n",
      "Epoch 50/80\n",
      "800/800 [==============================] - 0s - loss: 0.0148 - val_loss: 0.1979\n",
      "Epoch 51/80\n",
      "800/800 [==============================] - 0s - loss: 0.0125 - val_loss: 0.1774\n",
      "Epoch 52/80\n",
      "800/800 [==============================] - 0s - loss: 0.0087 - val_loss: 0.1715\n",
      "Epoch 53/80\n",
      "800/800 [==============================] - 0s - loss: 0.0067 - val_loss: 0.1756\n",
      "Epoch 54/80\n",
      "800/800 [==============================] - 0s - loss: 0.0056 - val_loss: 0.1726\n",
      "Epoch 55/80\n",
      "800/800 [==============================] - 0s - loss: 0.0045 - val_loss: 0.1712\n",
      "Epoch 56/80\n",
      "800/800 [==============================] - 0s - loss: 0.0043 - val_loss: 0.1809\n",
      "Epoch 57/80\n",
      "800/800 [==============================] - 0s - loss: 0.0037 - val_loss: 0.1801\n",
      "Epoch 58/80\n",
      "800/800 [==============================] - 0s - loss: 0.0026 - val_loss: 0.1842\n",
      "Epoch 59/80\n",
      "800/800 [==============================] - 0s - loss: 0.0024 - val_loss: 0.1784\n",
      "Epoch 60/80\n",
      "800/800 [==============================] - 0s - loss: 0.0024 - val_loss: 0.1842\n",
      "Epoch 61/80\n",
      "800/800 [==============================] - 0s - loss: 0.0019 - val_loss: 0.1805\n",
      "Epoch 62/80\n",
      "800/800 [==============================] - 0s - loss: 0.0015 - val_loss: 0.1845\n",
      "Epoch 63/80\n",
      "800/800 [==============================] - 0s - loss: 0.0013 - val_loss: 0.1839\n",
      "Epoch 64/80\n",
      "800/800 [==============================] - 0s - loss: 0.0013 - val_loss: 0.1833\n",
      "Epoch 65/80\n",
      "800/800 [==============================] - 0s - loss: 0.0011 - val_loss: 0.1843\n",
      "Epoch 66/80\n",
      "800/800 [==============================] - 0s - loss: 9.8691e-04 - val_loss: 0.1859\n",
      "Epoch 67/80\n",
      "800/800 [==============================] - 0s - loss: 0.0011 - val_loss: 0.1871\n",
      "Epoch 68/80\n",
      "800/800 [==============================] - 0s - loss: 0.0012 - val_loss: 0.1838\n",
      "Epoch 69/80\n",
      "800/800 [==============================] - 0s - loss: 0.0014 - val_loss: 0.1889\n",
      "Epoch 70/80\n",
      "800/800 [==============================] - 0s - loss: 0.0015 - val_loss: 0.1899\n",
      "Epoch 71/80\n",
      "800/800 [==============================] - 0s - loss: 0.0021 - val_loss: 0.1891\n",
      "Epoch 72/80\n",
      "800/800 [==============================] - 0s - loss: 0.0050 - val_loss: 0.1933\n",
      "Epoch 73/80\n",
      "800/800 [==============================] - 0s - loss: 0.0052 - val_loss: 0.1857\n",
      "Epoch 74/80\n",
      "800/800 [==============================] - 0s - loss: 0.0044 - val_loss: 0.1891\n",
      "Epoch 75/80\n",
      "800/800 [==============================] - 0s - loss: 0.0037 - val_loss: 0.1828\n",
      "Epoch 76/80\n",
      "800/800 [==============================] - 0s - loss: 0.0037 - val_loss: 0.1915\n",
      "Epoch 77/80\n",
      "800/800 [==============================] - 0s - loss: 0.0040 - val_loss: 0.1883\n",
      "Epoch 78/80\n",
      "800/800 [==============================] - 0s - loss: 0.0037 - val_loss: 0.1780\n",
      "Epoch 79/80\n",
      "800/800 [==============================] - 0s - loss: 0.0032 - val_loss: 0.1847\n",
      "Epoch 80/80\n",
      "800/800 [==============================] - 0s - loss: 0.0030 - val_loss: 0.1845\n"
     ]
    },
    {
     "data": {
      "text/plain": [
       "<keras.callbacks.History at 0x7f1e8d956590>"
      ]
     },
     "execution_count": 283,
     "metadata": {},
     "output_type": "execute_result"
    }
   ],
   "source": [
    "model1.fit(X, Y, batch_size=50, nb_epoch=80, validation_split=0.2)"
   ]
  },
  {
   "cell_type": "code",
   "execution_count": 284,
   "metadata": {
    "collapsed": false
   },
   "outputs": [
    {
     "data": {
      "image/png": "[encoded data removed]",
      "text/plain": [
       "<matplotlib.figure.Figure at 0x7f1e8a70b850>"
      ]
     },
     "metadata": {},
     "output_type": "display_data"
    }
   ],
   "source": [
    "P = model1.predict(X)\n",
    "\n",
    "import matplotlib.pyplot as plt\n",
    "plt.figure(figsize=(10,7))\n",
    "plt.scatter(Y, P)\n",
    "#plt.plot(Y)\n",
    "#plt.title('model loss')\n",
    "#plt.ylabel('loss')\n",
    "#plt.xlabel('epoch')\n",
    "#plt.legend(['without BN','with BN'], loc='upper right')\n",
    "plt.show()"
   ]
  },
  {
   "cell_type": "code",
   "execution_count": 131,
   "metadata": {
    "collapsed": true
   },
   "outputs": [],
   "source": [
    "def qData(tick='XLU'):\n",
    "    # GOOG/NYSE_XLU.4\n",
    "    # WIKI/MSFT.4\n",
    "    qtck = \"GOOG/NYSE_\"+tick+\".4\"\n",
    "    return quandl.get(qtck,\n",
    "                      start_date=\"2003-01-01\",\n",
    "                      end_date=\"2016-12-31\",\n",
    "                      collapse=\"daily\")"
   ]
  },
  {
   "cell_type": "code",
   "execution_count": 132,
   "metadata": {
    "collapsed": true
   },
   "outputs": [],
   "source": [
    "'''TICKERS = ['MSFT','JPM','INTC','DOW','KO',\n",
    "             'MCD','CAT','WMT','MMM','AXP',\n",
    "             'BA','GE','XOM','PG','JNJ']'''\n",
    "TICKERS = ['XLU','XLF','XLK','XLY','XLV','XLB','XLE','XLP','XLI']"
   ]
  },
  {
   "cell_type": "code",
   "execution_count": 133,
   "metadata": {
    "collapsed": false
   },
   "outputs": [
    {
     "name": "stdout",
     "output_type": "stream",
     "text": [
      "XLU\n",
      "XLF\n",
      "XLK\n",
      "XLY\n",
      "XLV\n",
      "XLB\n",
      "XLE\n",
      "XLP\n",
      "XLI\n"
     ]
    }
   ],
   "source": [
    "try:\n",
    "    D.keys()\n",
    "except:\n",
    "    print('create empty Quandl cache')\n",
    "    D = {}\n",
    "\n",
    "for tckr in TICKERS:\n",
    "    if not(tckr in D.keys()):\n",
    "        print(tckr)\n",
    "        qdt = qData(tckr)\n",
    "        qdt.rename(columns={'Close': tckr}, inplace = True)\n",
    "        D[tckr] = qdt\n",
    "        \n",
    "for tck in D.keys():\n",
    "    assert(D[tck].keys() == [tck])"
   ]
  },
  {
   "cell_type": "code",
   "execution_count": 134,
   "metadata": {
    "collapsed": false
   },
   "outputs": [
    {
     "name": "stdout",
     "output_type": "stream",
     "text": [
      "(3538, 1)\n",
      "(3538, 1)\n",
      "(3538, 1)\n",
      "(3538, 1)\n",
      "(3538, 1)\n",
      "(3538, 1)\n",
      "(3538, 1)\n",
      "(3538, 1)\n",
      "(3538, 1)\n"
     ]
    }
   ],
   "source": [
    "for tck in D.keys():\n",
    "    print(D[tck].shape)"
   ]
  },
  {
   "cell_type": "code",
   "execution_count": 135,
   "metadata": {
    "collapsed": false
   },
   "outputs": [],
   "source": [
    "J = D[TICKERS[0]].join(D[TICKERS[1]])\n",
    "for tck in TICKERS[2:]:\n",
    "    J = J.join(D[tck])"
   ]
  },
  {
   "cell_type": "code",
   "execution_count": 136,
   "metadata": {
    "collapsed": false
   },
   "outputs": [
    {
     "data": {
      "text/html": [
       "<div>\n",
       "<table border=\"1\" class=\"dataframe\">\n",
       "  <thead>\n",
       "    <tr style=\"text-align: right;\">\n",
       "      <th></th>\n",
       "      <th>XLU</th>\n",
       "      <th>XLF</th>\n",
       "      <th>XLK</th>\n",
       "      <th>XLY</th>\n",
       "      <th>XLV</th>\n",
       "      <th>XLB</th>\n",
       "      <th>XLE</th>\n",
       "      <th>XLP</th>\n",
       "      <th>XLI</th>\n",
       "    </tr>\n",
       "    <tr>\n",
       "      <th>Date</th>\n",
       "      <th></th>\n",
       "      <th></th>\n",
       "      <th></th>\n",
       "      <th></th>\n",
       "      <th></th>\n",
       "      <th></th>\n",
       "      <th></th>\n",
       "      <th></th>\n",
       "      <th></th>\n",
       "    </tr>\n",
       "  </thead>\n",
       "  <tbody>\n",
       "    <tr>\n",
       "      <th>2003-01-02</th>\n",
       "      <td>19.60</td>\n",
       "      <td>22.80</td>\n",
       "      <td>15.60</td>\n",
       "      <td>23.98</td>\n",
       "      <td>27.27</td>\n",
       "      <td>20.36</td>\n",
       "      <td>22.80</td>\n",
       "      <td>20.32</td>\n",
       "      <td>21.12</td>\n",
       "    </tr>\n",
       "    <tr>\n",
       "      <th>2003-01-03</th>\n",
       "      <td>19.80</td>\n",
       "      <td>22.78</td>\n",
       "      <td>15.66</td>\n",
       "      <td>23.43</td>\n",
       "      <td>27.55</td>\n",
       "      <td>20.25</td>\n",
       "      <td>22.76</td>\n",
       "      <td>20.30</td>\n",
       "      <td>21.19</td>\n",
       "    </tr>\n",
       "    <tr>\n",
       "      <th>2003-01-06</th>\n",
       "      <td>20.69</td>\n",
       "      <td>23.55</td>\n",
       "      <td>16.35</td>\n",
       "      <td>23.86</td>\n",
       "      <td>27.85</td>\n",
       "      <td>20.64</td>\n",
       "      <td>22.95</td>\n",
       "      <td>20.45</td>\n",
       "      <td>21.38</td>\n",
       "    </tr>\n",
       "    <tr>\n",
       "      <th>2003-01-07</th>\n",
       "      <td>20.24</td>\n",
       "      <td>23.29</td>\n",
       "      <td>16.52</td>\n",
       "      <td>23.73</td>\n",
       "      <td>27.45</td>\n",
       "      <td>20.57</td>\n",
       "      <td>22.20</td>\n",
       "      <td>20.27</td>\n",
       "      <td>21.26</td>\n",
       "    </tr>\n",
       "    <tr>\n",
       "      <th>2003-01-08</th>\n",
       "      <td>20.38</td>\n",
       "      <td>23.05</td>\n",
       "      <td>15.98</td>\n",
       "      <td>23.51</td>\n",
       "      <td>27.24</td>\n",
       "      <td>20.04</td>\n",
       "      <td>21.99</td>\n",
       "      <td>20.15</td>\n",
       "      <td>21.00</td>\n",
       "    </tr>\n",
       "  </tbody>\n",
       "</table>\n",
       "</div>"
      ],
      "text/plain": [
       "              XLU    XLF    XLK    XLY    XLV    XLB    XLE    XLP    XLI\n",
       "Date                                                                     \n",
       "2003-01-02  19.60  22.80  15.60  23.98  27.27  20.36  22.80  20.32  21.12\n",
       "2003-01-03  19.80  22.78  15.66  23.43  27.55  20.25  22.76  20.30  21.19\n",
       "2003-01-06  20.69  23.55  16.35  23.86  27.85  20.64  22.95  20.45  21.38\n",
       "2003-01-07  20.24  23.29  16.52  23.73  27.45  20.57  22.20  20.27  21.26\n",
       "2003-01-08  20.38  23.05  15.98  23.51  27.24  20.04  21.99  20.15  21.00"
      ]
     },
     "execution_count": 136,
     "metadata": {},
     "output_type": "execute_result"
    }
   ],
   "source": [
    "J.head(5)"
   ]
  },
  {
   "cell_type": "code",
   "execution_count": 137,
   "metadata": {
    "collapsed": false
   },
   "outputs": [
    {
     "data": {
      "text/plain": [
       "XLU    0\n",
       "XLF    0\n",
       "XLK    0\n",
       "XLY    0\n",
       "XLV    0\n",
       "XLB    0\n",
       "XLE    0\n",
       "XLP    0\n",
       "XLI    0\n",
       "dtype: int64"
      ]
     },
     "execution_count": 137,
     "metadata": {},
     "output_type": "execute_result"
    }
   ],
   "source": [
    "J.isnull().sum()"
   ]
  },
  {
   "cell_type": "code",
   "execution_count": 138,
   "metadata": {
    "collapsed": true
   },
   "outputs": [],
   "source": [
    "J2 = J.fillna(method='ffill')\n",
    "#J2[J['WMT'].isnull()]"
   ]
  },
  {
   "cell_type": "code",
   "execution_count": 139,
   "metadata": {
    "collapsed": false
   },
   "outputs": [
    {
     "data": {
      "text/plain": [
       "(3537, 9)"
      ]
     },
     "execution_count": 139,
     "metadata": {},
     "output_type": "execute_result"
    }
   ],
   "source": [
    "LogDiffJ = J2.apply(np.log).diff(periods=1, axis=0)\n",
    "LogDiffJ.drop(LogDiffJ.index[0:1], inplace=True)\n",
    "LogDiffJ.shape"
   ]
  },
  {
   "cell_type": "code",
   "execution_count": 140,
   "metadata": {
    "collapsed": false
   },
   "outputs": [
    {
     "data": {
      "text/plain": [
       "(3537, 9)"
      ]
     },
     "execution_count": 140,
     "metadata": {},
     "output_type": "execute_result"
    }
   ],
   "source": [
    "MktData = LogDiffJ.as_matrix(columns=None) # as numpy.array\n",
    "MktData.shape"
   ]
  },
  {
   "cell_type": "code",
   "execution_count": 250,
   "metadata": {
    "collapsed": true
   },
   "outputs": [],
   "source": [
    "model2 = builder() # will be trained on market data"
   ]
  },
  {
   "cell_type": "code",
   "execution_count": 251,
   "metadata": {
    "collapsed": false
   },
   "outputs": [],
   "source": [
    "if True:\n",
    "    AllXs = []\n",
    "    AllYs = []\n",
    "    for i in range(500):\n",
    "        t = np.random.randint(50, MktData.shape[0]-100) # an offset for whole historics\n",
    "        Xs = []\n",
    "        for stp in range(20):\n",
    "            Xs.append( MktData[t+stp,:].reshape(1,1,-1)*100 ) # one slice of stock returns\n",
    "        futurevol = math.sqrt(np.sum(MktData[t+20:t+20+10,:]*MktData[t+20:t+20+10,:]))*100\n",
    "        #print(futurevol)\n",
    "        AllXs.append( np.concatenate(Xs, axis=1) )\n",
    "        AllYs.append( np.array([futurevol]).reshape((1,1)) )\n",
    "    X = np.concatenate(AllXs, axis=0)\n",
    "    Y = np.concatenate(AllYs, axis=0)"
   ]
  },
  {
   "cell_type": "code",
   "execution_count": 252,
   "metadata": {
    "collapsed": false
   },
   "outputs": [
    {
     "data": {
      "text/plain": [
       "((500, 20, 9), (500, 1))"
      ]
     },
     "execution_count": 252,
     "metadata": {},
     "output_type": "execute_result"
    }
   ],
   "source": [
    "X.shape, Y.shape"
   ]
  },
  {
   "cell_type": "code",
   "execution_count": 253,
   "metadata": {
    "collapsed": false
   },
   "outputs": [
    {
     "name": "stdout",
     "output_type": "stream",
     "text": [
      "-18.2321556794 0.0221144715492 15.250350436\n",
      "3.97565492944 11.8459606382 51.9805745241\n"
     ]
    }
   ],
   "source": [
    "print(np.min(X), np.mean(X), np.max(X))\n",
    "print(np.min(Y), np.mean(Y), np.max(Y))"
   ]
  },
  {
   "cell_type": "code",
   "execution_count": 254,
   "metadata": {
    "collapsed": false
   },
   "outputs": [
    {
     "data": {
      "text/plain": [
       "(11.845960638187094, 11.688729323447399)"
      ]
     },
     "execution_count": 254,
     "metadata": {},
     "output_type": "execute_result"
    }
   ],
   "source": [
    "Yc = np.clip(Y, 0, 3*np.mean(Y))\n",
    "np.mean(Y), np.mean(Yc)"
   ]
  },
  {
   "cell_type": "code",
   "execution_count": 255,
   "metadata": {
    "collapsed": true
   },
   "outputs": [],
   "source": [
    "# WARNING : need to scale data to speed up training !!!\n",
    "factorX = 0.20\n",
    "factorY = 0.10"
   ]
  },
  {
   "cell_type": "markdown",
   "metadata": {},
   "source": [
    "## WARNING : **VALIDATION** should be posterior only"
   ]
  },
  {
   "cell_type": "code",
   "execution_count": 270,
   "metadata": {
    "collapsed": false,
    "scrolled": false
   },
   "outputs": [
    {
     "name": "stdout",
     "output_type": "stream",
     "text": [
      "Train on 400 samples, validate on 100 samples\n",
      "Epoch 1/25\n",
      "400/400 [==============================] - 0s - loss: 0.0117 - val_loss: 0.0516\n",
      "Epoch 2/25\n",
      "400/400 [==============================] - 0s - loss: 0.0119 - val_loss: 0.0519\n",
      "Epoch 3/25\n",
      "400/400 [==============================] - 0s - loss: 0.0112 - val_loss: 0.0504\n",
      "Epoch 4/25\n",
      "400/400 [==============================] - 0s - loss: 0.0108 - val_loss: 0.0523\n",
      "Epoch 5/25\n",
      "400/400 [==============================] - 0s - loss: 0.0105 - val_loss: 0.0489\n",
      "Epoch 6/25\n",
      "400/400 [==============================] - 0s - loss: 0.0111 - val_loss: 0.0509\n",
      "Epoch 7/25\n",
      "400/400 [==============================] - 0s - loss: 0.0112 - val_loss: 0.0500\n",
      "Epoch 8/25\n",
      "400/400 [==============================] - 0s - loss: 0.0107 - val_loss: 0.0513\n",
      "Epoch 9/25\n",
      "400/400 [==============================] - 0s - loss: 0.0103 - val_loss: 0.0500\n",
      "Epoch 10/25\n",
      "400/400 [==============================] - 0s - loss: 0.0099 - val_loss: 0.0500\n",
      "Epoch 11/25\n",
      "400/400 [==============================] - 0s - loss: 0.0098 - val_loss: 0.0497\n",
      "Epoch 12/25\n",
      "400/400 [==============================] - 0s - loss: 0.0095 - val_loss: 0.0496\n",
      "Epoch 13/25\n",
      "400/400 [==============================] - 0s - loss: 0.0095 - val_loss: 0.0489\n",
      "Epoch 14/25\n",
      "400/400 [==============================] - 0s - loss: 0.0099 - val_loss: 0.0491\n",
      "Epoch 15/25\n",
      "400/400 [==============================] - 0s - loss: 0.0103 - val_loss: 0.0510\n",
      "Epoch 16/25\n",
      "400/400 [==============================] - 0s - loss: 0.0097 - val_loss: 0.0487\n",
      "Epoch 17/25\n",
      "400/400 [==============================] - 0s - loss: 0.0094 - val_loss: 0.0491\n",
      "Epoch 18/25\n",
      "400/400 [==============================] - 0s - loss: 0.0092 - val_loss: 0.0497\n",
      "Epoch 19/25\n",
      "400/400 [==============================] - 0s - loss: 0.0091 - val_loss: 0.0495\n",
      "Epoch 20/25\n",
      "400/400 [==============================] - 0s - loss: 0.0095 - val_loss: 0.0489\n",
      "Epoch 21/25\n",
      "400/400 [==============================] - 0s - loss: 0.0090 - val_loss: 0.0492\n",
      "Epoch 22/25\n",
      "400/400 [==============================] - 0s - loss: 0.0090 - val_loss: 0.0490\n",
      "Epoch 23/25\n",
      "400/400 [==============================] - 0s - loss: 0.0089 - val_loss: 0.0500\n",
      "Epoch 24/25\n",
      "400/400 [==============================] - 0s - loss: 0.0091 - val_loss: 0.0493\n",
      "Epoch 25/25\n",
      "400/400 [==============================] - 0s - loss: 0.0090 - val_loss: 0.0483\n"
     ]
    },
    {
     "data": {
      "text/plain": [
       "<keras.callbacks.History at 0x7f1e8e371e90>"
      ]
     },
     "execution_count": 270,
     "metadata": {},
     "output_type": "execute_result"
    }
   ],
   "source": [
    "# seems like 150 epochs are required to converge : BUG ?\n",
    "model2.optimizer.lr = 1e-4\n",
    "model2.fit(factorX*X, factorY*Yc, batch_size=50, nb_epoch=25, validation_split=0.2)"
   ]
  },
  {
   "cell_type": "code",
   "execution_count": 273,
   "metadata": {
    "collapsed": false
   },
   "outputs": [
    {
     "data": {
      "image/png": "[encoded data removed]",
      "text/plain": [
       "<matplotlib.figure.Figure at 0x7f1e8da6a310>"
      ]
     },
     "metadata": {},
     "output_type": "display_data"
    }
   ],
   "source": [
    "P = model2.predict(factorX*X)/factorY\n",
    "\n",
    "import matplotlib.pyplot as plt\n",
    "plt.figure(figsize=(10,7))\n",
    "plt.scatter(Yc, P)\n",
    "#plt.plot(Y)\n",
    "#plt.title('model loss')\n",
    "#plt.ylabel('loss')\n",
    "#plt.xlabel('epoch')\n",
    "plt.legend(['clipped real vol','model vol'], loc='lower right')\n",
    "plt.show()"
   ]
  },
  {
   "cell_type": "code",
   "execution_count": null,
   "metadata": {
    "collapsed": true
   },
   "outputs": [],
   "source": []
  }
 ],
 "metadata": {
  "kernelspec": {
   "display_name": "Python 2",
   "language": "python",
   "name": "python2"
  },
  "language_info": {
   "codemirror_mode": {
    "name": "ipython",
    "version": 2
   },
   "file_extension": ".py",
   "mimetype": "text/x-python",
   "name": "python",
   "nbconvert_exporter": "python",
   "pygments_lexer": "ipython2",
   "version": "2.7.11"
  }
 },
 "nbformat": 4,
 "nbformat_minor": 0
}
