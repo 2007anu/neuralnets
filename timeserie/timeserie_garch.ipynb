{
 "cells": [
  {
   "cell_type": "code",
   "execution_count": 1,
   "metadata": {
    "collapsed": false
   },
   "outputs": [
    {
     "name": "stderr",
     "output_type": "stream",
     "text": [
      "Using gpu device 0: Tesla K80 (CNMeM is disabled, cuDNN Version is too old. Update to v5, was 3007.)\n"
     ]
    }
   ],
   "source": [
    "from theano.sandbox import cuda"
   ]
  },
  {
   "cell_type": "code",
   "execution_count": 2,
   "metadata": {
    "collapsed": false
   },
   "outputs": [],
   "source": [
    "%matplotlib inline\n",
    "from __future__ import division, print_function"
   ]
  },
  {
   "cell_type": "code",
   "execution_count": 3,
   "metadata": {
    "collapsed": true
   },
   "outputs": [],
   "source": [
    "import math\n",
    "import numpy as np\n",
    "import random\n",
    "import sys\n",
    "\n",
    "from numpy.random import normal\n",
    "import matplotlib.pyplot as plt"
   ]
  },
  {
   "cell_type": "code",
   "execution_count": 4,
   "metadata": {
    "collapsed": false
   },
   "outputs": [
    {
     "name": "stderr",
     "output_type": "stream",
     "text": [
      "Using Theano backend.\n"
     ]
    }
   ],
   "source": [
    "from keras.preprocessing.sequence import pad_sequences\n",
    "from keras.layers import Input, Dense, Embedding, Activation, merge, Flatten, Dropout, Lambda\n",
    "from keras.layers import LSTM, SimpleRNN, TimeDistributed\n",
    "from keras.models import Model, Sequential\n",
    "from keras.layers.merge import Add, add\n",
    "from keras.layers.normalization import BatchNormalization\n",
    "from keras.optimizers import SGD, RMSprop, Adam\n",
    "from keras.constraints import nonneg\n",
    "from keras.layers.convolutional import *\n",
    "from keras import backend as K\n",
    "from keras.utils.data_utils import get_file"
   ]
  },
  {
   "cell_type": "code",
   "execution_count": 82,
   "metadata": {
    "collapsed": true
   },
   "outputs": [],
   "source": [
    "look_back = 12\n",
    "batch_size = 16"
   ]
  },
  {
   "cell_type": "code",
   "execution_count": 83,
   "metadata": {
    "collapsed": true
   },
   "outputs": [],
   "source": [
    "def mllklh(args): # minus log-likelihood of gaussian\n",
    "    var_t, eps2_t = args\n",
    "    return 0.5*math.log(2*math.pi) + 0.5*K.log(var_t)  + 0.5*(eps2_t/var_t)"
   ]
  },
  {
   "cell_type": "code",
   "execution_count": 84,
   "metadata": {
    "collapsed": false
   },
   "outputs": [
    {
     "data": {
      "text/plain": [
       "\"lag = 10\\n\\nhdim = 1\\n    \\ninputs = [Input(shape=(1,), dtype='float32') for i in range(lag)]\\n    \\nSquare = Lambda(lambda x:x*x, output_shape=(1,))\\n\\nDi2h = Dense(hdim, activation=None)\\nDh2h = Dense(hdim, activation=None, kernel_initializer='identity')\\n\\n#hidden = ... CONSTANT ZERO TENSOR IN KERAS ?\\n\\ne = Di2h(Square(inputs[0]))\\nhidden = e\\nfor i in range(1,lag-1): # WARNING\\n    e = Di2h(Square(inputs[i]))\\n    #hidden = merge([e, Dh2h(hidden)], mode='sum')\\n    hidden = add([e, Dh2h(hidden)])\\n    \\n#predictions = Dense(len(chars), activation='softmax')(hidden)\\n\\npredvar = Lambda(lambda x:K.abs(x)+0.000001, output_shape=(1,))([hidden]) # insure positive var\\n    \\nerror = Lambda(mllklh, output_shape=(1,))([predvar,Square(inputs[-1])])\\n\\nmodelUNR = Model(inputs=inputs, outputs=error) # un-rolled model\\n    \\ndef special_loss(dummy, errorterms):\\n        return errorterms\\n\\nmodelUNR.compile(optimizer=Adam(1e-3), loss=special_loss)\""
      ]
     },
     "execution_count": 84,
     "metadata": {},
     "output_type": "execute_result"
    }
   ],
   "source": [
    "'''lag = 10\n",
    "\n",
    "hdim = 1\n",
    "    \n",
    "inputs = [Input(shape=(1,), dtype='float32') for i in range(lag)]\n",
    "    \n",
    "Square = Lambda(lambda x:x*x, output_shape=(1,))\n",
    "\n",
    "Di2h = Dense(hdim, activation=None)\n",
    "Dh2h = Dense(hdim, activation=None, kernel_initializer='identity')\n",
    "\n",
    "#hidden = ... CONSTANT ZERO TENSOR IN KERAS ?\n",
    "\n",
    "e = Di2h(Square(inputs[0]))\n",
    "hidden = e\n",
    "for i in range(1,lag-1): # WARNING\n",
    "    e = Di2h(Square(inputs[i]))\n",
    "    #hidden = merge([e, Dh2h(hidden)], mode='sum')\n",
    "    hidden = add([e, Dh2h(hidden)])\n",
    "    \n",
    "#predictions = Dense(len(chars), activation='softmax')(hidden)\n",
    "\n",
    "predvar = Lambda(lambda x:K.abs(x)+0.000001, output_shape=(1,))([hidden]) # insure positive var\n",
    "    \n",
    "error = Lambda(mllklh, output_shape=(1,))([predvar,Square(inputs[-1])])\n",
    "\n",
    "modelUNR = Model(inputs=inputs, outputs=error) # un-rolled model\n",
    "    \n",
    "def special_loss(dummy, errorterms):\n",
    "        return errorterms\n",
    "\n",
    "modelUNR.compile(optimizer=Adam(1e-3), loss=special_loss)'''"
   ]
  },
  {
   "cell_type": "code",
   "execution_count": 85,
   "metadata": {
    "collapsed": false
   },
   "outputs": [],
   "source": [
    "#len(Xs), Xs[0].shape, modelUNR.predict([X[10:15,0] for X in Xs]).shape"
   ]
  },
  {
   "cell_type": "code",
   "execution_count": 86,
   "metadata": {
    "collapsed": false
   },
   "outputs": [],
   "source": [
    "#modelUNR.predict([X[50:60,0] for X in Xs])"
   ]
  },
  {
   "cell_type": "code",
   "execution_count": 87,
   "metadata": {
    "collapsed": false
   },
   "outputs": [],
   "source": [
    "#modelUNRV = Model(input=inputs, output=predvar)\n",
    "#np.sqrt(modelUNRV.predict([X[50:60,0] for X in Xs])*255)"
   ]
  },
  {
   "cell_type": "markdown",
   "metadata": {},
   "source": [
    "### RNN architecture : 2 models that share same weights"
   ]
  },
  {
   "cell_type": "code",
   "execution_count": 88,
   "metadata": {
    "collapsed": false
   },
   "outputs": [],
   "source": [
    "MatPlus = np.zeros((look_back-1,look_back))\n",
    "MatPlus[:,1:] = np.eye(look_back-1)\n",
    "#print(MatPlus)\n",
    "\n",
    "MatMinus = np.zeros((look_back-1,look_back))\n",
    "MatMinus[:,:-1] = np.eye(look_back-1)\n",
    "#print(MatMinus)"
   ]
  },
  {
   "cell_type": "code",
   "execution_count": 89,
   "metadata": {
    "collapsed": true
   },
   "outputs": [],
   "source": [
    "Dplus = Dense(look_back-1,\n",
    "              weights=[MatPlus.T, np.zeros((look_back-1,))],\n",
    "              input_dim=look_back)\n",
    "Dplus.trainable = False\n",
    "\n",
    "Dminus = Dense(look_back-1,\n",
    "              weights=[MatMinus.T, np.zeros((look_back-1,))],\n",
    "              input_dim=look_back)\n",
    "Dminus.trainable = False"
   ]
  },
  {
   "cell_type": "code",
   "execution_count": 150,
   "metadata": {
    "collapsed": false
   },
   "outputs": [],
   "source": [
    "I = Input(batch_shape=(batch_size, look_back,1), dtype='float32')\n",
    "I2 = Lambda(lambda x : K.square(x), output_shape=(look_back,1))(I)\n",
    "rnn = SimpleRNN(return_sequences=True, unroll=False,\n",
    "                units=1, input_shape=(look_back, 1),\n",
    "                bias_constraint=nonneg(), # insure positive var\n",
    "                kernel_constraint=nonneg(), # insure positive var\n",
    "                recurrent_constraint=nonneg(), # insure positive var\n",
    "                activation=None,\n",
    "                stateful=True) \n",
    "O1 = rnn(I2)\n",
    "O1f = Flatten()(O1)\n",
    "O1m = Dminus(O1f)\n",
    "\n",
    "V = Lambda(lambda x : K.sqrt(x), output_shape=(look_back,))(O1f) # get volatility\n",
    "\n",
    "I2f = Flatten()(I2)\n",
    "I2p = Dplus(I2f)\n",
    "\n",
    "Errors = Lambda(mllklh, output_shape=(look_back-1,))([O1m,I2p])\n",
    "\n",
    "Error = Lambda(lambda x : K.sum(x, axis=1), output_shape=(look_back-1,))(Errors)\n",
    "\n",
    "modelT = Model(inputs=I, outputs=Errors) # training model\n",
    "\n",
    "def special_loss(dummy, errorterms):\n",
    "    return errorterms\n",
    "\n",
    "modelT.compile(optimizer='adadelta', loss=special_loss)\n",
    "\n",
    "modelV = Model(inputs=I, outputs=V) # simulation model"
   ]
  },
  {
   "cell_type": "code",
   "execution_count": 151,
   "metadata": {
    "collapsed": false
   },
   "outputs": [
    {
     "data": {
      "text/plain": [
       "((12, 11), (11,))"
      ]
     },
     "execution_count": 151,
     "metadata": {},
     "output_type": "execute_result"
    }
   ],
   "source": [
    "Dplus.get_weights()[0].shape, Dplus.get_weights()[1].shape"
   ]
  },
  {
   "cell_type": "code",
   "execution_count": 152,
   "metadata": {
    "collapsed": false
   },
   "outputs": [
    {
     "data": {
      "text/plain": [
       "((16, 12, 1), (16, 12, 1), (16, 12, 1), (16, 12), (16, 12), (16, 11), (16, 11))"
      ]
     },
     "execution_count": 152,
     "metadata": {},
     "output_type": "execute_result"
    }
   ],
   "source": [
    "I._keras_shape, I2._keras_shape, O1._keras_shape, O1f._keras_shape, V._keras_shape, Errors._keras_shape, Error._keras_shape"
   ]
  },
  {
   "cell_type": "code",
   "execution_count": 153,
   "metadata": {
    "collapsed": false
   },
   "outputs": [
    {
     "name": "stdout",
     "output_type": "stream",
     "text": [
      "(16, 12, 1)\n",
      "(16, 12, 1)\n",
      "(16, 12)\n",
      "(16, 12)\n",
      "(16, 11)\n",
      "(16,)\n",
      "(16, 11)\n",
      "(16, 12)\n"
     ]
    }
   ],
   "source": [
    "onearr = np.ones((batch_size, look_back, 1)).astype('float32')\n",
    "print(I2.eval({I:onearr}).shape)\n",
    "print(O1.eval({I:onearr}).shape)\n",
    "print(O1f.eval({I:onearr}).shape)\n",
    "print(V.eval({I:onearr}).shape)\n",
    "print(Errors.eval({I:onearr}).shape)\n",
    "print(Error.eval({I:onearr}).shape)\n",
    "print(modelT.predict(onearr).shape)\n",
    "print(modelV.predict(onearr).shape)"
   ]
  },
  {
   "cell_type": "code",
   "execution_count": 154,
   "metadata": {
    "collapsed": false
   },
   "outputs": [
    {
     "name": "stdout",
     "output_type": "stream",
     "text": [
      "[[  3.16667366   5.16667366   7.16667366   9.16667366  11.16667366\n",
      "   13.16667366  15.16667366  17.16667366  19.16667366  21.16667366\n",
      "   23.16667366  25.16667366]\n",
      " [  3.16667366   5.16667366   7.16667366   9.16667366  11.16667366\n",
      "   13.16667366  15.16667366  17.16667366  19.16667366  21.16667366\n",
      "   23.16667366  25.16667366]\n",
      " [  3.16667366   5.16667366   7.16667366   9.16667366  11.16667366\n",
      "   13.16667366  15.16667366  17.16667366  19.16667366  21.16667366\n",
      "   23.16667366  25.16667366]\n",
      " [  3.16667366   5.16667366   7.16667366   9.16667366  11.16667366\n",
      "   13.16667366  15.16667366  17.16667366  19.16667366  21.16667366\n",
      "   23.16667366  25.16667366]\n",
      " [  3.16667366   5.16667366   7.16667366   9.16667366  11.16667366\n",
      "   13.16667366  15.16667366  17.16667366  19.16667366  21.16667366\n",
      "   23.16667366  25.16667366]\n",
      " [  3.16667366   5.16667366   7.16667366   9.16667366  11.16667366\n",
      "   13.16667366  15.16667366  17.16667366  19.16667366  21.16667366\n",
      "   23.16667366  25.16667366]\n",
      " [  3.16667366   5.16667366   7.16667366   9.16667366  11.16667366\n",
      "   13.16667366  15.16667366  17.16667366  19.16667366  21.16667366\n",
      "   23.16667366  25.16667366]\n",
      " [  3.16667366   5.16667366   7.16667366   9.16667366  11.16667366\n",
      "   13.16667366  15.16667366  17.16667366  19.16667366  21.16667366\n",
      "   23.16667366  25.16667366]\n",
      " [  3.16667366   5.16667366   7.16667366   9.16667366  11.16667366\n",
      "   13.16667366  15.16667366  17.16667366  19.16667366  21.16667366\n",
      "   23.16667366  25.16667366]\n",
      " [  3.16667366   5.16667366   7.16667366   9.16667366  11.16667366\n",
      "   13.16667366  15.16667366  17.16667366  19.16667366  21.16667366\n",
      "   23.16667366  25.16667366]\n",
      " [  3.16667366   5.16667366   7.16667366   9.16667366  11.16667366\n",
      "   13.16667366  15.16667366  17.16667366  19.16667366  21.16667366\n",
      "   23.16667366  25.16667366]\n",
      " [  3.16667366   5.16667366   7.16667366   9.16667366  11.16667366\n",
      "   13.16667366  15.16667366  17.16667366  19.16667366  21.16667366\n",
      "   23.16667366  25.16667366]\n",
      " [  3.16667366   5.16667366   7.16667366   9.16667366  11.16667366\n",
      "   13.16667366  15.16667366  17.16667366  19.16667366  21.16667366\n",
      "   23.16667366  25.16667366]\n",
      " [  3.16667366   5.16667366   7.16667366   9.16667366  11.16667366\n",
      "   13.16667366  15.16667366  17.16667366  19.16667366  21.16667366\n",
      "   23.16667366  25.16667366]\n",
      " [  3.16667366   5.16667366   7.16667366   9.16667366  11.16667366\n",
      "   13.16667366  15.16667366  17.16667366  19.16667366  21.16667366\n",
      "   23.16667366  25.16667366]\n",
      " [  3.16667366   5.16667366   7.16667366   9.16667366  11.16667366\n",
      "   13.16667366  15.16667366  17.16667366  19.16667366  21.16667366\n",
      "   23.16667366  25.16667366]]\n",
      "[[  3.16667366   5.16667366   7.16667366   9.16667366  11.16667366\n",
      "   13.16667366  15.16667366  17.16667366  19.16667366  21.16667366\n",
      "   23.16667366]\n",
      " [  3.16667366   5.16667366   7.16667366   9.16667366  11.16667366\n",
      "   13.16667366  15.16667366  17.16667366  19.16667366  21.16667366\n",
      "   23.16667366]\n",
      " [  3.16667366   5.16667366   7.16667366   9.16667366  11.16667366\n",
      "   13.16667366  15.16667366  17.16667366  19.16667366  21.16667366\n",
      "   23.16667366]\n",
      " [  3.16667366   5.16667366   7.16667366   9.16667366  11.16667366\n",
      "   13.16667366  15.16667366  17.16667366  19.16667366  21.16667366\n",
      "   23.16667366]\n",
      " [  3.16667366   5.16667366   7.16667366   9.16667366  11.16667366\n",
      "   13.16667366  15.16667366  17.16667366  19.16667366  21.16667366\n",
      "   23.16667366]\n",
      " [  3.16667366   5.16667366   7.16667366   9.16667366  11.16667366\n",
      "   13.16667366  15.16667366  17.16667366  19.16667366  21.16667366\n",
      "   23.16667366]\n",
      " [  3.16667366   5.16667366   7.16667366   9.16667366  11.16667366\n",
      "   13.16667366  15.16667366  17.16667366  19.16667366  21.16667366\n",
      "   23.16667366]\n",
      " [  3.16667366   5.16667366   7.16667366   9.16667366  11.16667366\n",
      "   13.16667366  15.16667366  17.16667366  19.16667366  21.16667366\n",
      "   23.16667366]\n",
      " [  3.16667366   5.16667366   7.16667366   9.16667366  11.16667366\n",
      "   13.16667366  15.16667366  17.16667366  19.16667366  21.16667366\n",
      "   23.16667366]\n",
      " [  3.16667366   5.16667366   7.16667366   9.16667366  11.16667366\n",
      "   13.16667366  15.16667366  17.16667366  19.16667366  21.16667366\n",
      "   23.16667366]\n",
      " [  3.16667366   5.16667366   7.16667366   9.16667366  11.16667366\n",
      "   13.16667366  15.16667366  17.16667366  19.16667366  21.16667366\n",
      "   23.16667366]\n",
      " [  3.16667366   5.16667366   7.16667366   9.16667366  11.16667366\n",
      "   13.16667366  15.16667366  17.16667366  19.16667366  21.16667366\n",
      "   23.16667366]\n",
      " [  3.16667366   5.16667366   7.16667366   9.16667366  11.16667366\n",
      "   13.16667366  15.16667366  17.16667366  19.16667366  21.16667366\n",
      "   23.16667366]\n",
      " [  3.16667366   5.16667366   7.16667366   9.16667366  11.16667366\n",
      "   13.16667366  15.16667366  17.16667366  19.16667366  21.16667366\n",
      "   23.16667366]\n",
      " [  3.16667366   5.16667366   7.16667366   9.16667366  11.16667366\n",
      "   13.16667366  15.16667366  17.16667366  19.16667366  21.16667366\n",
      "   23.16667366]\n",
      " [  3.16667366   5.16667366   7.16667366   9.16667366  11.16667366\n",
      "   13.16667366  15.16667366  17.16667366  19.16667366  21.16667366\n",
      "   23.16667366]]\n"
     ]
    }
   ],
   "source": [
    "rnn(I2).eval({I:onearr}) # dry run to allow weight setting\n",
    "rnn.set_weights([np.array([[0.5]]),np.array([[1]]),np.array([1.5])])\n",
    "print( O1f.eval({I:onearr}) )\n",
    "print( O1m.eval({I:onearr}) )"
   ]
  },
  {
   "cell_type": "code",
   "execution_count": 155,
   "metadata": {
    "collapsed": false
   },
   "outputs": [],
   "source": [
    "#print( I2f.eval({I:onearr}) )\n",
    "#print( I2p.eval({I:onearr}) )"
   ]
  },
  {
   "cell_type": "code",
   "execution_count": 156,
   "metadata": {
    "collapsed": false
   },
   "outputs": [
    {
     "data": {
      "text/plain": [
       "(16,)"
      ]
     },
     "execution_count": 156,
     "metadata": {},
     "output_type": "execute_result"
    }
   ],
   "source": [
    "#model.predict(onearr).shape\n",
    "Error.eval({I:onearr}).shape"
   ]
  },
  {
   "cell_type": "code",
   "execution_count": 157,
   "metadata": {
    "collapsed": false
   },
   "outputs": [
    {
     "data": {
      "text/plain": [
       "\"It = Input(shape=(look_back,1), dtype='float32')\\nRNNt = SimpleRNN(activation=None, return_sequences=True, unroll=False, units=1, input_shape=(look_back, 1))\\n\\nRNNt(It).eval({It:onearr}) # dry run to allow weight setting\\n\\nRNNt.set_weights([np.array([[0.5]]),np.array([[1.]]),np.array([3.])])\\nRNNt(It).eval({It:onearr})\""
      ]
     },
     "execution_count": 157,
     "metadata": {},
     "output_type": "execute_result"
    }
   ],
   "source": [
    "'''It = Input(shape=(look_back,1), dtype='float32')\n",
    "RNNt = SimpleRNN(activation=None, return_sequences=True, unroll=False, units=1, input_shape=(look_back, 1))\n",
    "\n",
    "RNNt(It).eval({It:onearr}) # dry run to allow weight setting\n",
    "\n",
    "RNNt.set_weights([np.array([[0.5]]),np.array([[1.]]),np.array([3.])])\n",
    "RNNt(It).eval({It:onearr})'''"
   ]
  },
  {
   "cell_type": "code",
   "execution_count": 158,
   "metadata": {
    "collapsed": false
   },
   "outputs": [],
   "source": [
    "#RNNt.states"
   ]
  },
  {
   "cell_type": "code",
   "execution_count": 159,
   "metadata": {
    "collapsed": false
   },
   "outputs": [
    {
     "name": "stdout",
     "output_type": "stream",
     "text": [
      "____________________________________________________________________________________________________\n",
      "Layer (type)                     Output Shape          Param #     Connected to                     \n",
      "====================================================================================================\n",
      "input_10 (InputLayer)            (16, 12, 1)           0                                            \n",
      "____________________________________________________________________________________________________\n",
      "lambda_34 (Lambda)               (16, 12, 1)           0                                            \n",
      "____________________________________________________________________________________________________\n",
      "simple_rnn_10 (SimpleRNN)        (16, 12, 1)           3                                            \n",
      "____________________________________________________________________________________________________\n",
      "flatten_17 (Flatten)             (16, 12)              0                                            \n",
      "____________________________________________________________________________________________________\n",
      "flatten_18 (Flatten)             (16, 12)              0                                            \n",
      "____________________________________________________________________________________________________\n",
      "dense_8 (Dense)                  (16, 11)              143                                          \n",
      "____________________________________________________________________________________________________\n",
      "dense_7 (Dense)                  (16, 11)              143                                          \n",
      "____________________________________________________________________________________________________\n",
      "lambda_36 (Lambda)               (16, 11)              0                                            \n",
      "====================================================================================================\n",
      "Total params: 289.0\n",
      "Trainable params: 3.0\n",
      "Non-trainable params: 286.0\n",
      "____________________________________________________________________________________________________\n"
     ]
    }
   ],
   "source": [
    "modelT.summary()"
   ]
  },
  {
   "cell_type": "markdown",
   "metadata": {},
   "source": [
    "#### Manually specify a GARCH model"
   ]
  },
  {
   "cell_type": "code",
   "execution_count": 177,
   "metadata": {
    "collapsed": false
   },
   "outputs": [
    {
     "name": "stdout",
     "output_type": "stream",
     "text": [
      "0.0874642784227\n"
     ]
    }
   ],
   "source": [
    "kappa = 0.000003\n",
    "alpha = 0.45\n",
    "beta = 0.45\n",
    "lvar = kappa / (1-alpha-beta)\n",
    "print(math.sqrt(lvar)*math.sqrt(255))"
   ]
  },
  {
   "cell_type": "markdown",
   "metadata": {},
   "source": [
    "#### Copy the known GARCH parameters as initial weights for the RNN"
   ]
  },
  {
   "cell_type": "code",
   "execution_count": 178,
   "metadata": {
    "collapsed": false
   },
   "outputs": [
    {
     "data": {
      "text/plain": [
       "0.00547722557505166"
      ]
     },
     "execution_count": 178,
     "metadata": {},
     "output_type": "execute_result"
    }
   ],
   "source": [
    "math.sqrt(lvar) # standard deviation of simulated data set"
   ]
  },
  {
   "cell_type": "code",
   "execution_count": 179,
   "metadata": {
    "collapsed": true
   },
   "outputs": [],
   "source": [
    "F = 1/math.sqrt(lvar) # will have to scale training data by F and Kappa by F^2 (alpha and beta unchanged)"
   ]
  },
  {
   "cell_type": "code",
   "execution_count": 180,
   "metadata": {
    "collapsed": false
   },
   "outputs": [],
   "source": [
    "rnn(I2).eval({I:onearr}) # dry run to allow weight setting\n",
    "rnn.set_weights([np.array([[beta]]),np.array([[alpha]]),np.array([kappa])*F*F*1.20])"
   ]
  },
  {
   "cell_type": "markdown",
   "metadata": {},
   "source": [
    "#### Simulate the GARCH dynamic"
   ]
  },
  {
   "cell_type": "code",
   "execution_count": 181,
   "metadata": {
    "collapsed": false,
    "scrolled": true
   },
   "outputs": [],
   "source": [
    "# convert an array of values into a dataset matrix\n",
    "def create_dataset(dataset, look_back=1):\n",
    "    dataX, dataY = [], []\n",
    "    for i in range(len(dataset)-look_back-1):\n",
    "        a = dataset[i:(i+look_back), 0]\n",
    "        dataX.append(a)\n",
    "        dataY.append(dataset[i + look_back, 0])\n",
    "    return np.array(dataX), np.array(dataY)\n",
    "\n",
    "train = []\n",
    "trainvars = []\n",
    "var_t = lvar\n",
    "for t in range(250*8):\n",
    "    eps = math.sqrt(var_t) * normal()\n",
    "    var_t = kappa + alpha * var_t + beta * (eps*eps)\n",
    "    train.append(eps) # percent\n",
    "    trainvars.append(var_t)\n",
    "train = np.array(train).reshape(-1,1)\n",
    "trainX, trainY = create_dataset(train, look_back)\n",
    "\n",
    "# reshape input to be [samples, time steps, features]\n",
    "trainX = np.reshape(trainX, (trainX.shape[0], 1, trainX.shape[1]))\n",
    "#print(trainX, trainY)"
   ]
  },
  {
   "cell_type": "code",
   "execution_count": 182,
   "metadata": {
    "collapsed": false
   },
   "outputs": [
    {
     "data": {
      "text/plain": [
       "((1987, 1, 12), (1987,), (1987, 12, 1))"
      ]
     },
     "execution_count": 182,
     "metadata": {},
     "output_type": "execute_result"
    }
   ],
   "source": [
    "trainX.shape, trainY.shape, trainX.transpose((0,2,1)).shape"
   ]
  },
  {
   "cell_type": "code",
   "execution_count": 183,
   "metadata": {
    "collapsed": false
   },
   "outputs": [
    {
     "data": {
      "image/png": "[encoded data removed]",
      "text/plain": [
       "<matplotlib.figure.Figure at 0x7fd782121450>"
      ]
     },
     "metadata": {},
     "output_type": "display_data"
    }
   ],
   "source": [
    "plt.figure(figsize=(10,7))\n",
    "plt.subplot(2,1,1)\n",
    "plt.plot(np.cumsum(train))\n",
    "plt.subplot(2,1,2)\n",
    "plt.plot(np.sqrt(trainvars)*math.sqrt(255))\n",
    "plt.show()"
   ]
  },
  {
   "cell_type": "code",
   "execution_count": 214,
   "metadata": {
    "collapsed": false
   },
   "outputs": [
    {
     "name": "stdout",
     "output_type": "stream",
     "text": [
      "0.0878969313733\n",
      "0.0930609049465\n",
      "0.0778461760977\n",
      "0.0616130660831\n",
      "0.0513736631816\n",
      "0.0730401821973\n",
      "0.0567085659126\n",
      "0.0577196525809\n",
      "0.0601438125817\n",
      "0.0721356210044\n",
      "0.0590213404529\n",
      "0.0487590440527\n",
      "------- 11 --------\n",
      "0.0676741378338\n",
      "0.063472939261\n",
      "0.0686691489479\n",
      "0.061544575088\n",
      "0.0499740711636\n",
      "0.0945651131643\n",
      "0.128896141838\n",
      "0.0983490608793\n",
      "0.0790256010696\n",
      "0.0853364038281\n",
      "0.0668387496201\n",
      "0.069000082382\n",
      "------- 23 --------\n",
      "0.0709180328685\n",
      "0.0718114680072\n",
      "0.0623828275878\n",
      "0.0570920744575\n",
      "0.0511366366296\n",
      "0.0442972051601\n",
      "0.0811123535395\n",
      "0.0677298035044\n",
      "0.0533654441211\n",
      "0.0528360063495\n",
      "0.0449969584764\n",
      "0.0428028683303\n",
      "------- 35 --------\n"
     ]
    }
   ],
   "source": [
    "var_t = lvar\n",
    "for eps in train[0:200,0]:\n",
    "    var_t = kappa + alpha * var_t + beta * (eps*eps)\n",
    "for k, eps in enumerate(train[200:(200+3*look_back),0]):\n",
    "    var_t = kappa + alpha * var_t + beta * (eps*eps)\n",
    "    print(math.sqrt(var_t*255))\n",
    "    if ((k>0) and ((k+1) % look_back == 0)):\n",
    "        print('-------', k, '--------')"
   ]
  },
  {
   "cell_type": "code",
   "execution_count": 215,
   "metadata": {
    "collapsed": false
   },
   "outputs": [
    {
     "data": {
      "text/plain": [
       "((16, 1),\n",
       " array([ 1.16667354,  1.16667354,  1.16667354,  1.16667354,  1.16667354,\n",
       "         1.16667354,  1.16667354,  1.16667354,  1.16667354,  1.16667354,\n",
       "         1.16667354,  1.16667354,  1.16667354,  1.16667354,  1.16667354,\n",
       "         1.16667354], dtype=float32))"
      ]
     },
     "execution_count": 215,
     "metadata": {},
     "output_type": "execute_result"
    }
   ],
   "source": [
    "rnn.states[0].get_value().shape, rnn.states[0].get_value()[:,0]"
   ]
  },
  {
   "cell_type": "code",
   "execution_count": 218,
   "metadata": {
    "collapsed": false
   },
   "outputs": [
    {
     "data": {
      "text/plain": [
       "array([[ 0.09691316,  0.09779143,  0.08135909,  0.06481391,  0.05453766,\n",
       "         0.07509104,  0.05920785,  0.06012426,  0.06243232,  0.07404579,\n",
       "         0.06133655,  0.05153483],\n",
       "       [ 0.09671072,  0.08077569,  0.06448472,  0.05436177,  0.07503363,\n",
       "         0.05917509,  0.06010975,  0.06242602,  0.07404341,  0.06133526,\n",
       "         0.05153413,  0.0696996 ],\n",
       "       [ 0.07957482,  0.06380929,  0.05400193,  0.0749166 ,  0.05910833,\n",
       "         0.06008018,  0.06241321,  0.07403855,  0.06133262,  0.05153273,\n",
       "         0.06969913,  0.0656277 ]], dtype=float32)"
      ]
     },
     "execution_count": 218,
     "metadata": {},
     "output_type": "execute_result"
    }
   ],
   "source": [
    "Vs = V.eval({I:trainX.transpose((0,2,1))[200:(200+batch_size),:,:].astype('float32')*F})*math.sqrt(255)/F\n",
    "Vs.reshape((1,-1)).T[0:20,0], Vs[0,:], Vs[1,:]\n",
    "Vs[0:3,:]"
   ]
  },
  {
   "cell_type": "markdown",
   "metadata": {},
   "source": [
    "#### Compute the model Loss before training to insure loss goes down"
   ]
  },
  {
   "cell_type": "code",
   "execution_count": 137,
   "metadata": {
    "collapsed": false
   },
   "outputs": [
    {
     "name": "stdout",
     "output_type": "stream",
     "text": [
      "135.11\n"
     ]
    }
   ],
   "source": [
    "test_arr = trainX.transpose((0,2,1))[200:(200+batch_size),:,:].astype('float32')\n",
    "ErrorStart = np.sum(Errors.eval({I:test_arr*F }))\n",
    "print(ErrorStart)"
   ]
  },
  {
   "cell_type": "code",
   "execution_count": 138,
   "metadata": {
    "collapsed": false
   },
   "outputs": [
    {
     "name": "stdout",
     "output_type": "stream",
     "text": [
      "[ 1.0332669   0.75166214  2.516047    1.04043674  0.96894199  0.78469342\n",
      "  0.6959672   0.65946287  0.56280035  0.56313354  0.60662878]\n",
      "-------------------------\n",
      "[ 0.04589712  0.05840199  0.05576364  0.0906469   0.07231224  0.06630111\n",
      "  0.05879955  0.05490136  0.05322766  0.05050638  0.05009605]\n"
     ]
    }
   ],
   "source": [
    "print( modelT.predict(trainX.transpose((0,2,1))[200:(200+batch_size),:,:]*F)[0] )\n",
    "print('-------------------------')\n",
    "print( modelV.predict(trainX.transpose((0,2,1))[200:(200+batch_size),:,:]*F)[0]*math.sqrt(255)/F )"
   ]
  },
  {
   "cell_type": "code",
   "execution_count": 142,
   "metadata": {
    "collapsed": false
   },
   "outputs": [
    {
     "data": {
      "text/plain": [
       "124"
      ]
     },
     "execution_count": 142,
     "metadata": {},
     "output_type": "execute_result"
    }
   ],
   "source": [
    "max_batches = int(trainX.transpose((0,2,1)).shape[0]/batch_size)\n",
    "max_batches"
   ]
  },
  {
   "cell_type": "markdown",
   "metadata": {},
   "source": [
    "#### A few runs of training for sanity checks"
   ]
  },
  {
   "cell_type": "code",
   "execution_count": 140,
   "metadata": {
    "collapsed": false
   },
   "outputs": [],
   "source": [
    "modelT.optimizer.lr.set_value(1e-2) # 1e-3 seems too large !\n",
    "#modelT.optimizer.lr.get_value()"
   ]
  },
  {
   "cell_type": "code",
   "execution_count": 141,
   "metadata": {
    "collapsed": false
   },
   "outputs": [
    {
     "name": "stdout",
     "output_type": "stream",
     "text": [
      "Epoch 1/10\n",
      "1984/1984 [==============================] - 0s - loss: 1.1907     \n",
      "Epoch 2/10\n",
      "1984/1984 [==============================] - 0s - loss: 1.1906     \n",
      "Epoch 3/10\n",
      "1984/1984 [==============================] - 0s - loss: 1.1906     \n",
      "Epoch 4/10\n",
      "1984/1984 [==============================] - 0s - loss: 1.1906     \n",
      "Epoch 5/10\n",
      "1984/1984 [==============================] - 0s - loss: 1.1906     \n",
      "Epoch 6/10\n",
      "1984/1984 [==============================] - 0s - loss: 1.1906     \n",
      "Epoch 7/10\n",
      "1984/1984 [==============================] - 0s - loss: 1.1906     \n",
      "Epoch 8/10\n",
      "1984/1984 [==============================] - 0s - loss: 1.1906     \n",
      "Epoch 9/10\n",
      "1984/1984 [==============================] - 0s - loss: 1.1906     \n",
      "Epoch 10/10\n",
      "1984/1984 [==============================] - 0s - loss: 1.1906     \n"
     ]
    }
   ],
   "source": [
    "Ydummy = trainX.transpose((0,2,1))\n",
    "#print(Ydummy.shape)\n",
    "#print( trainX.transpose((0,2,1)).shape )\n",
    "hist0 = modelT.fit(trainX.transpose((0,2,1))[0:(max_batches*batch_size),:,:]*F,\n",
    "                   Ydummy[0:(max_batches*batch_size),0:-1,0],\n",
    "                   epochs=10,\n",
    "                   batch_size=batch_size,\n",
    "                   verbose=1,\n",
    "                   shuffle=False)"
   ]
  },
  {
   "cell_type": "markdown",
   "metadata": {},
   "source": [
    "#### Compare Trained-Loss to check it did not worsen"
   ]
  },
  {
   "cell_type": "code",
   "execution_count": 1166,
   "metadata": {
    "collapsed": false
   },
   "outputs": [
    {
     "name": "stdout",
     "output_type": "stream",
     "text": [
      "13.0457 13.1652\n"
     ]
    }
   ],
   "source": [
    "test_arr = trainX.transpose((0,2,1))[(200,),:,:].astype('float32')\n",
    "ErrorEnd = np.sum(Errors.eval({I:test_arr*F}))\n",
    "print(ErrorStart, ErrorEnd)"
   ]
  },
  {
   "cell_type": "markdown",
   "metadata": {},
   "source": [
    "#### Compare long-term vol to check similarity"
   ]
  },
  {
   "cell_type": "code",
   "execution_count": 1167,
   "metadata": {
    "collapsed": false
   },
   "outputs": [
    {
     "data": {
      "text/plain": [
       "0.0936233629592752"
      ]
     },
     "execution_count": 1167,
     "metadata": {},
     "output_type": "execute_result"
    }
   ],
   "source": [
    "math.sqrt(rnn.get_weights()[2][0]/(1-rnn.get_weights()[0][0][0]-rnn.get_weights()[1][0][0])*255)/F"
   ]
  },
  {
   "cell_type": "code",
   "execution_count": 1168,
   "metadata": {
    "collapsed": false
   },
   "outputs": [
    {
     "data": {
      "text/plain": [
       "(0.10000000000000003, 0.15233715, 0.45356482, 0.41348198)"
      ]
     },
     "execution_count": 1168,
     "metadata": {},
     "output_type": "execute_result"
    }
   ],
   "source": [
    "kappa*F*F, rnn.get_weights()[2][0], rnn.get_weights()[0][0][0], rnn.get_weights()[1][0][0]"
   ]
  },
  {
   "cell_type": "markdown",
   "metadata": {},
   "source": [
    "# Dummy code (for reference) to remove later on"
   ]
  },
  {
   "cell_type": "code",
   "execution_count": 74,
   "metadata": {
    "collapsed": false
   },
   "outputs": [
    {
     "data": {
      "text/plain": [
       "(10, (197, 1))"
      ]
     },
     "execution_count": 74,
     "metadata": {},
     "output_type": "execute_result"
    }
   ],
   "source": [
    "idx = train\n",
    "\n",
    "Xs = []\n",
    "for l in range(lag):\n",
    "    cdat = [idx[i+l] for i in xrange(0, len(idx)-1-lag, lag)]\n",
    "    X = np.stack(cdat[:-2])\n",
    "    Xs.append(X)\n",
    "\n",
    "cdat = [idx[i+(l+1)] for i in xrange(0, len(idx)-1-lag, lag)]\n",
    "Y = np.stack(cdat[:-2])\n",
    "\n",
    "len(Xs), Xs[0].shape"
   ]
  },
  {
   "cell_type": "code",
   "execution_count": 80,
   "metadata": {
    "collapsed": false
   },
   "outputs": [
    {
     "name": "stdout",
     "output_type": "stream",
     "text": [
      "Epoch 1/25\n",
      "197/197 [==============================] - 0s - loss: -0.4572     \n",
      "Epoch 2/25\n",
      "197/197 [==============================] - 0s - loss: 0.5291     \n",
      "Epoch 3/25\n",
      "197/197 [==============================] - 0s - loss: 0.5669     \n",
      "Epoch 4/25\n",
      "197/197 [==============================] - 0s - loss: 0.5451     \n",
      "Epoch 5/25\n",
      "197/197 [==============================] - 0s - loss: 0.5021     \n",
      "Epoch 6/25\n",
      "197/197 [==============================] - 0s - loss: 0.4515     \n",
      "Epoch 7/25\n",
      "197/197 [==============================] - 0s - loss: 0.3993     \n",
      "Epoch 8/25\n",
      "197/197 [==============================] - 0s - loss: 0.3485     \n",
      "Epoch 9/25\n",
      "197/197 [==============================] - 0s - loss: 0.3007     \n",
      "Epoch 10/25\n",
      "197/197 [==============================] - 0s - loss: 0.2565     \n",
      "Epoch 11/25\n",
      "197/197 [==============================] - 0s - loss: 0.2160     \n",
      "Epoch 12/25\n",
      "197/197 [==============================] - 0s - loss: 0.1791     \n",
      "Epoch 13/25\n",
      "197/197 [==============================] - 0s - loss: 0.1454     \n",
      "Epoch 14/25\n",
      "197/197 [==============================] - 0s - loss: 0.1145     \n",
      "Epoch 15/25\n",
      "197/197 [==============================] - 0s - loss: 0.0862     \n",
      "Epoch 16/25\n",
      "197/197 [==============================] - 0s - loss: 0.0601     \n",
      "Epoch 17/25\n",
      "197/197 [==============================] - 0s - loss: 0.0358     \n",
      "Epoch 18/25\n",
      "197/197 [==============================] - 0s - loss: 0.0133     \n",
      "Epoch 19/25\n",
      "197/197 [==============================] - 0s - loss: -0.0079        \n",
      "Epoch 20/25\n",
      "197/197 [==============================] - 0s - loss: -0.0277     \n",
      "Epoch 21/25\n",
      "197/197 [==============================] - 0s - loss: -0.0465     \n",
      "Epoch 22/25\n",
      "197/197 [==============================] - 0s - loss: -0.0644     \n",
      "Epoch 23/25\n",
      "197/197 [==============================] - 0s - loss: -0.0813     \n",
      "Epoch 24/25\n",
      "197/197 [==============================] - 0s - loss: -0.0976     \n",
      "Epoch 25/25\n",
      "197/197 [==============================] - 0s - loss: -0.1131     \n"
     ]
    },
    {
     "name": "stderr",
     "output_type": "stream",
     "text": [
      "/home/ubuntu/anaconda2/lib/python2.7/site-packages/keras/engine/training.py:1393: UserWarning: The `nb_epoch` argument in `fit` has been renamed `epochs`.\n",
      "  warnings.warn('The `nb_epoch` argument in `fit` '\n"
     ]
    }
   ],
   "source": [
    "modelUNR.optimizer.lr = 1e-2\n",
    "dummy_Y = Xs[0]\n",
    "hist1 = modelUNR.fit(Xs, dummy_Y, batch_size=40, nb_epoch=25)"
   ]
  },
  {
   "cell_type": "code",
   "execution_count": 27,
   "metadata": {
    "collapsed": true
   },
   "outputs": [],
   "source": [
    "lag = look_back"
   ]
  },
  {
   "cell_type": "code",
   "execution_count": 28,
   "metadata": {
    "collapsed": false
   },
   "outputs": [],
   "source": [
    "def show_top_next(mdl, inp, steps=1):\n",
    "    inp = np.copy(inp)\n",
    "    for k in range(steps):\n",
    "        #ps = mdl.predict([np.array([i]) for i in inp])\n",
    "        ps = mdl.predict(inp)\n",
    "        newimp = np.concatenate((inp[0,:,:],ps), axis=1)\n",
    "        inp[0,:,:] = newimp[:,1:]\n",
    "    return inp"
   ]
  },
  {
   "cell_type": "code",
   "execution_count": 29,
   "metadata": {
    "collapsed": false
   },
   "outputs": [
    {
     "name": "stdout",
     "output_type": "stream",
     "text": [
      "[[[  2.88649919e-03  -2.74783844e-03   1.63140704e-05   3.59496255e-03\n",
      "     1.68552216e-03]]]\n",
      "[[[ 0.00037702 -0.00392252  0.00106558  0.00168964  0.00305192]]]\n",
      "[[[-0.00242589 -0.00211503 -0.00037546  0.00334426  0.0013412 ]]]\n"
     ]
    }
   ],
   "source": [
    "cut = 10\n",
    "inps = [trainX[10:(cut+1),:,:], ]\n",
    "for iter in range(8):\n",
    "    inps.append( show_top_next(model, inps[-1], 5) )\n",
    "\n",
    "print(inps[0])\n",
    "print(inps[1])\n",
    "print(inps[2])"
   ]
  },
  {
   "cell_type": "code",
   "execution_count": 13,
   "metadata": {
    "collapsed": false
   },
   "outputs": [],
   "source": [
    "TSmodel = np.concatenate(inps, axis=2)[0,0]\n",
    "TSreal = trainX[range(cut,cut+5*len(inps),5),:,:].reshape((1,1,-1))[0,0]"
   ]
  },
  {
   "cell_type": "code",
   "execution_count": 14,
   "metadata": {
    "collapsed": false
   },
   "outputs": [
    {
     "data": {
      "image/png": "[encoded data removed]",
      "text/plain": [
       "<matplotlib.figure.Figure at 0x7f364614e490>"
      ]
     },
     "metadata": {},
     "output_type": "display_data"
    }
   ],
   "source": [
    "import matplotlib.pyplot as plt\n",
    "plt.figure(figsize=(10,7))\n",
    "plt.plot(TSreal)\n",
    "plt.plot(TSmodel)\n",
    "plt.legend(['real','model'], loc='upper right')\n",
    "plt.show()"
   ]
  },
  {
   "cell_type": "code",
   "execution_count": null,
   "metadata": {
    "collapsed": false
   },
   "outputs": [],
   "source": []
  }
 ],
 "metadata": {
  "kernelspec": {
   "display_name": "Python 2",
   "language": "python",
   "name": "python2"
  },
  "language_info": {
   "codemirror_mode": {
    "name": "ipython",
    "version": 2
   },
   "file_extension": ".py",
   "mimetype": "text/x-python",
   "name": "python",
   "nbconvert_exporter": "python",
   "pygments_lexer": "ipython2",
   "version": "2.7.13"
  }
 },
 "nbformat": 4,
 "nbformat_minor": 0
}
