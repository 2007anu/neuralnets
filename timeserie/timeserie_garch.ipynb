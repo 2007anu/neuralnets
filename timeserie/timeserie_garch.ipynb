{
 "cells": [
  {
   "cell_type": "code",
   "execution_count": 1,
   "metadata": {
    "collapsed": false
   },
   "outputs": [
    {
     "name": "stderr",
     "output_type": "stream",
     "text": [
      "Using gpu device 0: Tesla K80 (CNMeM is disabled, cuDNN Version is too old. Update to v5, was 3007.)\n"
     ]
    }
   ],
   "source": [
    "from theano.sandbox import cuda"
   ]
  },
  {
   "cell_type": "code",
   "execution_count": 68,
   "metadata": {
    "collapsed": false
   },
   "outputs": [],
   "source": [
    "%matplotlib inline\n",
    "from __future__ import division, print_function"
   ]
  },
  {
   "cell_type": "code",
   "execution_count": 3,
   "metadata": {
    "collapsed": true
   },
   "outputs": [],
   "source": [
    "import math\n",
    "import numpy as np\n",
    "import random\n",
    "import sys\n",
    "\n",
    "from numpy.random import normal\n",
    "import matplotlib.pyplot as plt"
   ]
  },
  {
   "cell_type": "code",
   "execution_count": 69,
   "metadata": {
    "collapsed": false
   },
   "outputs": [],
   "source": [
    "from keras.preprocessing.sequence import pad_sequences\n",
    "from keras.layers import Input, Dense, Embedding, Activation, merge, Flatten, Dropout, Lambda\n",
    "from keras.layers import LSTM, SimpleRNN, TimeDistributed\n",
    "from keras.models import Model, Sequential\n",
    "from keras.layers.normalization import BatchNormalization\n",
    "from keras.optimizers import SGD, RMSprop, Adam\n",
    "from keras.constraints import nonneg\n",
    "from keras.layers.convolutional import *\n",
    "from keras import backend as K\n",
    "from keras.utils.data_utils import get_file"
   ]
  },
  {
   "cell_type": "code",
   "execution_count": 70,
   "metadata": {
    "collapsed": false
   },
   "outputs": [],
   "source": [
    "# https://keras.io/getting-started/sequential-model-guide/"
   ]
  },
  {
   "cell_type": "code",
   "execution_count": 192,
   "metadata": {
    "collapsed": true
   },
   "outputs": [],
   "source": [
    "look_back = 15"
   ]
  },
  {
   "cell_type": "code",
   "execution_count": 193,
   "metadata": {
    "collapsed": false
   },
   "outputs": [],
   "source": [
    "model = Sequential()\n",
    "model.add(LSTM(3, return_sequences=True, input_shape=(look_back, 1)))\n",
    "#model.add(SimpleRNN(return_sequences=True, unroll=False, output_dim=1, input_dim=look_back))\n",
    "#model.add(Dense(1))\n",
    "#model.add(TimeDistributed(Dense(1)))\n",
    "#model.compile(loss='mean_squared_error', optimizer='adam')"
   ]
  },
  {
   "cell_type": "code",
   "execution_count": 194,
   "metadata": {
    "collapsed": false
   },
   "outputs": [],
   "source": [
    "#print(dir(rnn))"
   ]
  },
  {
   "cell_type": "code",
   "execution_count": 195,
   "metadata": {
    "collapsed": true
   },
   "outputs": [],
   "source": [
    "def mllklh(args): # minus log-likelihood of gaussian\n",
    "    var_t, eps2_t = args\n",
    "    return 0.5*math.log(2*math.pi) + 0.5*K.log(var_t)  + 0.5*(eps2_t/var_t)"
   ]
  },
  {
   "cell_type": "code",
   "execution_count": 196,
   "metadata": {
    "collapsed": false
   },
   "outputs": [
    {
     "name": "stderr",
     "output_type": "stream",
     "text": [
      "/home/ubuntu/anaconda2/lib/python2.7/site-packages/ipykernel/__main__.py:18: UserWarning: The `merge` function is deprecated and will be removed after 08/2017. Use instead layers from `keras.layers.merge`, e.g. `sum`, `concatenate`, etc.\n"
     ]
    }
   ],
   "source": [
    "lag = 10\n",
    "\n",
    "hdim = 1\n",
    "    \n",
    "inputs = [Input(shape=(1,), dtype='float32') for i in range(lag)]\n",
    "    \n",
    "Square = Lambda(lambda x:x*x, output_shape=(1,))\n",
    "\n",
    "Di2h = Dense(hdim, activation=None)\n",
    "Dh2h = Dense(hdim, activation=None, init='identity')\n",
    "\n",
    "#hidden = ... CONSTANT ZERO TENSOR IN KERAS ?\n",
    "\n",
    "e = Di2h(Square(inputs[0]))\n",
    "hidden = e\n",
    "for i in range(1,lag-1): # WARNING\n",
    "    e = Di2h(Square(inputs[i]))\n",
    "    hidden = merge([e, Dh2h(hidden)], mode='sum')\n",
    "    \n",
    "#predictions = Dense(len(chars), activation='softmax')(hidden)\n",
    "\n",
    "predvar = Lambda(lambda x:K.abs(x)+0.000001, output_shape=(1,))([hidden]) # insure positive var\n",
    "    \n",
    "error = Lambda(mllklh, output_shape=(1,))([predvar,Square(inputs[-1])])\n",
    "\n",
    "modelUNR = Model(inputs=inputs, outputs=error) # un-rolled model\n",
    "    \n",
    "def special_loss(dummy, errorterms):\n",
    "        return errorterms\n",
    "\n",
    "modelUNR.compile(optimizer=Adam(1e-3), loss=special_loss)"
   ]
  },
  {
   "cell_type": "code",
   "execution_count": 197,
   "metadata": {
    "collapsed": false
   },
   "outputs": [],
   "source": [
    "#len(Xs), Xs[0].shape, modelUNR.predict([X[10:15,0] for X in Xs]).shape"
   ]
  },
  {
   "cell_type": "code",
   "execution_count": 198,
   "metadata": {
    "collapsed": false
   },
   "outputs": [],
   "source": [
    "#modelUNR.predict([X[50:60,0] for X in Xs])"
   ]
  },
  {
   "cell_type": "code",
   "execution_count": 199,
   "metadata": {
    "collapsed": false
   },
   "outputs": [],
   "source": [
    "#modelUNRV = Model(input=inputs, output=predvar)\n",
    "#np.sqrt(modelUNRV.predict([X[50:60,0] for X in Xs])*255)"
   ]
  },
  {
   "cell_type": "code",
   "execution_count": 200,
   "metadata": {
    "collapsed": false
   },
   "outputs": [],
   "source": [
    "#print(dir(rnn))\n",
    "#rnn.output_shape, rnn.get_weights(), rnn.activation"
   ]
  },
  {
   "cell_type": "code",
   "execution_count": 251,
   "metadata": {
    "collapsed": false
   },
   "outputs": [],
   "source": [
    "I = Input(shape=(look_back,1), dtype='float32')\n",
    "I2 = Lambda(lambda x : K.square(x), output_shape=(look_back,1))(I)\n",
    "rnn = SimpleRNN(return_sequences=True, unroll=False,\n",
    "                units=1, input_shape=(look_back, 1),\n",
    "                bias_constraint=nonneg(), # insure positive var\n",
    "                kernel_constraint=nonneg(), # insure positive var\n",
    "                recurrent_constraint=nonneg(), # insure positive var\n",
    "                activation=None) \n",
    "O1 = rnn(I2)\n",
    "V = Lambda(lambda x : K.sqrt(x), output_shape=(look_back,1))(O1) # get volatility\n",
    "\n",
    "Errors = Lambda(mllklh, output_shape=(look_back,1))([O1,I2])\n",
    "\n",
    "Error = Lambda(lambda x : K.sum(x, axis=1), output_shape=(look_back,1))(Errors)\n",
    "\n",
    "modelT = Model(inputs=I, outputs=Errors)\n",
    "\n",
    "def special_loss(dummy, errorterms):\n",
    "    return errorterms\n",
    "\n",
    "modelT.compile(optimizer='adadelta', loss=special_loss)\n",
    "\n",
    "modelV = Model(inputs=I, outputs=V)"
   ]
  },
  {
   "cell_type": "code",
   "execution_count": 252,
   "metadata": {
    "collapsed": false
   },
   "outputs": [
    {
     "data": {
      "text/plain": [
       "((None, 15, 1), (None, 15, 1), (None, 15, 1), (None, 15, 1))"
      ]
     },
     "execution_count": 252,
     "metadata": {},
     "output_type": "execute_result"
    }
   ],
   "source": [
    "I._keras_shape, I2._keras_shape, O1._keras_shape, V._keras_shape"
   ]
  },
  {
   "cell_type": "code",
   "execution_count": 253,
   "metadata": {
    "collapsed": false
   },
   "outputs": [
    {
     "name": "stdout",
     "output_type": "stream",
     "text": [
      "(2, 15, 1)\n",
      "(2, 15, 1)\n",
      "(2, 15, 1)\n",
      "(2, 15, 1)\n"
     ]
    }
   ],
   "source": [
    "onearr = np.ones((2, look_back, 1)).astype('float32')\n",
    "print(I2.eval({I:onearr}).shape)\n",
    "print(O1.eval({I:onearr}).shape)\n",
    "print(modelT.predict(onearr).shape)\n",
    "print(modelV.predict(onearr).shape)"
   ]
  },
  {
   "cell_type": "code",
   "execution_count": 254,
   "metadata": {
    "collapsed": false
   },
   "outputs": [
    {
     "data": {
      "text/plain": [
       "(2, 1)"
      ]
     },
     "execution_count": 254,
     "metadata": {},
     "output_type": "execute_result"
    }
   ],
   "source": [
    "#model.predict(onearr).shape\n",
    "Error.eval({I:onearr}).shape"
   ]
  },
  {
   "cell_type": "code",
   "execution_count": 255,
   "metadata": {
    "collapsed": false
   },
   "outputs": [
    {
     "data": {
      "text/plain": [
       "array([[[  3.5],\n",
       "        [  7. ],\n",
       "        [ 10.5],\n",
       "        [ 14. ],\n",
       "        [ 17.5],\n",
       "        [ 21. ],\n",
       "        [ 24.5],\n",
       "        [ 28. ],\n",
       "        [ 31.5],\n",
       "        [ 35. ],\n",
       "        [ 38.5],\n",
       "        [ 42. ],\n",
       "        [ 45.5],\n",
       "        [ 49. ],\n",
       "        [ 52.5]],\n",
       "\n",
       "       [[  3.5],\n",
       "        [  7. ],\n",
       "        [ 10.5],\n",
       "        [ 14. ],\n",
       "        [ 17.5],\n",
       "        [ 21. ],\n",
       "        [ 24.5],\n",
       "        [ 28. ],\n",
       "        [ 31.5],\n",
       "        [ 35. ],\n",
       "        [ 38.5],\n",
       "        [ 42. ],\n",
       "        [ 45.5],\n",
       "        [ 49. ],\n",
       "        [ 52.5]]], dtype=float32)"
      ]
     },
     "execution_count": 255,
     "metadata": {},
     "output_type": "execute_result"
    }
   ],
   "source": [
    "It = Input(shape=(look_back,1), dtype='float32')\n",
    "RNNt = SimpleRNN(activation=None, return_sequences=True, unroll=False, units=1, input_shape=(look_back, 1))\n",
    "\n",
    "RNNt(It).eval({It:onearr}) # dry run to allow weight setting\n",
    "\n",
    "RNNt.set_weights([np.array([[0.5]]),np.array([[1.]]),np.array([3.])])\n",
    "RNNt(It).eval({It:onearr})"
   ]
  },
  {
   "cell_type": "code",
   "execution_count": 256,
   "metadata": {
    "collapsed": false
   },
   "outputs": [
    {
     "data": {
      "text/plain": [
       "[None]"
      ]
     },
     "execution_count": 256,
     "metadata": {},
     "output_type": "execute_result"
    }
   ],
   "source": [
    "RNNt.states"
   ]
  },
  {
   "cell_type": "code",
   "execution_count": 257,
   "metadata": {
    "collapsed": false
   },
   "outputs": [
    {
     "name": "stdout",
     "output_type": "stream",
     "text": [
      "_________________________________________________________________\n",
      "Layer (type)                 Output Shape              Param #   \n",
      "=================================================================\n",
      "input_79 (InputLayer)        (None, 15, 1)             0         \n",
      "_________________________________________________________________\n",
      "lambda_68 (Lambda)           (None, 15, 1)             0         \n",
      "_________________________________________________________________\n",
      "simple_rnn_24 (SimpleRNN)    (None, 15, 1)             3         \n",
      "_________________________________________________________________\n",
      "lambda_70 (Lambda)           (None, 15, 1)             0         \n",
      "=================================================================\n",
      "Total params: 3.0\n",
      "Trainable params: 3.0\n",
      "Non-trainable params: 0.0\n",
      "_________________________________________________________________\n"
     ]
    }
   ],
   "source": [
    "modelT.summary()"
   ]
  },
  {
   "cell_type": "code",
   "execution_count": 258,
   "metadata": {
    "collapsed": false
   },
   "outputs": [
    {
     "name": "stdout",
     "output_type": "stream",
     "text": [
      "0.0874642784227\n"
     ]
    }
   ],
   "source": [
    "kappa = 0.000003\n",
    "alpha = 0.45\n",
    "beta = 0.45\n",
    "lvar = kappa / (1-alpha-beta)\n",
    "print(math.sqrt(lvar)*math.sqrt(255))"
   ]
  },
  {
   "cell_type": "code",
   "execution_count": 259,
   "metadata": {
    "collapsed": false
   },
   "outputs": [],
   "source": [
    "rnn(I2).eval({I:onearr}) # dry run to allow weight setting\n",
    "rnn.set_weights([np.array([[beta]]),np.array([[alpha]]),np.array([kappa])])"
   ]
  },
  {
   "cell_type": "code",
   "execution_count": 260,
   "metadata": {
    "collapsed": false,
    "scrolled": true
   },
   "outputs": [],
   "source": [
    "# convert an array of values into a dataset matrix\n",
    "def create_dataset(dataset, look_back=1):\n",
    "    dataX, dataY = [], []\n",
    "    for i in range(len(dataset)-look_back-1):\n",
    "        a = dataset[i:(i+look_back), 0]\n",
    "        dataX.append(a)\n",
    "        dataY.append(dataset[i + look_back, 0])\n",
    "    return np.array(dataX), np.array(dataY)\n",
    "\n",
    "#train = [math.sin(x*0.2) for x in range(250*3)]\n",
    "train = []\n",
    "trainvars = []\n",
    "var_t = lvar\n",
    "for t in range(250*8):\n",
    "    eps = math.sqrt(var_t) * normal()\n",
    "    var_t = kappa + alpha * var_t + beta * (eps*eps)\n",
    "    train.append(eps) # percent\n",
    "    trainvars.append(var_t)\n",
    "train = np.array(train).reshape(-1,1)\n",
    "trainX, trainY = create_dataset(train, look_back)\n",
    "\n",
    "# reshape input to be [samples, time steps, features]\n",
    "trainX = np.reshape(trainX, (trainX.shape[0], 1, trainX.shape[1]))\n",
    "#print(trainX, trainY)"
   ]
  },
  {
   "cell_type": "code",
   "execution_count": 261,
   "metadata": {
    "collapsed": false
   },
   "outputs": [
    {
     "data": {
      "text/plain": [
       "(array([-0.01184326,  0.00530252,  0.00033738,  0.00288079,  0.00873798,\n",
       "         0.00898681,  0.00431205, -0.00623904, -0.0043565 , -0.00497749]),\n",
       " array([[[-0.01184326],\n",
       "         [ 0.00530252],\n",
       "         [ 0.00033738],\n",
       "         [ 0.00288079],\n",
       "         [ 0.00873798],\n",
       "         [ 0.00898681],\n",
       "         [ 0.00431205],\n",
       "         [-0.00623904],\n",
       "         [-0.0043565 ],\n",
       "         [-0.00497749],\n",
       "         [ 0.01005675],\n",
       "         [ 0.00140008],\n",
       "         [ 0.00517606],\n",
       "         [-0.00168401],\n",
       "         [ 0.00093824]]]))"
      ]
     },
     "execution_count": 261,
     "metadata": {},
     "output_type": "execute_result"
    }
   ],
   "source": [
    "train[200:210,0], trainX.transpose((0,2,1))[(200,),:,:]"
   ]
  },
  {
   "cell_type": "code",
   "execution_count": 262,
   "metadata": {
    "collapsed": false
   },
   "outputs": [
    {
     "name": "stdout",
     "output_type": "stream",
     "text": [
      "0.144222438989\n",
      "0.115548460758\n",
      "0.0823784722561\n",
      "0.0690731489625\n",
      "0.108043594279\n",
      "0.123634767119\n",
      "0.098879383427\n",
      "0.0981397873753\n",
      "0.085305292003\n",
      "0.0829615926733\n"
     ]
    }
   ],
   "source": [
    "var_t = lvar\n",
    "for eps in train[0:200,0]:\n",
    "    #eps = eps100/100\n",
    "    var_t = kappa + alpha * var_t + beta * (eps*eps)\n",
    "    #print(math.sqrt(var_t*255))\n",
    "for eps in train[200:210,0]:\n",
    "    #eps = eps100/250\n",
    "    var_t = kappa + alpha * var_t + beta * (eps*eps)\n",
    "    print(math.sqrt(var_t*255))"
   ]
  },
  {
   "cell_type": "code",
   "execution_count": 263,
   "metadata": {
    "collapsed": false
   },
   "outputs": [
    {
     "data": {
      "text/plain": [
       "array([[[ 0.12984663],\n",
       "        [ 0.10760327],\n",
       "        [ 0.07738456],\n",
       "        [ 0.06642342],\n",
       "        [ 0.10729331],\n",
       "        [ 0.12334038],\n",
       "        [ 0.09871381],\n",
       "        [ 0.09806474],\n",
       "        [ 0.08526645],\n",
       "        [ 0.08294363],\n",
       "        [ 0.12436415],\n",
       "        [ 0.08916184],\n",
       "        [ 0.08612061],\n",
       "        [ 0.06654293],\n",
       "        [ 0.05346583]]], dtype=float32)"
      ]
     },
     "execution_count": 263,
     "metadata": {},
     "output_type": "execute_result"
    }
   ],
   "source": [
    "V.eval({I:trainX.transpose((0,2,1))[(200,),:,:].astype('float32')})*math.sqrt(255)"
   ]
  },
  {
   "cell_type": "code",
   "execution_count": 271,
   "metadata": {
    "collapsed": false
   },
   "outputs": [
    {
     "name": "stdout",
     "output_type": "stream",
     "text": [
      "[[[-2.83916068]\n",
      "  [-2.66094041]\n",
      "  [-2.59051728]\n",
      "  [-2.50695157]\n",
      "  [-2.53514338]\n",
      "  [-2.54960489]\n",
      "  [-2.54270196]\n",
      "  [-2.51829529]\n",
      "  [-2.541677  ]\n",
      "  [-2.55413222]\n",
      "  [-2.55593967]\n",
      "  [-2.55627847]\n",
      "  [-2.55846691]\n",
      "  [-2.5538373 ]\n",
      "  [-2.55017853]]\n",
      "\n",
      " [[-2.83547115]\n",
      "  [-2.66120768]\n",
      "  [-2.59945178]\n",
      "  [-2.57433581]\n",
      "  [-2.56537199]\n",
      "  [-2.56089306]\n",
      "  [-2.54459977]\n",
      "  [-2.55764437]\n",
      "  [-2.55697846]\n",
      "  [-2.55592465]\n",
      "  [-2.54538679]\n",
      "  [-2.54877329]\n",
      "  [-2.55734706]\n",
      "  [-2.54692984]\n",
      "  [-2.55596328]]]\n",
      "-------------------------\n",
      "[[[ 0.39244205]\n",
      "  [ 0.45573479]\n",
      "  [ 0.47714999]\n",
      "  [ 0.48706293]\n",
      "  [ 0.49912265]\n",
      "  [ 0.50473839]\n",
      "  [ 0.50009888]\n",
      "  [ 0.5004068 ]\n",
      "  [ 0.49826032]\n",
      "  [ 0.49799556]\n",
      "  [ 0.50655818]\n",
      "  [ 0.49899387]\n",
      "  [ 0.49854335]\n",
      "  [ 0.49559796]\n",
      "  [ 0.4940953 ]]]\n",
      "-------------\n"
     ]
    }
   ],
   "source": [
    "print( modelT.predict(trainX.transpose((0,2,1))[(1,300),:,:]) )\n",
    "print('-------------------------')\n",
    "print( modelV.predict(trainX.transpose((0,2,1))[(200,),:,:])*math.sqrt(255) )\n",
    "print('-------------')\n",
    "#np.sqrt(Model(input=I, output=O1).predict(trainX.transpose((0,2,1))[(200,),:,:])*255.)"
   ]
  },
  {
   "cell_type": "code",
   "execution_count": 265,
   "metadata": {
    "collapsed": false
   },
   "outputs": [
    {
     "data": {
      "image/png": "[encoded data removed]",
      "text/plain": [
       "<matplotlib.figure.Figure at 0x7f6e3d4de250>"
      ]
     },
     "metadata": {},
     "output_type": "display_data"
    }
   ],
   "source": [
    "plt.figure(figsize=(10,7))\n",
    "plt.subplot(2,1,1)\n",
    "plt.plot(np.cumsum(train))\n",
    "plt.subplot(2,1,2)\n",
    "plt.plot(np.sqrt(trainvars)*math.sqrt(255))\n",
    "plt.show()"
   ]
  },
  {
   "cell_type": "code",
   "execution_count": 266,
   "metadata": {
    "collapsed": false
   },
   "outputs": [
    {
     "data": {
      "text/plain": [
       "((1984, 1, 15), (1984,), (1984, 15, 1))"
      ]
     },
     "execution_count": 266,
     "metadata": {},
     "output_type": "execute_result"
    }
   ],
   "source": [
    "trainX.shape, trainY.shape, trainX.transpose((0,2,1)).shape"
   ]
  },
  {
   "cell_type": "code",
   "execution_count": 281,
   "metadata": {
    "collapsed": false
   },
   "outputs": [
    {
     "name": "stdout",
     "output_type": "stream",
     "text": [
      "Epoch 1/1\n",
      "1984/1984 [==============================] - 0s - loss: -3.1174     \n"
     ]
    },
    {
     "data": {
      "text/plain": [
       "<keras.callbacks.History at 0x7f6e38ce2bd0>"
      ]
     },
     "execution_count": 281,
     "metadata": {},
     "output_type": "execute_result"
    }
   ],
   "source": [
    "#modelT.fit(trainX, trainY, nb_epoch=100, batch_size=50, verbose=1)\n",
    "\n",
    "modelT.fit(trainX.transpose((0,2,1)), trainX.transpose((0,2,1)), epochs=1, batch_size=64, verbose=1)"
   ]
  },
  {
   "cell_type": "code",
   "execution_count": 292,
   "metadata": {
    "collapsed": false
   },
   "outputs": [
    {
     "data": {
      "text/plain": [
       "0.6991640227251201"
      ]
     },
     "execution_count": 292,
     "metadata": {},
     "output_type": "execute_result"
    }
   ],
   "source": [
    "math.sqrt(rnn.get_weights()[2][0]/(1-rnn.get_weights()[0][0][0]-rnn.get_weights()[1][0][0])*255)"
   ]
  },
  {
   "cell_type": "code",
   "execution_count": 280,
   "metadata": {
    "collapsed": false
   },
   "outputs": [
    {
     "data": {
      "text/plain": [
       "(10, (197, 1))"
      ]
     },
     "execution_count": 280,
     "metadata": {},
     "output_type": "execute_result"
    }
   ],
   "source": [
    "idx = train\n",
    "\n",
    "Xs = []\n",
    "for l in range(lag):\n",
    "    cdat = [idx[i+l] for i in xrange(0, len(idx)-1-lag, lag)]\n",
    "    X = np.stack(cdat[:-2])\n",
    "    Xs.append(X)\n",
    "\n",
    "cdat = [idx[i+(l+1)] for i in xrange(0, len(idx)-1-lag, lag)]\n",
    "Y = np.stack(cdat[:-2])\n",
    "\n",
    "len(Xs), Xs[0].shape"
   ]
  },
  {
   "cell_type": "code",
   "execution_count": 269,
   "metadata": {
    "collapsed": false
   },
   "outputs": [
    {
     "name": "stdout",
     "output_type": "stream",
     "text": [
      "Epoch 1/25\n",
      "197/197 [==============================] - 0s - loss: -0.5005     \n",
      "Epoch 2/25\n",
      "197/197 [==============================] - 0s - loss: 0.5301     \n",
      "Epoch 3/25\n",
      "197/197 [==============================] - 0s - loss: 0.5685     \n",
      "Epoch 4/25\n",
      "197/197 [==============================] - 0s - loss: 0.5472     \n",
      "Epoch 5/25\n",
      "197/197 [==============================] - 0s - loss: 0.5048     \n",
      "Epoch 6/25\n",
      "197/197 [==============================] - 0s - loss: 0.4545     \n",
      "Epoch 7/25\n",
      "197/197 [==============================] - 0s - loss: 0.4025     \n",
      "Epoch 8/25\n",
      "197/197 [==============================] - 0s - loss: 0.3520     \n",
      "Epoch 9/25\n",
      "197/197 [==============================] - 0s - loss: 0.3045     \n",
      "Epoch 10/25\n",
      "197/197 [==============================] - 0s - loss: 0.2605     \n",
      "Epoch 11/25\n",
      "197/197 [==============================] - 0s - loss: 0.2202     \n",
      "Epoch 12/25\n",
      "197/197 [==============================] - 0s - loss: 0.1834     \n",
      "Epoch 13/25\n",
      "197/197 [==============================] - 0s - loss: 0.1499     \n",
      "Epoch 14/25\n",
      "197/197 [==============================] - 0s - loss: 0.1193     \n",
      "Epoch 15/25\n",
      "197/197 [==============================] - 0s - loss: 0.0912     \n",
      "Epoch 16/25\n",
      "197/197 [==============================] - 0s - loss: 0.0653     \n",
      "Epoch 17/25\n",
      "197/197 [==============================] - 0s - loss: 0.0413     \n",
      "Epoch 18/25\n",
      "197/197 [==============================] - 0s - loss: 0.0190     \n",
      "Epoch 19/25\n",
      "197/197 [==============================] - 0s - loss: -0.0019    \n",
      "Epoch 20/25\n",
      "197/197 [==============================] - 0s - loss: -0.0215     \n",
      "Epoch 21/25\n",
      "197/197 [==============================] - 0s - loss: -0.0399     \n",
      "Epoch 22/25\n",
      "197/197 [==============================] - 0s - loss: -0.0574     \n",
      "Epoch 23/25\n",
      "197/197 [==============================] - 0s - loss: -0.0741     \n",
      "Epoch 24/25\n",
      "197/197 [==============================] - 0s - loss: -0.0899     \n",
      "Epoch 25/25\n",
      "197/197 [==============================] - 0s - loss: -0.1051     \n"
     ]
    }
   ],
   "source": [
    "modelUNR.optimizer.lr = 1e-2\n",
    "dummy_Y = Xs[0]\n",
    "hist1 = modelUNR.fit(Xs, dummy_Y, batch_size=40, nb_epoch=25)"
   ]
  },
  {
   "cell_type": "code",
   "execution_count": 27,
   "metadata": {
    "collapsed": true
   },
   "outputs": [],
   "source": [
    "lag = look_back"
   ]
  },
  {
   "cell_type": "code",
   "execution_count": 28,
   "metadata": {
    "collapsed": false
   },
   "outputs": [],
   "source": [
    "def show_top_next(mdl, inp, steps=1):\n",
    "    inp = np.copy(inp)\n",
    "    for k in range(steps):\n",
    "        #ps = mdl.predict([np.array([i]) for i in inp])\n",
    "        ps = mdl.predict(inp)\n",
    "        newimp = np.concatenate((inp[0,:,:],ps), axis=1)\n",
    "        inp[0,:,:] = newimp[:,1:]\n",
    "    return inp"
   ]
  },
  {
   "cell_type": "code",
   "execution_count": 29,
   "metadata": {
    "collapsed": false
   },
   "outputs": [
    {
     "name": "stdout",
     "output_type": "stream",
     "text": [
      "[[[  2.88649919e-03  -2.74783844e-03   1.63140704e-05   3.59496255e-03\n",
      "     1.68552216e-03]]]\n",
      "[[[ 0.00037702 -0.00392252  0.00106558  0.00168964  0.00305192]]]\n",
      "[[[-0.00242589 -0.00211503 -0.00037546  0.00334426  0.0013412 ]]]\n"
     ]
    }
   ],
   "source": [
    "cut = 10\n",
    "inps = [trainX[10:(cut+1),:,:], ]\n",
    "for iter in range(8):\n",
    "    inps.append( show_top_next(model, inps[-1], 5) )\n",
    "\n",
    "print(inps[0])\n",
    "print(inps[1])\n",
    "print(inps[2])"
   ]
  },
  {
   "cell_type": "code",
   "execution_count": 13,
   "metadata": {
    "collapsed": false
   },
   "outputs": [],
   "source": [
    "TSmodel = np.concatenate(inps, axis=2)[0,0]\n",
    "TSreal = trainX[range(cut,cut+5*len(inps),5),:,:].reshape((1,1,-1))[0,0]"
   ]
  },
  {
   "cell_type": "code",
   "execution_count": 14,
   "metadata": {
    "collapsed": false
   },
   "outputs": [
    {
     "data": {
      "image/png": "[encoded data removed]",
      "text/plain": [
       "<matplotlib.figure.Figure at 0x7f364614e490>"
      ]
     },
     "metadata": {},
     "output_type": "display_data"
    }
   ],
   "source": [
    "import matplotlib.pyplot as plt\n",
    "plt.figure(figsize=(10,7))\n",
    "plt.plot(TSreal)\n",
    "plt.plot(TSmodel)\n",
    "plt.legend(['real','model'], loc='upper right')\n",
    "plt.show()"
   ]
  },
  {
   "cell_type": "code",
   "execution_count": null,
   "metadata": {
    "collapsed": false
   },
   "outputs": [],
   "source": []
  }
 ],
 "metadata": {
  "kernelspec": {
   "display_name": "Python 2",
   "language": "python",
   "name": "python2"
  },
  "language_info": {
   "codemirror_mode": {
    "name": "ipython",
    "version": 2
   },
   "file_extension": ".py",
   "mimetype": "text/x-python",
   "name": "python",
   "nbconvert_exporter": "python",
   "pygments_lexer": "ipython2",
   "version": "2.7.13"
  }
 },
 "nbformat": 4,
 "nbformat_minor": 0
}
