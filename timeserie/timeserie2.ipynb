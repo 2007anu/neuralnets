{
 "cells": [
  {
   "cell_type": "code",
   "execution_count": 1,
   "metadata": {
    "collapsed": false
   },
   "outputs": [
    {
     "name": "stderr",
     "output_type": "stream",
     "text": [
      "Using gpu device 0: Tesla K80 (CNMeM is disabled)\n"
     ]
    }
   ],
   "source": [
    "from theano.sandbox import cuda"
   ]
  },
  {
   "cell_type": "code",
   "execution_count": 2,
   "metadata": {
    "collapsed": false
   },
   "outputs": [
    {
     "name": "stderr",
     "output_type": "stream",
     "text": [
      "Using Theano backend.\n"
     ]
    }
   ],
   "source": [
    "%matplotlib inline\n",
    "import utils_modified; reload(utils_modified)\n",
    "from utils_modified import *\n",
    "from __future__ import division, print_function"
   ]
  },
  {
   "cell_type": "code",
   "execution_count": 3,
   "metadata": {
    "collapsed": true
   },
   "outputs": [],
   "source": [
    "import numpy as np\n",
    "import random\n",
    "import sys"
   ]
  },
  {
   "cell_type": "code",
   "execution_count": 4,
   "metadata": {
    "collapsed": false
   },
   "outputs": [],
   "source": [
    "from keras.preprocessing.sequence import pad_sequences\n",
    "from keras.layers import Input, Dense, Embedding, Activation, LSTM, merge, Flatten, Dropout, Lambda\n",
    "from keras.models import Model, Sequential\n",
    "from keras.engine.topology import Merge\n",
    "from keras.layers.normalization import BatchNormalization\n",
    "from keras.optimizers import SGD, RMSprop, Adam\n",
    "from keras.layers.convolutional import *\n",
    "from keras.utils.data_utils import get_file"
   ]
  },
  {
   "cell_type": "code",
   "execution_count": 5,
   "metadata": {
    "collapsed": false
   },
   "outputs": [],
   "source": [
    "# https://keras.io/getting-started/sequential-model-guide/"
   ]
  },
  {
   "cell_type": "code",
   "execution_count": 80,
   "metadata": {
    "collapsed": false
   },
   "outputs": [],
   "source": [
    "from keras.layers import Input, Embedding, LSTM, Dense, merge\n",
    "from keras.models import Model\n",
    "\n",
    "# data array : 20days x 15stocks\n",
    "# note that we can name any layer by passing it a \"name\" argument.\n",
    "main_input = Input(shape=(20,15), dtype='float32', name='main_input')\n",
    "\n",
    "# a LSTM will transform the vector sequence into a single vector,\n",
    "# containing information about the entire sequence\n",
    "lstm_out = LSTM(32)(main_input)\n",
    "\n",
    "output = Dense(1, activation='relu')(lstm_out)\n",
    "\n",
    "model = Model(input=main_input, output=output)\n",
    "\n",
    "model.compile(optimizer='rmsprop', loss='mean_squared_error')"
   ]
  },
  {
   "cell_type": "code",
   "execution_count": 81,
   "metadata": {
    "collapsed": false
   },
   "outputs": [
    {
     "name": "stdout",
     "output_type": "stream",
     "text": [
      "____________________________________________________________________________________________________\n",
      "Layer (type)                     Output Shape          Param #     Connected to                     \n",
      "====================================================================================================\n",
      "main_input (InputLayer)          (None, 20, 15)        0                                            \n",
      "____________________________________________________________________________________________________\n",
      "lstm_3 (LSTM)                    (None, 32)            6144        main_input[0][0]                 \n",
      "____________________________________________________________________________________________________\n",
      "dense_3 (Dense)                  (None, 1)             33          lstm_3[0][0]                     \n",
      "====================================================================================================\n",
      "Total params: 6,177\n",
      "Trainable params: 6,177\n",
      "Non-trainable params: 0\n",
      "____________________________________________________________________________________________________\n"
     ]
    }
   ],
   "source": [
    "model.summary()"
   ]
  },
  {
   "cell_type": "code",
   "execution_count": 82,
   "metadata": {
    "collapsed": false
   },
   "outputs": [],
   "source": [
    "if False:\n",
    "    X = np.random.random((50,20,15))\n",
    "    Y = np.random.random((50,1))\n",
    "else:\n",
    "    AllXs = []\n",
    "    AllYs = []\n",
    "    for i in range(100):\n",
    "        t = (np.random.rand()-0.5)*6 # an offset for the sinus model\n",
    "        Xs = []\n",
    "        for stp in range(20):\n",
    "            vol = 2 + math.sin(t+stp*0.2) # a market volatility\n",
    "            Xs.append( np.random.randn(1,1,15)*vol ) # one slice of stock returns\n",
    "        futurevol = 2 + math.sin(t+(20-1+5)*0.2)\n",
    "        #print(vol, nextvol)\n",
    "        AllXs.append( np.concatenate(Xs, axis=1) )\n",
    "        AllYs.append( np.array([futurevol]).reshape((1,1)) )\n",
    "    X = np.concatenate(AllXs, axis=0)\n",
    "    Y = np.concatenate(AllYs, axis=0)"
   ]
  },
  {
   "cell_type": "code",
   "execution_count": 84,
   "metadata": {
    "collapsed": false
   },
   "outputs": [
    {
     "name": "stdout",
     "output_type": "stream",
     "text": [
      "Epoch 1/20\n",
      "100/100 [==============================] - 0s - loss: 2.6863     \n",
      "Epoch 2/20\n",
      "100/100 [==============================] - 0s - loss: 1.6712     \n",
      "Epoch 3/20\n",
      "100/100 [==============================] - 0s - loss: 0.9381     \n",
      "Epoch 4/20\n",
      "100/100 [==============================] - 0s - loss: 0.6507     \n",
      "Epoch 5/20\n",
      "100/100 [==============================] - 0s - loss: 0.5256     \n",
      "Epoch 6/20\n",
      "100/100 [==============================] - 0s - loss: 0.4386     \n",
      "Epoch 7/20\n",
      "100/100 [==============================] - 0s - loss: 0.3656     \n",
      "Epoch 8/20\n",
      "100/100 [==============================] - 0s - loss: 0.3093     \n",
      "Epoch 9/20\n",
      "100/100 [==============================] - 0s - loss: 0.2571     \n",
      "Epoch 10/20\n",
      "100/100 [==============================] - 0s - loss: 0.2115     \n",
      "Epoch 11/20\n",
      "100/100 [==============================] - 0s - loss: 0.1756     \n",
      "Epoch 12/20\n",
      "100/100 [==============================] - 0s - loss: 0.1436     \n",
      "Epoch 13/20\n",
      "100/100 [==============================] - 0s - loss: 0.1176     \n",
      "Epoch 14/20\n",
      "100/100 [==============================] - 0s - loss: 0.1009     \n",
      "Epoch 15/20\n",
      "100/100 [==============================] - 0s - loss: 0.0801     \n",
      "Epoch 16/20\n",
      "100/100 [==============================] - 0s - loss: 0.0721     \n",
      "Epoch 17/20\n",
      "100/100 [==============================] - 0s - loss: 0.0616     \n",
      "Epoch 18/20\n",
      "100/100 [==============================] - 0s - loss: 0.0554     \n",
      "Epoch 19/20\n",
      "100/100 [==============================] - 0s - loss: 0.0527     \n",
      "Epoch 20/20\n",
      "100/100 [==============================] - 0s - loss: 0.0520     \n"
     ]
    },
    {
     "data": {
      "text/plain": [
       "<keras.callbacks.History at 0x7fa0604399d0>"
      ]
     },
     "execution_count": 84,
     "metadata": {},
     "output_type": "execute_result"
    }
   ],
   "source": [
    "model.fit(X, Y, batch_size=5, nb_epoch=20)"
   ]
  },
  {
   "cell_type": "code",
   "execution_count": 85,
   "metadata": {
    "collapsed": true
   },
   "outputs": [],
   "source": [
    "import quandl # pip install quandl\n",
    "import pandas as pd"
   ]
  },
  {
   "cell_type": "code",
   "execution_count": 86,
   "metadata": {
    "collapsed": true
   },
   "outputs": [],
   "source": [
    "def qData(tick='MSFT'):\n",
    "    return quandl.get(\"WIKI/\"+tick+\".4\",\n",
    "                      start_date=\"2007-01-01\",\n",
    "                      end_date=\"2016-12-31\",\n",
    "                      collapse=\"daily\")"
   ]
  },
  {
   "cell_type": "code",
   "execution_count": 87,
   "metadata": {
    "collapsed": true
   },
   "outputs": [],
   "source": [
    "TICKERS = ['MSFT','JPM','INTC','DOW','KO',\n",
    "             'MCD','CAT','WMT','MMM','AXP',\n",
    "             'BA','GE','XOM','PG','JNJ']"
   ]
  },
  {
   "cell_type": "code",
   "execution_count": 96,
   "metadata": {
    "collapsed": false
   },
   "outputs": [],
   "source": [
    "try:\n",
    "    D.keys()\n",
    "except:\n",
    "    print('create empty Quandl cache')\n",
    "    D = {}\n",
    "\n",
    "for tckr in TICKERS:\n",
    "    if not(tckr in D.keys()):\n",
    "        print(tckr)\n",
    "        qdt = qData(tckr)\n",
    "        qdt.rename(columns={'Close': tckr}, inplace = True)\n",
    "        D[tckr] = qdt\n",
    "        \n",
    "for tck in D.keys():\n",
    "    assert(D[tck].keys() == [tck])"
   ]
  },
  {
   "cell_type": "code",
   "execution_count": 97,
   "metadata": {
    "collapsed": false
   },
   "outputs": [
    {
     "name": "stdout",
     "output_type": "stream",
     "text": [
      "(2517, 1)\n",
      "(2502, 1)\n",
      "(2518, 1)\n",
      "(2505, 1)\n",
      "(2518, 1)\n",
      "(2518, 1)\n",
      "(2518, 1)\n",
      "(2518, 1)\n",
      "(2518, 1)\n",
      "(2518, 1)\n",
      "(2518, 1)\n",
      "(2518, 1)\n",
      "(2503, 1)\n",
      "(2512, 1)\n",
      "(2518, 1)\n"
     ]
    }
   ],
   "source": [
    "for tck in D.keys():\n",
    "    print(D[tck].shape)"
   ]
  },
  {
   "cell_type": "code",
   "execution_count": 98,
   "metadata": {
    "collapsed": false
   },
   "outputs": [],
   "source": [
    "J = D[TICKERS[0]].join(D[TICKERS[1]])\n",
    "for tck in TICKERS[2:]:\n",
    "    J = J.join(D[tck])"
   ]
  },
  {
   "cell_type": "code",
   "execution_count": 99,
   "metadata": {
    "collapsed": false
   },
   "outputs": [
    {
     "data": {
      "text/html": [
       "<div>\n",
       "<table border=\"1\" class=\"dataframe\">\n",
       "  <thead>\n",
       "    <tr style=\"text-align: right;\">\n",
       "      <th></th>\n",
       "      <th>MSFT</th>\n",
       "      <th>JPM</th>\n",
       "      <th>INTC</th>\n",
       "      <th>DOW</th>\n",
       "      <th>KO</th>\n",
       "      <th>MCD</th>\n",
       "      <th>CAT</th>\n",
       "      <th>WMT</th>\n",
       "      <th>MMM</th>\n",
       "      <th>AXP</th>\n",
       "      <th>BA</th>\n",
       "      <th>GE</th>\n",
       "      <th>XOM</th>\n",
       "      <th>PG</th>\n",
       "      <th>JNJ</th>\n",
       "    </tr>\n",
       "    <tr>\n",
       "      <th>Date</th>\n",
       "      <th></th>\n",
       "      <th></th>\n",
       "      <th></th>\n",
       "      <th></th>\n",
       "      <th></th>\n",
       "      <th></th>\n",
       "      <th></th>\n",
       "      <th></th>\n",
       "      <th></th>\n",
       "      <th></th>\n",
       "      <th></th>\n",
       "      <th></th>\n",
       "      <th></th>\n",
       "      <th></th>\n",
       "      <th></th>\n",
       "    </tr>\n",
       "  </thead>\n",
       "  <tbody>\n",
       "    <tr>\n",
       "      <th>2007-01-03</th>\n",
       "      <td>29.86</td>\n",
       "      <td>48.07</td>\n",
       "      <td>20.35</td>\n",
       "      <td>40.27</td>\n",
       "      <td>48.58</td>\n",
       "      <td>43.87</td>\n",
       "      <td>61.16</td>\n",
       "      <td>47.55</td>\n",
       "      <td>78.26</td>\n",
       "      <td>60.36</td>\n",
       "      <td>89.17</td>\n",
       "      <td>37.97</td>\n",
       "      <td>74.11</td>\n",
       "      <td>64.54</td>\n",
       "      <td>66.40</td>\n",
       "    </tr>\n",
       "    <tr>\n",
       "      <th>2007-01-04</th>\n",
       "      <td>29.81</td>\n",
       "      <td>48.19</td>\n",
       "      <td>21.17</td>\n",
       "      <td>40.09</td>\n",
       "      <td>48.60</td>\n",
       "      <td>43.54</td>\n",
       "      <td>61.00</td>\n",
       "      <td>47.78</td>\n",
       "      <td>77.95</td>\n",
       "      <td>59.92</td>\n",
       "      <td>89.53</td>\n",
       "      <td>37.75</td>\n",
       "      <td>72.72</td>\n",
       "      <td>64.05</td>\n",
       "      <td>67.23</td>\n",
       "    </tr>\n",
       "    <tr>\n",
       "      <th>2007-01-05</th>\n",
       "      <td>29.64</td>\n",
       "      <td>47.79</td>\n",
       "      <td>21.10</td>\n",
       "      <td>39.71</td>\n",
       "      <td>48.26</td>\n",
       "      <td>43.54</td>\n",
       "      <td>60.22</td>\n",
       "      <td>47.39</td>\n",
       "      <td>77.42</td>\n",
       "      <td>59.13</td>\n",
       "      <td>89.15</td>\n",
       "      <td>37.56</td>\n",
       "      <td>73.24</td>\n",
       "      <td>63.50</td>\n",
       "      <td>66.62</td>\n",
       "    </tr>\n",
       "    <tr>\n",
       "      <th>2007-01-08</th>\n",
       "      <td>29.93</td>\n",
       "      <td>47.95</td>\n",
       "      <td>21.01</td>\n",
       "      <td>39.49</td>\n",
       "      <td>48.57</td>\n",
       "      <td>43.71</td>\n",
       "      <td>60.29</td>\n",
       "      <td>47.00</td>\n",
       "      <td>77.59</td>\n",
       "      <td>59.69</td>\n",
       "      <td>88.94</td>\n",
       "      <td>37.55</td>\n",
       "      <td>72.65</td>\n",
       "      <td>63.64</td>\n",
       "      <td>66.51</td>\n",
       "    </tr>\n",
       "    <tr>\n",
       "      <th>2007-01-09</th>\n",
       "      <td>29.96</td>\n",
       "      <td>47.75</td>\n",
       "      <td>21.03</td>\n",
       "      <td>39.39</td>\n",
       "      <td>48.61</td>\n",
       "      <td>43.79</td>\n",
       "      <td>60.62</td>\n",
       "      <td>47.39</td>\n",
       "      <td>77.68</td>\n",
       "      <td>59.31</td>\n",
       "      <td>88.00</td>\n",
       "      <td>37.55</td>\n",
       "      <td>72.09</td>\n",
       "      <td>63.48</td>\n",
       "      <td>66.26</td>\n",
       "    </tr>\n",
       "  </tbody>\n",
       "</table>\n",
       "</div>"
      ],
      "text/plain": [
       "             MSFT    JPM   INTC    DOW     KO    MCD    CAT    WMT    MMM  \\\n",
       "Date                                                                        \n",
       "2007-01-03  29.86  48.07  20.35  40.27  48.58  43.87  61.16  47.55  78.26   \n",
       "2007-01-04  29.81  48.19  21.17  40.09  48.60  43.54  61.00  47.78  77.95   \n",
       "2007-01-05  29.64  47.79  21.10  39.71  48.26  43.54  60.22  47.39  77.42   \n",
       "2007-01-08  29.93  47.95  21.01  39.49  48.57  43.71  60.29  47.00  77.59   \n",
       "2007-01-09  29.96  47.75  21.03  39.39  48.61  43.79  60.62  47.39  77.68   \n",
       "\n",
       "              AXP     BA     GE    XOM     PG    JNJ  \n",
       "Date                                                  \n",
       "2007-01-03  60.36  89.17  37.97  74.11  64.54  66.40  \n",
       "2007-01-04  59.92  89.53  37.75  72.72  64.05  67.23  \n",
       "2007-01-05  59.13  89.15  37.56  73.24  63.50  66.62  \n",
       "2007-01-08  59.69  88.94  37.55  72.65  63.64  66.51  \n",
       "2007-01-09  59.31  88.00  37.55  72.09  63.48  66.26  "
      ]
     },
     "execution_count": 99,
     "metadata": {},
     "output_type": "execute_result"
    }
   ],
   "source": [
    "J.head(5)"
   ]
  },
  {
   "cell_type": "code",
   "execution_count": 102,
   "metadata": {
    "collapsed": false
   },
   "outputs": [
    {
     "data": {
      "text/plain": [
       "MSFT     0\n",
       "JPM      0\n",
       "INTC     0\n",
       "DOW      6\n",
       "KO       0\n",
       "MCD      0\n",
       "CAT      0\n",
       "WMT     15\n",
       "MMM      0\n",
       "AXP      1\n",
       "BA      13\n",
       "GE       0\n",
       "XOM     16\n",
       "PG       0\n",
       "JNJ      0\n",
       "dtype: int64"
      ]
     },
     "execution_count": 102,
     "metadata": {},
     "output_type": "execute_result"
    }
   ],
   "source": [
    "J.isnull().sum()"
   ]
  },
  {
   "cell_type": "code",
   "execution_count": 125,
   "metadata": {
    "collapsed": true
   },
   "outputs": [],
   "source": [
    "J2 = J.fillna(method='ffill')"
   ]
  },
  {
   "cell_type": "code",
   "execution_count": 126,
   "metadata": {
    "collapsed": false
   },
   "outputs": [],
   "source": [
    "#J2[J['WMT'].isnull()]"
   ]
  },
  {
   "cell_type": "code",
   "execution_count": 152,
   "metadata": {
    "collapsed": false
   },
   "outputs": [],
   "source": [
    "LogDiffJ = J2.apply(np.log).diff(periods=1, axis=0)"
   ]
  },
  {
   "cell_type": "code",
   "execution_count": 153,
   "metadata": {
    "collapsed": false
   },
   "outputs": [
    {
     "data": {
      "text/plain": [
       "(2517, 15)"
      ]
     },
     "execution_count": 153,
     "metadata": {},
     "output_type": "execute_result"
    }
   ],
   "source": [
    "LogDiffJ.drop(LogDiffJ.index[0:1], inplace=True)\n",
    "LogDiffJ.shape"
   ]
  },
  {
   "cell_type": "code",
   "execution_count": 154,
   "metadata": {
    "collapsed": false
   },
   "outputs": [
    {
     "data": {
      "text/plain": [
       "(2517, 15)"
      ]
     },
     "execution_count": 154,
     "metadata": {},
     "output_type": "execute_result"
    }
   ],
   "source": [
    "MktData = LogDiffJ.as_matrix(columns=None) # as numpy.array\n",
    "MktData.shape"
   ]
  },
  {
   "cell_type": "code",
   "execution_count": null,
   "metadata": {
    "collapsed": true
   },
   "outputs": [],
   "source": []
  }
 ],
 "metadata": {
  "kernelspec": {
   "display_name": "Python 2",
   "language": "python",
   "name": "python2"
  },
  "language_info": {
   "codemirror_mode": {
    "name": "ipython",
    "version": 2
   },
   "file_extension": ".py",
   "mimetype": "text/x-python",
   "name": "python",
   "nbconvert_exporter": "python",
   "pygments_lexer": "ipython2",
   "version": "2.7.11"
  }
 },
 "nbformat": 4,
 "nbformat_minor": 0
}
