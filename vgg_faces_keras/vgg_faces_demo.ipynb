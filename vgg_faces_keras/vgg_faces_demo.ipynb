{
 "cells": [
  {
   "cell_type": "code",
   "execution_count": 135,
   "metadata": {
    "collapsed": false
   },
   "outputs": [],
   "source": [
    "from keras.models import Model\n",
    "from keras.layers import Input, Dense, Convolution2D, ZeroPadding2D, MaxPooling2D, Flatten, Dropout, Activation\n",
    "from PIL import Image\n",
    "import numpy as np"
   ]
  },
  {
   "cell_type": "markdown",
   "metadata": {},
   "source": [
    "#### https://gist.github.com/EncodeTS/6bbe8cb8bebad7a672f0d872561782d9"
   ]
  },
  {
   "cell_type": "code",
   "execution_count": 136,
   "metadata": {
    "collapsed": true
   },
   "outputs": [],
   "source": [
    "def vgg_face1(weights_path=None):\n",
    "    img = Input(shape=(3, 224, 224))\n",
    "\n",
    "    pad1_1 = ZeroPadding2D(padding=(1, 1))(img)\n",
    "    conv1_1 = Convolution2D(64, 3, 3, activation='relu', name='conv1_1')(pad1_1)\n",
    "    pad1_2 = ZeroPadding2D(padding=(1, 1))(conv1_1)\n",
    "    conv1_2 = Convolution2D(64, 3, 3, activation='relu', name='conv1_2')(pad1_2)\n",
    "    pool1 = MaxPooling2D((2, 2), strides=(2, 2))(conv1_2)\n",
    "\n",
    "    pad2_1 = ZeroPadding2D((1, 1))(pool1)\n",
    "    conv2_1 = Convolution2D(128, 3, 3, activation='relu', name='conv2_1')(pad2_1)\n",
    "    pad2_2 = ZeroPadding2D((1, 1))(conv2_1)\n",
    "    conv2_2 = Convolution2D(128, 3, 3, activation='relu', name='conv2_2')(pad2_2)\n",
    "    pool2 = MaxPooling2D((2, 2), strides=(2, 2))(conv2_2)\n",
    "\n",
    "    pad3_1 = ZeroPadding2D((1, 1))(pool2)\n",
    "    conv3_1 = Convolution2D(256, 3, 3, activation='relu', name='conv3_1')(pad3_1)\n",
    "    pad3_2 = ZeroPadding2D((1, 1))(conv3_1)\n",
    "    conv3_2 = Convolution2D(256, 3, 3, activation='relu', name='conv3_2')(pad3_2)\n",
    "    pad3_3 = ZeroPadding2D((1, 1))(conv3_2)\n",
    "    conv3_3 = Convolution2D(256, 3, 3, activation='relu', name='conv3_3')(pad3_3)\n",
    "    pool3 = MaxPooling2D((2, 2), strides=(2, 2))(conv3_3)\n",
    "\n",
    "    pad4_1 = ZeroPadding2D((1, 1))(pool3)\n",
    "    conv4_1 = Convolution2D(512, 3, 3, activation='relu', name='conv4_1')(pad4_1)\n",
    "    pad4_2 = ZeroPadding2D((1, 1))(conv4_1)\n",
    "    conv4_2 = Convolution2D(512, 3, 3, activation='relu', name='conv4_2')(pad4_2)\n",
    "    pad4_3 = ZeroPadding2D((1, 1))(conv4_2)\n",
    "    conv4_3 = Convolution2D(512, 3, 3, activation='relu', name='conv4_3')(pad4_3)\n",
    "    pool4 = MaxPooling2D((2, 2), strides=(2, 2))(conv4_3)\n",
    "\n",
    "    pad5_1 = ZeroPadding2D((1, 1))(pool4)\n",
    "    conv5_1 = Convolution2D(512, 3, 3, activation='relu', name='conv5_1')(pad5_1)\n",
    "    pad5_2 = ZeroPadding2D((1, 1))(conv5_1)\n",
    "    conv5_2 = Convolution2D(512, 3, 3, activation='relu', name='conv5_2')(pad5_2)\n",
    "    pad5_3 = ZeroPadding2D((1, 1))(conv5_2)\n",
    "    conv5_3 = Convolution2D(512, 3, 3, activation='relu', name='conv5_3')(pad5_3)\n",
    "    pool5 = MaxPooling2D((2, 2), strides=(2, 2))(conv5_3)\n",
    "\n",
    "    flat = Flatten()(pool5)\n",
    "    fc6 = Dense(4096, activation='relu', name='fc6')(flat)\n",
    "    fc6_drop = Dropout(0.5)(fc6)\n",
    "    fc7 = Dense(4096, activation='relu', name='fc7')(fc6_drop)\n",
    "    fc7_drop = Dropout(0.5)(fc7)\n",
    "    out = Dense(2622, activation='softmax', name='fc8')(fc7_drop)\n",
    "\n",
    "    model = Model(input=img, output=out)\n",
    "\n",
    "    if weights_path:\n",
    "        model.load_weights(weights_path)\n",
    "\n",
    "    return model"
   ]
  },
  {
   "cell_type": "code",
   "execution_count": 137,
   "metadata": {
    "collapsed": false
   },
   "outputs": [],
   "source": [
    "def vgg_face2(weights_path=None):\n",
    "    img = Input(shape=(3, 224, 224))\n",
    "\n",
    "    pad1_1 = ZeroPadding2D(padding=(1, 1))(img)\n",
    "    conv1_1 = Convolution2D(64, 3, 3, activation='relu', name='conv1_1')(pad1_1)\n",
    "    pad1_2 = ZeroPadding2D(padding=(1, 1))(conv1_1)\n",
    "    conv1_2 = Convolution2D(64, 3, 3, activation='relu', name='conv1_2')(pad1_2)\n",
    "    pool1 = MaxPooling2D((2, 2), strides=(2, 2))(conv1_2)\n",
    "\n",
    "    pad2_1 = ZeroPadding2D((1, 1))(pool1)\n",
    "    conv2_1 = Convolution2D(128, 3, 3, activation='relu', name='conv2_1')(pad2_1)\n",
    "    pad2_2 = ZeroPadding2D((1, 1))(conv2_1)\n",
    "    conv2_2 = Convolution2D(128, 3, 3, activation='relu', name='conv2_2')(pad2_2)\n",
    "    pool2 = MaxPooling2D((2, 2), strides=(2, 2))(conv2_2)\n",
    "\n",
    "    pad3_1 = ZeroPadding2D((1, 1))(pool2)\n",
    "    conv3_1 = Convolution2D(256, 3, 3, activation='relu', name='conv3_1')(pad3_1)\n",
    "    pad3_2 = ZeroPadding2D((1, 1))(conv3_1)\n",
    "    conv3_2 = Convolution2D(256, 3, 3, activation='relu', name='conv3_2')(pad3_2)\n",
    "    pad3_3 = ZeroPadding2D((1, 1))(conv3_2)\n",
    "    conv3_3 = Convolution2D(256, 3, 3, activation='relu', name='conv3_3')(pad3_3)\n",
    "    pool3 = MaxPooling2D((2, 2), strides=(2, 2))(conv3_3)\n",
    "\n",
    "    pad4_1 = ZeroPadding2D((1, 1))(pool3)\n",
    "    conv4_1 = Convolution2D(512, 3, 3, activation='relu', name='conv4_1')(pad4_1)\n",
    "    pad4_2 = ZeroPadding2D((1, 1))(conv4_1)\n",
    "    conv4_2 = Convolution2D(512, 3, 3, activation='relu', name='conv4_2')(pad4_2)\n",
    "    pad4_3 = ZeroPadding2D((1, 1))(conv4_2)\n",
    "    conv4_3 = Convolution2D(512, 3, 3, activation='relu', name='conv4_3')(pad4_3)\n",
    "    pool4 = MaxPooling2D((2, 2), strides=(2, 2))(conv4_3)\n",
    "\n",
    "    pad5_1 = ZeroPadding2D((1, 1))(pool4)\n",
    "    conv5_1 = Convolution2D(512, 3, 3, activation='relu', name='conv5_1')(pad5_1)\n",
    "    pad5_2 = ZeroPadding2D((1, 1))(conv5_1)\n",
    "    conv5_2 = Convolution2D(512, 3, 3, activation='relu', name='conv5_2')(pad5_2)\n",
    "    pad5_3 = ZeroPadding2D((1, 1))(conv5_2)\n",
    "    conv5_3 = Convolution2D(512, 3, 3, activation='relu', name='conv5_3')(pad5_3)\n",
    "    pool5 = MaxPooling2D((2, 2), strides=(2, 2))(conv5_3)\n",
    "\n",
    "    fc6 = Convolution2D(4096, 7, 7, activation='relu', name='fc6')(pool5)\n",
    "    fc6_drop = Dropout(0.5)(fc6)\n",
    "    fc7 = Convolution2D(4096, 1, 1, activation='relu', name='fc7')(fc6_drop)\n",
    "    fc7_drop = Dropout(0.5)(fc7)\n",
    "    fc8 = Convolution2D(2622, 1, 1, name='fc8')(fc7_drop)\n",
    "    flat = Flatten()(fc8)\n",
    "    out = Activation('softmax')(flat)\n",
    "\n",
    "    model = Model(input=img, output=out)\n",
    "\n",
    "    if weights_path:\n",
    "        model.load_weights(weights_path)\n",
    "\n",
    "    return model"
   ]
  },
  {
   "cell_type": "code",
   "execution_count": 149,
   "metadata": {
    "collapsed": false
   },
   "outputs": [],
   "source": [
    "blankmodel = vgg_face2(None)"
   ]
  },
  {
   "cell_type": "code",
   "execution_count": 13,
   "metadata": {
    "collapsed": true
   },
   "outputs": [],
   "source": [
    "if False:\n",
    "    im = Image.open('Colin_Firth.jpg')\n",
    "    im = im.resize((224,224))\n",
    "    im = np.array(im).astype(np.float32)\n",
    "    if False:\n",
    "        im[:,:,0] -= 129.1863\n",
    "        im[:,:,1] -= 104.7624\n",
    "        im[:,:,2] -= 93.5940\n",
    "    im = im.transpose((2,0,1))\n",
    "    im = np.expand_dims(im, axis=0)\n",
    "\n",
    "    # Test pretrained model\n",
    "    model = vgg_face('vgg-face-keras.h5')\n",
    "    out = model.predict(im)\n",
    "    print(out[0][0])"
   ]
  },
  {
   "cell_type": "markdown",
   "metadata": {},
   "source": [
    "#### http://www.vlfeat.org/matconvnet/pretrained/#face-recognition\n",
    "#### http://www.vlfeat.org/matconvnet/models/vgg-face.mat"
   ]
  },
  {
   "cell_type": "code",
   "execution_count": 14,
   "metadata": {
    "collapsed": true
   },
   "outputs": [],
   "source": [
    "from scipy.io import loadmat"
   ]
  },
  {
   "cell_type": "code",
   "execution_count": 16,
   "metadata": {
    "collapsed": false
   },
   "outputs": [],
   "source": [
    "data = loadmat('vgg-face.mat', matlab_compatible=False, struct_as_record=False)"
   ]
  },
  {
   "cell_type": "code",
   "execution_count": 17,
   "metadata": {
    "collapsed": false
   },
   "outputs": [
    {
     "data": {
      "text/plain": [
       "dict"
      ]
     },
     "execution_count": 17,
     "metadata": {},
     "output_type": "execute_result"
    }
   ],
   "source": [
    "type(data)"
   ]
  },
  {
   "cell_type": "code",
   "execution_count": 104,
   "metadata": {
    "collapsed": false
   },
   "outputs": [
    {
     "data": {
      "text/plain": [
       "array([[array([u'A.J._Buckley'], \n",
       "      dtype='<U12')],\n",
       "       [array([u'A.R._Rahman'], \n",
       "      dtype='<U11')],\n",
       "       [array([u'Aamir_Khan'], \n",
       "      dtype='<U10')],\n",
       "       ..., \n",
       "       [array([u'Zsa_Zsa_Gabor'], \n",
       "      dtype='<U13')],\n",
       "       [array([u'Zulay_Henao'], \n",
       "      dtype='<U11')],\n",
       "       [array([u'Zuleyka_Silver'], \n",
       "      dtype='<U14')]], dtype=object)"
      ]
     },
     "execution_count": 104,
     "metadata": {},
     "output_type": "execute_result"
    }
   ],
   "source": [
    "data['meta'][0,0].classes[0,0].description"
   ]
  },
  {
   "cell_type": "code",
   "execution_count": 20,
   "metadata": {
    "collapsed": true
   },
   "outputs": [],
   "source": [
    "l = data['layers']"
   ]
  },
  {
   "cell_type": "code",
   "execution_count": 68,
   "metadata": {
    "collapsed": false
   },
   "outputs": [
    {
     "data": {
      "text/plain": [
       "(1, 37)"
      ]
     },
     "execution_count": 68,
     "metadata": {},
     "output_type": "execute_result"
    }
   ],
   "source": [
    "l.shape"
   ]
  },
  {
   "cell_type": "code",
   "execution_count": 128,
   "metadata": {
    "collapsed": false
   },
   "outputs": [
    {
     "name": "stdout",
     "output_type": "stream",
     "text": [
      "['__class__', '__delattr__', '__dict__', '__doc__', '__format__', '__getattribute__', '__hash__', '__init__', '__module__', '__new__', '__reduce__', '__reduce_ex__', '__repr__', '__setattr__', '__sizeof__', '__slotnames__', '__str__', '__subclasshook__', '__weakref__', '_fieldnames', 'dilate', 'learningRate', 'momentum', 'name', 'opts', 'pad', 'precious', 'stride', 'type', 'weightDecay', 'weights'] conv conv3_1\n"
     ]
    }
   ],
   "source": [
    "print(dir(l[0,10][0,0])), l[0,10][0,0].type[0], l[0,10][0,0].name[0]"
   ]
  },
  {
   "cell_type": "code",
   "execution_count": 124,
   "metadata": {
    "collapsed": false
   },
   "outputs": [
    {
     "data": {
      "text/plain": [
       "((3, 3, 128, 256), (256, 1))"
      ]
     },
     "execution_count": 124,
     "metadata": {},
     "output_type": "execute_result"
    }
   ],
   "source": [
    "l[0,10][0,0].weights[0,0].shape, l[0,10][0,0].weights[0,1].shape"
   ]
  },
  {
   "cell_type": "code",
   "execution_count": 154,
   "metadata": {
    "collapsed": false
   },
   "outputs": [
    {
     "data": {
      "text/plain": [
       "((3, 3, 128, 256), (256,))"
      ]
     },
     "execution_count": 154,
     "metadata": {},
     "output_type": "execute_result"
    }
   ],
   "source": [
    "blankmodel.layers[12].get_weights()[0].T.shape, blankmodel.layers[12].get_weights()[1].shape"
   ]
  },
  {
   "cell_type": "code",
   "execution_count": 156,
   "metadata": {
    "collapsed": false
   },
   "outputs": [
    {
     "name": "stdout",
     "output_type": "stream",
     "text": [
      "conv1_1\n",
      "(3, 3, 3, 64) (64, 1)\n",
      "(3, 3, 3, 64) (64,)\n",
      "------------------------------------------\n",
      "conv1_2\n",
      "(3, 3, 64, 64) (64, 1)\n",
      "(3, 3, 64, 64) (64,)\n",
      "------------------------------------------\n",
      "conv2_1\n",
      "(3, 3, 64, 128) (128, 1)\n",
      "(3, 3, 64, 128) (128,)\n",
      "------------------------------------------\n",
      "conv2_2\n",
      "(3, 3, 128, 128) (128, 1)\n",
      "(3, 3, 128, 128) (128,)\n",
      "------------------------------------------\n",
      "conv3_1\n",
      "(3, 3, 128, 256) (256, 1)\n",
      "(3, 3, 128, 256) (256,)\n",
      "------------------------------------------\n",
      "conv3_2\n",
      "(3, 3, 256, 256) (256, 1)\n",
      "(3, 3, 256, 256) (256,)\n",
      "------------------------------------------\n",
      "conv3_3\n",
      "(3, 3, 256, 256) (256, 1)\n",
      "(3, 3, 256, 256) (256,)\n",
      "------------------------------------------\n",
      "conv4_1\n",
      "(3, 3, 256, 512) (512, 1)\n",
      "(3, 3, 256, 512) (512,)\n",
      "------------------------------------------\n",
      "conv4_2\n",
      "(3, 3, 512, 512) (512, 1)\n",
      "(3, 3, 512, 512) (512,)\n",
      "------------------------------------------\n",
      "conv4_3\n",
      "(3, 3, 512, 512) (512, 1)\n",
      "(3, 3, 512, 512) (512,)\n",
      "------------------------------------------\n",
      "conv5_1\n",
      "(3, 3, 512, 512) (512, 1)\n",
      "(3, 3, 512, 512) (512,)\n",
      "------------------------------------------\n",
      "conv5_2\n",
      "(3, 3, 512, 512) (512, 1)\n",
      "(3, 3, 512, 512) (512,)\n",
      "------------------------------------------\n",
      "conv5_3\n",
      "(3, 3, 512, 512) (512, 1)\n",
      "(3, 3, 512, 512) (512,)\n",
      "------------------------------------------\n",
      "fc6\n",
      "(7, 7, 512, 4096) (4096, 1)\n",
      "(7, 7, 512, 4096) (4096,)\n",
      "------------------------------------------\n",
      "fc7\n",
      "(1, 1, 4096, 4096) (4096, 1)\n",
      "(1, 1, 4096, 4096) (4096,)\n",
      "------------------------------------------\n",
      "fc8\n",
      "(1, 1, 4096, 2622) (2622, 1)\n",
      "(1, 1, 4096, 2622) (2622,)\n",
      "------------------------------------------\n"
     ]
    }
   ],
   "source": [
    "kerasnames = [lr.name for lr in blankmodel.layers]\n",
    "\n",
    "for i in range(l.shape[1]):\n",
    "    matname = l[0,i][0,0].name[0]\n",
    "    if matname in kerasnames:\n",
    "        kindex = kerasnames.index(matname)\n",
    "        print matname\n",
    "        print l[0,i][0,0].weights[0,0].shape, l[0,i][0,0].weights[0,1].shape\n",
    "        print blankmodel.layers[kindex].get_weights()[0].T.shape, blankmodel.layers[kindex].get_weights()[1].shape\n",
    "        print '------------------------------------------'"
   ]
  },
  {
   "cell_type": "code",
   "execution_count": null,
   "metadata": {
    "collapsed": true
   },
   "outputs": [],
   "source": []
  }
 ],
 "metadata": {
  "kernelspec": {
   "display_name": "Python 2",
   "language": "python",
   "name": "python2"
  },
  "language_info": {
   "codemirror_mode": {
    "name": "ipython",
    "version": 2
   },
   "file_extension": ".py",
   "mimetype": "text/x-python",
   "name": "python",
   "nbconvert_exporter": "python",
   "pygments_lexer": "ipython2",
   "version": "2.7.11"
  }
 },
 "nbformat": 4,
 "nbformat_minor": 0
}
