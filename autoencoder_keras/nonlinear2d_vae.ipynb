{
 "cells": [
  {
   "cell_type": "code",
   "execution_count": 1,
   "metadata": {
    "collapsed": true
   },
   "outputs": [],
   "source": [
    "%matplotlib inline\n",
    "import matplotlib.pyplot as plt"
   ]
  },
  {
   "cell_type": "code",
   "execution_count": 123,
   "metadata": {
    "collapsed": false
   },
   "outputs": [],
   "source": [
    "from keras.layers import Input, Dense, Lambda #, Convolution2D, MaxPooling2D, UpSampling2D\n",
    "from keras.models import Model, Sequential\n",
    "from keras import regularizers\n",
    "\n",
    "from keras import backend as K\n",
    "from keras import objectives"
   ]
  },
  {
   "cell_type": "markdown",
   "metadata": {},
   "source": [
    "### References :\n",
    "##### Building autoencoders in keras : https://blog.keras.io/building-autoencoders-in-keras.html\n",
    "##### Auto-Encoding Variational Bayes : https://arxiv.org/abs/1312.6114\n",
    "##### Tutorial from Oliver Durr : https://home.zhaw.ch/~dueo/bbs/files/vae.pdf\n",
    "##### Script adapted from TensorFlow version : https://github.com/oduerr/dl_tutorial/blob/master/tensorflow/vae/vae_demo-2D.ipynb\n",
    "### WARNING : the TFlow version has better results, need to check why !"
   ]
  },
  {
   "cell_type": "code",
   "execution_count": 3,
   "metadata": {
    "collapsed": true
   },
   "outputs": [],
   "source": [
    "import numpy as np\n",
    "from scipy.stats import norm"
   ]
  },
  {
   "cell_type": "code",
   "execution_count": 4,
   "metadata": {
    "collapsed": true
   },
   "outputs": [],
   "source": [
    "def next_batch(batch_size, non_crossing=True):\n",
    "    z_true = np.random.uniform(0,1,batch_size)\n",
    "    r = np.power(z_true, 0.5)\n",
    "    phi = 0.25 * np.pi * z_true\n",
    "    x1 = r*np.cos(phi)\n",
    "    x2 = r*np.sin(phi)\n",
    "    \n",
    "    # Sampling form a Gaussian\n",
    "    x1 = np.random.normal(x1, 0.10* np.power(z_true,2), batch_size)\n",
    "    x2 = np.random.normal(x2, 0.10* np.power(z_true,2), batch_size)\n",
    "        \n",
    "    # Bringing data in the right form\n",
    "    X = np.transpose(np.reshape((x1,x2), (2, batch_size)))\n",
    "    X = np.asarray(X, dtype='float32')\n",
    "    return X"
   ]
  },
  {
   "cell_type": "code",
   "execution_count": 114,
   "metadata": {
    "collapsed": false
   },
   "outputs": [
    {
     "data": {
      "image/png": "[encoded data removed]",
      "text/plain": [
       "<matplotlib.figure.Figure at 0x7f89c66dd090>"
      ]
     },
     "metadata": {},
     "output_type": "display_data"
    },
    {
     "data": {
      "text/plain": [
       "(9600, 2)"
      ]
     },
     "execution_count": 114,
     "metadata": {},
     "output_type": "execute_result"
    }
   ],
   "source": [
    "batch_size = 32\n",
    "\n",
    "x_train = next_batch(batch_size*300)\n",
    "plt.plot(x_train[:,0], x_train[:,1], '.')\n",
    "plt.show()\n",
    "x_train.shape"
   ]
  },
  {
   "cell_type": "markdown",
   "metadata": {},
   "source": [
    "### Blog : building autoencoders in keras\n",
    "https://blog.keras.io/building-autoencoders-in-keras.html"
   ]
  },
  {
   "cell_type": "markdown",
   "metadata": {
    "collapsed": true
   },
   "source": [
    "## Variational Auto-Encoder"
   ]
  },
  {
   "cell_type": "code",
   "execution_count": 205,
   "metadata": {
    "collapsed": true
   },
   "outputs": [],
   "source": [
    "original_dim = x_train.shape[1]\n",
    "\n",
    "n_z = 1 # dimension of latent space\n",
    "n_hidden_1 = 5\n",
    "n_hidden_2 = 6\n",
    "\n",
    "nb_epoch = 10\n",
    "epsilon_std = 1.0"
   ]
  },
  {
   "cell_type": "code",
   "execution_count": 98,
   "metadata": {
    "collapsed": false
   },
   "outputs": [],
   "source": [
    "x = Input(batch_shape=(batch_size, original_dim))\n",
    "h1 = Dense(n_hidden_1, activation='softplus')(x)\n",
    "h2 = Dense(n_hidden_2, activation='softplus')(h1)\n",
    "z_mean = Dense(n_z, activation=None)(h2)\n",
    "z_log_var = Dense(n_z, activation=None)(h2)\n",
    "\n",
    "assert(batch_size == 32) # WARNING : with 64 I get strange error messages\n",
    "def sampling(args):\n",
    "    z_mean, z_log_var = args\n",
    "    epsilon = K.random_normal(shape=(batch_size, n_z), mean=0.,\n",
    "                              std=epsilon_std)\n",
    "    return z_mean + K.exp(z_log_var / 2) * epsilon\n",
    "\n",
    "# note that \"output_shape\" isn't necessary with the TensorFlow backend\n",
    "z = Lambda(sampling, output_shape=(n_z,))([z_mean, z_log_var])\n",
    "\n",
    "# we instantiate these layers separately so as to reuse them later\n",
    "decoder_h1 = Dense(n_hidden_1, activation='softplus')\n",
    "decoder_h2 = Dense(n_hidden_2, activation='softplus')\n",
    "\n",
    "h_decoded = decoder_h2(decoder_h1(z))\n",
    "\n",
    "decoder_mean = Dense(original_dim, activation=None)\n",
    "decoder_ls2 = Dense(original_dim, activation=None)\n",
    "\n",
    "x_decoded_mean = decoder_mean(h_decoded)\n",
    "x_decoded_ls2 = decoder_ls2(h_decoded)"
   ]
  },
  {
   "cell_type": "markdown",
   "metadata": {},
   "source": [
    "#### Defining the loss function\n",
    "\n",
    "##### The reconstruction error\n",
    "We assume that the data x, is Gaussian distributed with diagnoal covariance matrix $\\Sigma_{ij} = \\delta_{i,j} \\sigma_i^2$.\n",
    "\n",
    "The parameters of that Gaussian are determined by the encoder network.\n",
    "\n",
    "The reconstruction error for the $i-th$ example in the min-batch is given by \n",
    "$$\n",
    "    \\mathbb{E}_{q(z|x^{(i)})}\\left( \\log\\left(p(x^{(i)}|z)\\right)\\right)\n",
    "$$\n",
    "we approximate the expectation with sampling from the distribution (even with $L=1$)\n",
    "$$\n",
    "    \\mathbb{E}_{q(z|x^{(i)})}\\left( \\log\\left(p(x^{(i)}|z)\\right)\\right) \\approx \n",
    "    \\frac{1}{L} \\sum_{i=1}^L \\log\\left(p(x^{(i)}|z^{(i,l)})\\right) \\approx \\log\\left(p(x^{(i)}|z^{(i,l)})\\right)\n",
    "$$\n",
    "\n",
    "For the simple $J-dimensional$ Gaussian, we obtain the following reconstruction error (neglecting a constant term)\n",
    "$$\n",
    "    -\\log\\left(p(x^{(i)}|z^{(i)})\\right) = \\sum_{j=1}^D \\frac{1}{2} \\log(\\sigma_{x_j}^2) + \\frac{(x^{(i)}_j - \\mu_{x_j})^2}{2 \\sigma_{x_j}^2}\n",
    "$$\n",
    "\n",
    "##### The regularisation term\n",
    "\n",
    "$$\n",
    "    -D_{\\tt{KL}} \\left( q(z|x^{(i)}) || p(z) \\right) = \\frac{1}{2} \\sum_{j=1}^{J} \\left(1 + \\log(\\sigma_{z_j}^{(i)^2}) - \\mu_{z_j}^{(i)^2} - \\sigma_{z_j}^{(i)^2} \\right)\n",
    "$$"
   ]
  },
  {
   "cell_type": "code",
   "execution_count": 99,
   "metadata": {
    "collapsed": false
   },
   "outputs": [],
   "source": [
    "# TensorFlow code for the loss function\n",
    "#reconstr_loss = tf.reduce_sum(0.5 * x_ls2 + (tf.square(x-x_mu)/(2.0 * tf.exp(x_ls2))), 1)\n",
    "#latent_loss = -0.5 * tf.reduce_sum(1 + z_ls2 - tf.square(z_mu) - tf.exp(z_ls2), 1)\n",
    "#cost = tf.reduce_mean(reconstr_loss + latent_loss)   # average over batch\n",
    "\n",
    "#reconstr_loss = K.sum(0.5 * x_decoded_ls2 + (K.square(x-x_decoded_mean)/(2.0 * K.exp(x_decoded_ls2))), axis=-1)\n",
    "#kl_loss = - 0.5 * K.sum(1 + z_log_var - K.square(z_mean) - K.exp(z_log_var), axis=-1)\n",
    "    \n",
    "def vae_loss(x, x_decoded_mean):\n",
    "    #return K.sum(K.square(x_true - x_decoded_vec), axis=-1)\n",
    "    #x_decoded_mean = x_decoded_vec\n",
    "    #xent_loss = original_dim * objectives.binary_crossentropy(x, x_decoded_mean)\n",
    "    reconstr_loss = K.sum(0.5 * x_decoded_ls2 + (K.square(x-x_decoded_mean)/(2.0 * K.exp(x_decoded_ls2))), axis=-1)\n",
    "    kl_loss = - 0.5 * K.sum(1 + z_log_var - K.square(z_mean) - K.exp(z_log_var), axis=-1)\n",
    "    return reconstr_loss + kl_loss\n",
    "\n",
    "vae = Model(x, x_decoded_mean)\n",
    "vae.compile(optimizer='adadelta', loss=vae_loss)"
   ]
  },
  {
   "cell_type": "code",
   "execution_count": 202,
   "metadata": {
    "collapsed": false
   },
   "outputs": [],
   "source": [
    "#test_mdl = Model(x, z) # short-cut model to debug\n",
    "#test_mdl.predict(x_train[0:32,:])"
   ]
  },
  {
   "cell_type": "code",
   "execution_count": 154,
   "metadata": {
    "collapsed": false
   },
   "outputs": [
    {
     "name": "stdout",
     "output_type": "stream",
     "text": [
      "Epoch 1/50\n",
      "6400/6400 [==============================] - 0s - loss: -3.6245     \n",
      "Epoch 2/50\n",
      "6400/6400 [==============================] - 0s - loss: -3.6683     \n",
      "Epoch 3/50\n",
      "6400/6400 [==============================] - 0s - loss: -3.6030     \n",
      "Epoch 4/50\n",
      "6400/6400 [==============================] - 0s - loss: -3.6653     \n",
      "Epoch 5/50\n",
      "6400/6400 [==============================] - 0s - loss: -3.6506     \n",
      "Epoch 6/50\n",
      "6400/6400 [==============================] - 0s - loss: -3.6327     \n",
      "Epoch 7/50\n",
      "6400/6400 [==============================] - 0s - loss: -3.6371     \n",
      "Epoch 8/50\n",
      "6400/6400 [==============================] - 0s - loss: -3.5909     \n",
      "Epoch 9/50\n",
      "6400/6400 [==============================] - 0s - loss: -3.6426     \n",
      "Epoch 10/50\n",
      "6400/6400 [==============================] - 0s - loss: -3.6474     \n",
      "Epoch 11/50\n",
      "6400/6400 [==============================] - 0s - loss: -3.6117     \n",
      "Epoch 12/50\n",
      "6400/6400 [==============================] - 0s - loss: -3.6241     \n",
      "Epoch 13/50\n",
      "6400/6400 [==============================] - 0s - loss: -3.6317     \n",
      "Epoch 14/50\n",
      "6400/6400 [==============================] - 0s - loss: -3.6271     \n",
      "Epoch 15/50\n",
      "6400/6400 [==============================] - 0s - loss: -3.6157     \n",
      "Epoch 16/50\n",
      "6400/6400 [==============================] - 0s - loss: -3.6406     \n",
      "Epoch 17/50\n",
      "6400/6400 [==============================] - 0s - loss: -3.6738     \n",
      "Epoch 18/50\n",
      "6400/6400 [==============================] - 0s - loss: -3.6302     \n",
      "Epoch 19/50\n",
      "6400/6400 [==============================] - 0s - loss: -3.6537     \n",
      "Epoch 20/50\n",
      "6400/6400 [==============================] - 0s - loss: -3.6261     \n",
      "Epoch 21/50\n",
      "6400/6400 [==============================] - 0s - loss: -3.6278     \n",
      "Epoch 22/50\n",
      "6400/6400 [==============================] - 0s - loss: -3.6407     \n",
      "Epoch 23/50\n",
      "6400/6400 [==============================] - 0s - loss: -3.6347     \n",
      "Epoch 24/50\n",
      "6400/6400 [==============================] - 0s - loss: -3.6659     \n",
      "Epoch 25/50\n",
      "6400/6400 [==============================] - 0s - loss: -3.6209     \n",
      "Epoch 26/50\n",
      "6400/6400 [==============================] - 0s - loss: -3.6590     \n",
      "Epoch 27/50\n",
      "6400/6400 [==============================] - 0s - loss: -3.6355     \n",
      "Epoch 28/50\n",
      "6400/6400 [==============================] - 0s - loss: -3.6523     \n",
      "Epoch 29/50\n",
      "6400/6400 [==============================] - 0s - loss: -3.6622     \n",
      "Epoch 30/50\n",
      "6400/6400 [==============================] - 0s - loss: -3.6553     \n",
      "Epoch 31/50\n",
      "6400/6400 [==============================] - 0s - loss: -3.6840     \n",
      "Epoch 32/50\n",
      "6400/6400 [==============================] - 0s - loss: -3.6338     \n",
      "Epoch 33/50\n",
      "6400/6400 [==============================] - 0s - loss: -3.6539     \n",
      "Epoch 34/50\n",
      "6400/6400 [==============================] - 0s - loss: -3.6650     \n",
      "Epoch 35/50\n",
      "6400/6400 [==============================] - 0s - loss: -3.6472     \n",
      "Epoch 36/50\n",
      "6400/6400 [==============================] - 0s - loss: -3.6031     \n",
      "Epoch 37/50\n",
      "6400/6400 [==============================] - 0s - loss: -3.6734     \n",
      "Epoch 38/50\n",
      "6400/6400 [==============================] - 0s - loss: -3.6407     \n",
      "Epoch 39/50\n",
      "6400/6400 [==============================] - 0s - loss: -3.6564     \n",
      "Epoch 40/50\n",
      "6400/6400 [==============================] - 0s - loss: -3.6557     \n",
      "Epoch 41/50\n",
      "6400/6400 [==============================] - 0s - loss: -3.6654     \n",
      "Epoch 42/50\n",
      "6400/6400 [==============================] - 0s - loss: -3.6866     \n",
      "Epoch 43/50\n",
      "6400/6400 [==============================] - 0s - loss: -3.6500     \n",
      "Epoch 44/50\n",
      "6400/6400 [==============================] - 0s - loss: -3.6636     \n",
      "Epoch 45/50\n",
      "6400/6400 [==============================] - 0s - loss: -3.6472     \n",
      "Epoch 46/50\n",
      "6400/6400 [==============================] - 0s - loss: -3.6572     \n",
      "Epoch 47/50\n",
      "6400/6400 [==============================] - 0s - loss: -3.6530     \n",
      "Epoch 48/50\n",
      "6400/6400 [==============================] - 0s - loss: -3.6510     \n",
      "Epoch 49/50\n",
      "6400/6400 [==============================] - 0s - loss: -3.6573     \n",
      "Epoch 50/50\n",
      "6400/6400 [==============================] - 0s - loss: -3.6098     \n"
     ]
    },
    {
     "data": {
      "text/plain": [
       "<keras.callbacks.History at 0x7f89c509ce90>"
      ]
     },
     "execution_count": 154,
     "metadata": {},
     "output_type": "execute_result"
    }
   ],
   "source": [
    "vae.fit(x_train[0:32*200], x_train[0:32*200],\n",
    "        shuffle=True,\n",
    "        nb_epoch=nb_epoch*5, # may have to increase this value, run 100epochs for ok-ish results\n",
    "        batch_size=batch_size)\n",
    "        #validation_data=(x_test, x_test))"
   ]
  },
  {
   "cell_type": "code",
   "execution_count": 206,
   "metadata": {
    "collapsed": false
   },
   "outputs": [
    {
     "data": {
      "text/plain": [
       "[<matplotlib.lines.Line2D at 0x7f89c4239ad0>]"
      ]
     },
     "execution_count": 206,
     "metadata": {},
     "output_type": "execute_result"
    },
    {
     "data": {
      "image/png": "[encoded data removed]",
      "text/plain": [
       "<matplotlib.figure.Figure at 0x7f89c4a49910>"
      ]
     },
     "metadata": {},
     "output_type": "display_data"
    }
   ],
   "source": [
    "x_sample = next_batch(batch_size*3)\n",
    "mdl_x2xm = Model(x, x_decoded_mean)\n",
    "x_mu_val = mdl_x2xm.predict(x_sample)\n",
    "\n",
    "plt.plot(x_mu_val[:,0], x_mu_val[:,1], '.')\n",
    "plt.plot(x_sample[:,0], x_sample[:,1], '+')"
   ]
  },
  {
   "cell_type": "code",
   "execution_count": 196,
   "metadata": {
    "collapsed": false
   },
   "outputs": [],
   "source": [
    "# Sampling from z=-2 to z=2\n",
    "z_vals = np.reshape(np.asarray(np.linspace(-2,2, batch_size*4), dtype='float32'), (batch_size*4,1))"
   ]
  },
  {
   "cell_type": "code",
   "execution_count": 207,
   "metadata": {
    "collapsed": false
   },
   "outputs": [],
   "source": [
    "# x_mean\n",
    "mdl_z2xm = Sequential( [Dense(n_hidden_1, activation='softplus', input_shape=(n_z,)),\n",
    "                        Dense(n_hidden_2, activation='softplus'),\n",
    "                        Dense(original_dim, activation=None)] )\n",
    "\n",
    "mdl_z2xm.layers[0].set_weights( decoder_h1.get_weights() )\n",
    "mdl_z2xm.layers[1].set_weights( decoder_h2.get_weights() )\n",
    "mdl_z2xm.layers[2].set_weights( decoder_mean.get_weights() )\n",
    "\n",
    "x_mu_val = mdl_z2xm.predict(z_vals)\n",
    "\n",
    "# x_ls2\n",
    "mdl_z2xls2 = Sequential( [Dense(n_hidden_1, activation='softplus', input_shape=(n_z,)),\n",
    "                          Dense(n_hidden_2, activation='softplus'),\n",
    "                          Dense(original_dim, activation=None)] )\n",
    "\n",
    "mdl_z2xls2.layers[0].set_weights( decoder_h1.get_weights() )\n",
    "mdl_z2xls2.layers[1].set_weights( decoder_h2.get_weights() )\n",
    "mdl_z2xls2.layers[2].set_weights( decoder_ls2.get_weights() )\n",
    "\n",
    "x_ls2_val = mdl_z2xls2.predict(z_vals)"
   ]
  },
  {
   "cell_type": "code",
   "execution_count": 208,
   "metadata": {
    "collapsed": true
   },
   "outputs": [],
   "source": [
    "idx = np.linspace(0, 4*batch_size-1, 50, dtype='int32') # 20 spaced points"
   ]
  },
  {
   "cell_type": "code",
   "execution_count": 209,
   "metadata": {
    "collapsed": false
   },
   "outputs": [
    {
     "data": {
      "text/plain": [
       "<matplotlib.collections.PathCollection at 0x7f89c3f56490>"
      ]
     },
     "execution_count": 209,
     "metadata": {},
     "output_type": "execute_result"
    },
    {
     "data": {
      "image/png": "[encoded data removed]",
      "text/plain": [
       "<matplotlib.figure.Figure at 0x7f89c46fbd50>"
      ]
     },
     "metadata": {},
     "output_type": "display_data"
    }
   ],
   "source": [
    "plt.scatter(x_mu_val[idx,0], x_mu_val[idx,1], c=z_vals[idx], s=60000* np.mean(np.exp(x_ls2_val[idx,:]), axis=1))"
   ]
  },
  {
   "cell_type": "code",
   "execution_count": 214,
   "metadata": {
    "collapsed": false
   },
   "outputs": [
    {
     "data": {
      "text/plain": [
       "<matplotlib.collections.PathCollection at 0x7f89c3c5bb90>"
      ]
     },
     "execution_count": 214,
     "metadata": {},
     "output_type": "execute_result"
    },
    {
     "data": {
      "image/png": "[encoded data removed]",
      "text/plain": [
       "<matplotlib.figure.Figure at 0x7f89c3ce2a50>"
      ]
     },
     "metadata": {},
     "output_type": "display_data"
    }
   ],
   "source": [
    "def samplingX(x_mean, x_log_var):\n",
    "    assert(x_mean.shape == x_log_var.shape)\n",
    "    epsilon = np.random.normal(0, epsilon_std, size=x_log_var.shape)\n",
    "    return x_mean + np.exp(x_log_var / 2) * epsilon\n",
    "\n",
    "randX = samplingX(x_mu_val, x_ls2_val)\n",
    "\n",
    "plt.scatter(randX[idx,0], randX[idx,1])"
   ]
  },
  {
   "cell_type": "code",
   "execution_count": null,
   "metadata": {
    "collapsed": true
   },
   "outputs": [],
   "source": []
  }
 ],
 "metadata": {
  "kernelspec": {
   "display_name": "Python 2",
   "language": "python",
   "name": "python2"
  },
  "language_info": {
   "codemirror_mode": {
    "name": "ipython",
    "version": 2
   },
   "file_extension": ".py",
   "mimetype": "text/x-python",
   "name": "python",
   "nbconvert_exporter": "python",
   "pygments_lexer": "ipython2",
   "version": "2.7.11"
  }
 },
 "nbformat": 4,
 "nbformat_minor": 0
}
