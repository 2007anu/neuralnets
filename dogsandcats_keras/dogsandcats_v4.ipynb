{
 "cells": [
  {
   "cell_type": "code",
   "execution_count": 1,
   "metadata": {
    "collapsed": false
   },
   "outputs": [
    {
     "name": "stderr",
     "output_type": "stream",
     "text": [
      "Using gpu device 0: Tesla K80 (CNMeM is disabled)\n",
      "Using Theano backend.\n"
     ]
    }
   ],
   "source": [
    "# Rather than importing everything manually, we'll make things easy\n",
    "#   and load them all in utils.py, and just import them from there.\n",
    "%matplotlib inline\n",
    "import utils; reload(utils)\n",
    "from utils import *"
   ]
  },
  {
   "cell_type": "code",
   "execution_count": 2,
   "metadata": {
    "collapsed": true
   },
   "outputs": [],
   "source": [
    "%matplotlib inline\n",
    "from __future__ import division,print_function\n",
    "import os, json\n",
    "from glob import glob\n",
    "import numpy as np\n",
    "import scipy\n",
    "from sklearn.preprocessing import OneHotEncoder\n",
    "from sklearn.metrics import confusion_matrix\n",
    "np.set_printoptions(precision=4, linewidth=100)\n",
    "from matplotlib import pyplot as plt\n",
    "import utils; reload(utils)\n",
    "from utils import plots, get_batches, plot_confusion_matrix, get_data"
   ]
  },
  {
   "cell_type": "code",
   "execution_count": 3,
   "metadata": {
    "collapsed": true
   },
   "outputs": [],
   "source": [
    "from numpy.random import random, permutation\n",
    "from scipy import misc, ndimage\n",
    "from scipy.ndimage.interpolation import zoom\n",
    "\n",
    "import keras\n",
    "from keras import backend as K\n",
    "from keras.utils.data_utils import get_file\n",
    "from keras.models import Sequential\n",
    "from keras.layers import Input\n",
    "from keras.layers.core import Flatten, Dense, Dropout, Lambda\n",
    "from keras.layers.convolutional import Convolution2D, MaxPooling2D, ZeroPadding2D\n",
    "from keras.optimizers import SGD, RMSprop\n",
    "from keras.preprocessing import image"
   ]
  },
  {
   "cell_type": "code",
   "execution_count": 4,
   "metadata": {
    "collapsed": false
   },
   "outputs": [],
   "source": [
    "#path = \"../data/dogsandcats_small/\" # we copied a fraction of the full set for tests\n",
    "path = \"../data/dogsandcats/\"\n",
    "model_path = path + \"models/\"\n",
    "if not os.path.exists(model_path):\n",
    "    os.mkdir(model_path)\n",
    "    print('Done')"
   ]
  },
  {
   "cell_type": "code",
   "execution_count": 6,
   "metadata": {
    "collapsed": false
   },
   "outputs": [],
   "source": [
    "#??get_file"
   ]
  },
  {
   "cell_type": "code",
   "execution_count": 7,
   "metadata": {
    "collapsed": false
   },
   "outputs": [],
   "source": [
    "from vgg16 import Vgg16"
   ]
  },
  {
   "cell_type": "code",
   "execution_count": 10,
   "metadata": {
    "collapsed": true
   },
   "outputs": [],
   "source": [
    "batch_size = 100"
   ]
  },
  {
   "cell_type": "code",
   "execution_count": 11,
   "metadata": {
    "collapsed": false
   },
   "outputs": [],
   "source": [
    "def get_batches(dirname, gen=image.ImageDataGenerator(), shuffle=True, \n",
    "                batch_size=batch_size, class_mode='categorical'):\n",
    "    return gen.flow_from_directory(path+dirname, target_size=(224,224), \n",
    "                class_mode=class_mode, shuffle=shuffle, batch_size=batch_size)"
   ]
  },
  {
   "cell_type": "code",
   "execution_count": 12,
   "metadata": {
    "collapsed": false
   },
   "outputs": [
    {
     "name": "stdout",
     "output_type": "stream",
     "text": [
      "Found 4000 images belonging to 2 classes.\n",
      "Found 21000 images belonging to 2 classes.\n"
     ]
    }
   ],
   "source": [
    "# Use batch size of 1 since we're just doing preprocessing on the CPU\n",
    "val_batches = get_batches('valid', shuffle=False, batch_size=batch_size) # no shuffle as we store conv output\n",
    "trn_batches = get_batches('train', shuffle=False, batch_size=batch_size) # no shuffle as we store conv output"
   ]
  },
  {
   "cell_type": "code",
   "execution_count": 13,
   "metadata": {
    "collapsed": false
   },
   "outputs": [
    {
     "data": {
      "text/plain": [
       "['cat/cat.1262.jpg',\n",
       " 'cat/cat.9495.jpg',\n",
       " 'cat/cat.3044.jpg',\n",
       " 'cat/cat.1424.jpg',\n",
       " 'cat/cat.8210.jpg',\n",
       " 'cat/cat.8847.jpg',\n",
       " 'cat/cat.308.jpg',\n",
       " 'cat/cat.10802.jpg',\n",
       " 'cat/cat.5060.jpg',\n",
       " 'cat/cat.10406.jpg']"
      ]
     },
     "execution_count": 13,
     "metadata": {},
     "output_type": "execute_result"
    }
   ],
   "source": [
    "val_batches.filenames[0:10]"
   ]
  },
  {
   "cell_type": "code",
   "execution_count": 14,
   "metadata": {
    "collapsed": false
   },
   "outputs": [],
   "source": [
    "val_labels = onehot(val_batches.classes)\n",
    "trn_labels = onehot(trn_batches.classes)"
   ]
  },
  {
   "cell_type": "code",
   "execution_count": 15,
   "metadata": {
    "collapsed": false
   },
   "outputs": [
    {
     "data": {
      "text/plain": [
       "'import hashlib\\ndef modelhash(mdl):\\n    chaine = str(mdl.to_json())\\n    return hashlib.md5(chaine).hexdigest()'"
      ]
     },
     "execution_count": 15,
     "metadata": {},
     "output_type": "execute_result"
    }
   ],
   "source": [
    "'''import hashlib\n",
    "def modelhash(mdl):\n",
    "    chaine = str(mdl.to_json())\n",
    "    return hashlib.md5(chaine).hexdigest()'''\n",
    "# THE ABOVE FUNCTION DOES NOT WORK DUE TO LAYER DEFAULT NAMES"
   ]
  },
  {
   "cell_type": "code",
   "execution_count": 12,
   "metadata": {
    "collapsed": false
   },
   "outputs": [],
   "source": [
    "try:\n",
    "    trn = load_array(model_path+'train_data.bc')\n",
    "except:\n",
    "    trn = get_data(path+'train')\n",
    "    save_array(model_path+'train_data.bc', trn)"
   ]
  },
  {
   "cell_type": "code",
   "execution_count": 13,
   "metadata": {
    "collapsed": false
   },
   "outputs": [],
   "source": [
    "try:\n",
    "    val = load_array(model_path+'valid_data.bc')\n",
    "except:\n",
    "    val = get_data(path+'valid')\n",
    "    save_array(model_path+'valid_data.bc', val)"
   ]
  },
  {
   "cell_type": "code",
   "execution_count": 14,
   "metadata": {
    "collapsed": false
   },
   "outputs": [],
   "source": [
    "gen = image.ImageDataGenerator(rotation_range=10, width_shift_range=0.05, \n",
    "                               zoom_range=0.05,\n",
    "                               #channel_shift_range=10,\n",
    "                               height_shift_range=0.05, shear_range=0.05, horizontal_flip=False)\n",
    "trn_batchesRND = gen.flow(trn, trn_labels, batch_size=batch_size)\n",
    "val_batchesRND = gen.flow(val, val_labels, batch_size=batch_size)"
   ]
  },
  {
   "cell_type": "code",
   "execution_count": 16,
   "metadata": {
    "collapsed": false
   },
   "outputs": [
    {
     "name": "stderr",
     "output_type": "stream",
     "text": [
      "/home/ubuntu/anaconda2/lib/python2.7/site-packages/keras/layers/core.py:622: UserWarning: `output_shape` argument not specified for layer lambda_1 and cannot be automatically inferred with the Theano backend. Defaulting to output shape `(None, 3, 224, 224)` (same as input shape). If the expected output shape is different, specify it via the `output_shape` argument.\n",
      "  .format(self.name, input_shape))\n"
     ]
    }
   ],
   "source": [
    "if True:\n",
    "    realvgg = Vgg16()\n",
    "    conv_layers, fc_layers = split_at(realvgg.model, Flatten)\n",
    "    #conv_layers, fc_layers = split_at(realvgg.model, Convolution2D)\n",
    "    conv_model = Sequential(conv_layers)\n",
    "    conv_model_hash = 'conv_v3'"
   ]
  },
  {
   "cell_type": "markdown",
   "metadata": {},
   "source": [
    "### Will take a few minutes to complete the 1st time"
   ]
  },
  {
   "cell_type": "code",
   "execution_count": 17,
   "metadata": {
    "collapsed": false
   },
   "outputs": [],
   "source": [
    "if True:\n",
    "    try:\n",
    "        val_convfeatures = load_array(model_path+'valid_'+conv_model_hash+'_features.bc')\n",
    "        if False: # force update\n",
    "            raise\n",
    "    except:\n",
    "        print('Missing file')\n",
    "        val_convfeatures = conv_model.predict_generator(val_batches, val_batches.nb_sample)\n",
    "        save_array(model_path+'valid_'+conv_model_hash+'_features.bc', val_convfeatures)"
   ]
  },
  {
   "cell_type": "markdown",
   "metadata": {},
   "source": [
    "### Will take a few minutes (maybe 10) to complete the 1st time"
   ]
  },
  {
   "cell_type": "code",
   "execution_count": 18,
   "metadata": {
    "collapsed": false
   },
   "outputs": [],
   "source": [
    "if True:\n",
    "    try:\n",
    "        trn_convfeatures = load_array(model_path+'train_'+conv_model_hash+'_features.bc')\n",
    "        if False: # force update\n",
    "            raise\n",
    "    except:\n",
    "        print('Missing file')\n",
    "        trn_convfeatures = conv_model.predict_generator(trn_batches, trn_batches.nb_sample)\n",
    "        save_array(model_path+'train_'+conv_model_hash+'_features.bc', trn_convfeatures)"
   ]
  },
  {
   "cell_type": "markdown",
   "metadata": {},
   "source": [
    "### Ready to train the model"
   ]
  },
  {
   "cell_type": "code",
   "execution_count": 40,
   "metadata": {
    "collapsed": false
   },
   "outputs": [],
   "source": [
    "# see : https://github.com/fastai/courses/blob/master/deeplearning1/nbs/lesson3.ipynb\n",
    "\n",
    "def proc_wgts(layer, ndo):\n",
    "    # copy the weights from the pre-trained model\n",
    "    # original weights are for a 50% drop out\n",
    "    # we infer the corresponding weight for a new drop out (ndo) level\n",
    "    return [w*0.5/(1.-ndo) for w in layer.get_weights()]\n",
    "\n",
    "def get_fc_model(ndo):\n",
    "    model = Sequential([\n",
    "        Dense(4096, activation='relu', input_shape=conv_layers[-1].output_shape[1:]),\n",
    "        Dropout(ndo),\n",
    "        Dense(4096, activation='relu'),\n",
    "        Dropout(ndo),\n",
    "        Dense(2, activation='softmax')\n",
    "        ])\n",
    "\n",
    "    for l_new, l_orig in zip(model.layers[0:3], fc_layers[0:3]):\n",
    "        assert (type(l_new) == type(l_orig))\n",
    "        l_new.set_weights(proc_wgts(l_orig, ndo))\n",
    "    \n",
    "    for layer in model.layers[:-1]:\n",
    "        layer.trainable = False\n",
    "        \n",
    "    model.layers[-1].trainable = True\n",
    "    \n",
    "    #opt = RMSprop(lr=0.00001, rho=0.7)\n",
    "    opt = Adam()\n",
    "    model.compile(optimizer=opt, loss='categorical_crossentropy', metrics=['accuracy'])\n",
    "    return model"
   ]
  },
  {
   "cell_type": "code",
   "execution_count": 41,
   "metadata": {
    "collapsed": true
   },
   "outputs": [],
   "source": [
    "dense_model =  get_fc_model(0.5)"
   ]
  },
  {
   "cell_type": "code",
   "execution_count": 42,
   "metadata": {
    "collapsed": true
   },
   "outputs": [],
   "source": [
    "k_layer_out0 = K.function([dense_model.layers[0].input, K.learning_phase()],\n",
    "                          [dense_model.layers[0].output])\n",
    "\n",
    "d0_out = k_layer_out0([trn_convfeatures, 0])[0]\n",
    "\n",
    "mu0, var0 = d0_out.mean(axis=0), d0_out.var(axis=0)"
   ]
  },
  {
   "cell_type": "code",
   "execution_count": 43,
   "metadata": {
    "collapsed": true
   },
   "outputs": [],
   "source": [
    "k_layer_out2 = K.function([dense_model.layers[0].input, K.learning_phase()],\n",
    "                          [dense_model.layers[2].output])\n",
    "\n",
    "d2_out = k_layer_out2([trn_convfeatures, 0])[0]\n",
    "\n",
    "mu2, var2 = d2_out.mean(axis=0), d2_out.var(axis=0)"
   ]
  },
  {
   "cell_type": "code",
   "execution_count": 44,
   "metadata": {
    "collapsed": false
   },
   "outputs": [],
   "source": [
    "bn_model = insert_layer(dense_model, BatchNormalization(), 1)\n",
    "bn_model = insert_layer(bn_model, BatchNormalization(), 4) # shifted due to insertion\n",
    "\n",
    "bnl1 = bn_model.layers[1]\n",
    "bnl4 = bn_model.layers[4]\n",
    "\n",
    "#After inserting the layers, we can set their weights to the variance and mean we just calculated.\n",
    "bnl1.set_weights([var0, mu0, mu0, var0])\n",
    "bnl4.set_weights([var2, mu2, mu2, var2])\n",
    "\n",
    "bn_model.compile(Adam(1e-5), 'categorical_crossentropy', ['accuracy'])"
   ]
  },
  {
   "cell_type": "code",
   "execution_count": 51,
   "metadata": {
    "collapsed": false
   },
   "outputs": [
    {
     "name": "stdout",
     "output_type": "stream",
     "text": [
      "<class 'keras.layers.core.Dense'> True\n",
      "<class 'keras.layers.normalization.BatchNormalization'> True\n",
      "<class 'keras.layers.core.Dropout'> True\n",
      "<class 'keras.layers.core.Dense'> True\n",
      "<class 'keras.layers.normalization.BatchNormalization'> True\n",
      "<class 'keras.layers.core.Dropout'> True\n",
      "<class 'keras.layers.core.Dense'> True\n"
     ]
    }
   ],
   "source": [
    "for layer in bn_model.layers:\n",
    "    print(type(layer), layer.trainable)\n",
    "    layer.trainable = True"
   ]
  },
  {
   "cell_type": "code",
   "execution_count": 100,
   "metadata": {
    "collapsed": false
   },
   "outputs": [
    {
     "name": "stdout",
     "output_type": "stream",
     "text": [
      "Train on 21000 samples, validate on 4000 samples\n",
      "Epoch 1/50\n",
      "21000/21000 [==============================] - 11s - loss: 0.0629 - acc: 0.9767 - val_loss: 0.0397 - val_acc: 0.9858\n",
      "Epoch 2/50\n",
      "21000/21000 [==============================] - 11s - loss: 0.0616 - acc: 0.9775 - val_loss: 0.0406 - val_acc: 0.9845\n",
      "Epoch 3/50\n",
      "21000/21000 [==============================] - 11s - loss: 0.0625 - acc: 0.9778 - val_loss: 0.0398 - val_acc: 0.9865\n",
      "Epoch 4/50\n",
      "21000/21000 [==============================] - 11s - loss: 0.0654 - acc: 0.9755 - val_loss: 0.0394 - val_acc: 0.9860\n",
      "Epoch 5/50\n",
      "21000/21000 [==============================] - 11s - loss: 0.0635 - acc: 0.9776 - val_loss: 0.0398 - val_acc: 0.9860\n",
      "Epoch 6/50\n",
      "21000/21000 [==============================] - 11s - loss: 0.0628 - acc: 0.9768 - val_loss: 0.0393 - val_acc: 0.9860\n",
      "Epoch 7/50\n",
      "21000/21000 [==============================] - 11s - loss: 0.0636 - acc: 0.9774 - val_loss: 0.0398 - val_acc: 0.9860\n",
      "Epoch 8/50\n",
      "21000/21000 [==============================] - 11s - loss: 0.0584 - acc: 0.9780 - val_loss: 0.0396 - val_acc: 0.9855\n",
      "Epoch 9/50\n",
      "21000/21000 [==============================] - 11s - loss: 0.0582 - acc: 0.9789 - val_loss: 0.0399 - val_acc: 0.9852\n",
      "Epoch 10/50\n",
      "21000/21000 [==============================] - 11s - loss: 0.0608 - acc: 0.9766 - val_loss: 0.0397 - val_acc: 0.9858\n",
      "Epoch 11/50\n",
      "21000/21000 [==============================] - 11s - loss: 0.0648 - acc: 0.9757 - val_loss: 0.0394 - val_acc: 0.9862\n",
      "Epoch 12/50\n",
      "21000/21000 [==============================] - 11s - loss: 0.0639 - acc: 0.9761 - val_loss: 0.0403 - val_acc: 0.9852\n",
      "Epoch 13/50\n",
      "21000/21000 [==============================] - 11s - loss: 0.0604 - acc: 0.9773 - val_loss: 0.0399 - val_acc: 0.9858\n",
      "Epoch 14/50\n",
      "21000/21000 [==============================] - 11s - loss: 0.0612 - acc: 0.9774 - val_loss: 0.0396 - val_acc: 0.9855\n",
      "Epoch 15/50\n",
      "21000/21000 [==============================] - 11s - loss: 0.0635 - acc: 0.9769 - val_loss: 0.0395 - val_acc: 0.9860\n",
      "Epoch 16/50\n",
      "21000/21000 [==============================] - 11s - loss: 0.0612 - acc: 0.9777 - val_loss: 0.0399 - val_acc: 0.9860\n",
      "Epoch 17/50\n",
      "21000/21000 [==============================] - 11s - loss: 0.0607 - acc: 0.9781 - val_loss: 0.0395 - val_acc: 0.9862\n",
      "Epoch 18/50\n",
      "21000/21000 [==============================] - 11s - loss: 0.0603 - acc: 0.9771 - val_loss: 0.0399 - val_acc: 0.9862\n",
      "Epoch 19/50\n",
      "21000/21000 [==============================] - 11s - loss: 0.0621 - acc: 0.9782 - val_loss: 0.0396 - val_acc: 0.9868\n",
      "Epoch 20/50\n",
      "21000/21000 [==============================] - 11s - loss: 0.0636 - acc: 0.9760 - val_loss: 0.0398 - val_acc: 0.9865\n",
      "Epoch 21/50\n",
      "21000/21000 [==============================] - 11s - loss: 0.0606 - acc: 0.9780 - val_loss: 0.0395 - val_acc: 0.9865\n",
      "Epoch 22/50\n",
      "21000/21000 [==============================] - 11s - loss: 0.0666 - acc: 0.9756 - val_loss: 0.0396 - val_acc: 0.9865\n",
      "Epoch 23/50\n",
      "21000/21000 [==============================] - 11s - loss: 0.0635 - acc: 0.9770 - val_loss: 0.0403 - val_acc: 0.9855\n",
      "Epoch 24/50\n",
      "21000/21000 [==============================] - 11s - loss: 0.0618 - acc: 0.9765 - val_loss: 0.0397 - val_acc: 0.9862\n",
      "Epoch 25/50\n",
      "21000/21000 [==============================] - 11s - loss: 0.0609 - acc: 0.9762 - val_loss: 0.0395 - val_acc: 0.9862\n",
      "Epoch 26/50\n",
      "21000/21000 [==============================] - 11s - loss: 0.0614 - acc: 0.9784 - val_loss: 0.0392 - val_acc: 0.9865\n",
      "Epoch 27/50\n",
      "21000/21000 [==============================] - 11s - loss: 0.0605 - acc: 0.9787 - val_loss: 0.0392 - val_acc: 0.9865\n",
      "Epoch 28/50\n",
      "21000/21000 [==============================] - 11s - loss: 0.0597 - acc: 0.9775 - val_loss: 0.0391 - val_acc: 0.9865\n",
      "Epoch 29/50\n",
      "21000/21000 [==============================] - 11s - loss: 0.0636 - acc: 0.9764 - val_loss: 0.0391 - val_acc: 0.9865\n",
      "Epoch 30/50\n",
      "21000/21000 [==============================] - 11s - loss: 0.0664 - acc: 0.9763 - val_loss: 0.0398 - val_acc: 0.9862\n",
      "Epoch 31/50\n",
      "21000/21000 [==============================] - 11s - loss: 0.0581 - acc: 0.9792 - val_loss: 0.0395 - val_acc: 0.9860\n",
      "Epoch 32/50\n",
      "21000/21000 [==============================] - 11s - loss: 0.0612 - acc: 0.9778 - val_loss: 0.0402 - val_acc: 0.9852\n",
      "Epoch 33/50\n",
      "21000/21000 [==============================] - 11s - loss: 0.0654 - acc: 0.9756 - val_loss: 0.0402 - val_acc: 0.9858\n",
      "Epoch 34/50\n",
      "21000/21000 [==============================] - 11s - loss: 0.0621 - acc: 0.9773 - val_loss: 0.0399 - val_acc: 0.9860\n",
      "Epoch 35/50\n",
      "21000/21000 [==============================] - 11s - loss: 0.0637 - acc: 0.9760 - val_loss: 0.0396 - val_acc: 0.9862\n",
      "Epoch 36/50\n",
      "21000/21000 [==============================] - 11s - loss: 0.0643 - acc: 0.9760 - val_loss: 0.0399 - val_acc: 0.9862\n",
      "Epoch 37/50\n",
      "21000/21000 [==============================] - 11s - loss: 0.0650 - acc: 0.9765 - val_loss: 0.0404 - val_acc: 0.9860\n",
      "Epoch 38/50\n",
      "21000/21000 [==============================] - 11s - loss: 0.0610 - acc: 0.9780 - val_loss: 0.0399 - val_acc: 0.9858\n",
      "Epoch 39/50\n",
      "21000/21000 [==============================] - 11s - loss: 0.0650 - acc: 0.9766 - val_loss: 0.0397 - val_acc: 0.9860\n",
      "Epoch 40/50\n",
      "21000/21000 [==============================] - 11s - loss: 0.0602 - acc: 0.9772 - val_loss: 0.0398 - val_acc: 0.9860\n",
      "Epoch 41/50\n",
      "21000/21000 [==============================] - 11s - loss: 0.0647 - acc: 0.9758 - val_loss: 0.0397 - val_acc: 0.9860\n",
      "Epoch 42/50\n",
      "21000/21000 [==============================] - 11s - loss: 0.0590 - acc: 0.9790 - val_loss: 0.0397 - val_acc: 0.9860\n",
      "Epoch 43/50\n",
      "21000/21000 [==============================] - 11s - loss: 0.0638 - acc: 0.9760 - val_loss: 0.0399 - val_acc: 0.9868\n",
      "Epoch 44/50\n",
      "21000/21000 [==============================] - 11s - loss: 0.0618 - acc: 0.9765 - val_loss: 0.0397 - val_acc: 0.9868\n",
      "Epoch 45/50\n",
      "21000/21000 [==============================] - 11s - loss: 0.0612 - acc: 0.9767 - val_loss: 0.0401 - val_acc: 0.9862\n",
      "Epoch 46/50\n",
      "21000/21000 [==============================] - 11s - loss: 0.0616 - acc: 0.9770 - val_loss: 0.0394 - val_acc: 0.9868\n",
      "Epoch 47/50\n",
      "21000/21000 [==============================] - 11s - loss: 0.0633 - acc: 0.9758 - val_loss: 0.0397 - val_acc: 0.9858\n",
      "Epoch 48/50\n",
      "21000/21000 [==============================] - 11s - loss: 0.0629 - acc: 0.9760 - val_loss: 0.0393 - val_acc: 0.9868\n",
      "Epoch 49/50\n",
      "21000/21000 [==============================] - 11s - loss: 0.0637 - acc: 0.9759 - val_loss: 0.0397 - val_acc: 0.9865\n",
      "Epoch 50/50\n",
      "21000/21000 [==============================] - 11s - loss: 0.0616 - acc: 0.9771 - val_loss: 0.0395 - val_acc: 0.9862\n"
     ]
    },
    {
     "data": {
      "text/plain": [
       "<keras.callbacks.History at 0x7f9157e93d90>"
      ]
     },
     "execution_count": 100,
     "metadata": {},
     "output_type": "execute_result"
    }
   ],
   "source": [
    "bn_model.optimizer.lr = 0.01*1e-5\n",
    "bn_model.fit(trn_convfeatures, trn_labels, validation_data=(val_convfeatures, val_labels), nb_epoch=50)"
   ]
  },
  {
   "cell_type": "markdown",
   "metadata": {},
   "source": [
    "### Train one or several models (ensembling)"
   ]
  },
  {
   "cell_type": "code",
   "execution_count": 63,
   "metadata": {
    "collapsed": false
   },
   "outputs": [
    {
     "name": "stdout",
     "output_type": "stream",
     "text": [
      "Train on 21000 samples, validate on 4000 samples\n",
      "Epoch 1/5\n",
      "21000/21000 [==============================] - 9s - loss: 0.0531 - acc: 0.9794 - val_loss: 0.0553 - val_acc: 0.9792\n",
      "Epoch 2/5\n",
      "21000/21000 [==============================] - 9s - loss: 0.0352 - acc: 0.9868 - val_loss: 0.0400 - val_acc: 0.9855\n",
      "Epoch 3/5\n",
      "21000/21000 [==============================] - 9s - loss: 0.0292 - acc: 0.9885 - val_loss: 0.0396 - val_acc: 0.9858\n",
      "Epoch 4/5\n",
      "21000/21000 [==============================] - 9s - loss: 0.0230 - acc: 0.9917 - val_loss: 0.0428 - val_acc: 0.9825\n",
      "Epoch 5/5\n",
      "21000/21000 [==============================] - 9s - loss: 0.0192 - acc: 0.9935 - val_loss: 0.0471 - val_acc: 0.9820\n"
     ]
    }
   ],
   "source": [
    "ll_models = []\n",
    "for i in range(1): # INFO : change here the size of the ensemble\n",
    "    ll_models.append( get_fc_model(0) )\n",
    "    #ll_models[-1].optimizer.lr = 1*1e-5\n",
    "    ll_models[-1].fit(trn_convfeatures, trn_labels, validation_data=(val_convfeatures, val_labels), nb_epoch=5)"
   ]
  },
  {
   "cell_type": "code",
   "execution_count": 64,
   "metadata": {
    "collapsed": false
   },
   "outputs": [],
   "source": [
    "i = 0\n",
    "\n",
    "x_conv_model = Sequential(conv_layers)\n",
    "for layer in x_conv_model.layers:\n",
    "    layer.trainable = False\n",
    "\n",
    "for layer in ll_models[i].layers:\n",
    "    x_conv_model.add(layer)\n",
    "    \n",
    "#for l1,l2 in zip(conv_model.layers[last_conv_idx+1:], fc_model.layers): \n",
    "#        l1.set_weights(l2.get_weights())\n",
    "x_conv_model.compile(optimizer=Adam(1e-5), loss='categorical_crossentropy', metrics=['accuracy'])\n",
    "#x_conv_model.save_weights(model_path+'no_dropout_bn' + i + '.h5')"
   ]
  },
  {
   "cell_type": "code",
   "execution_count": 65,
   "metadata": {
    "collapsed": false
   },
   "outputs": [],
   "source": [
    "for layer in x_conv_model.layers[-5:]:\n",
    "    layer.trainable = True\n",
    "x_conv_model.optimizer.lr = 1e-6"
   ]
  },
  {
   "cell_type": "code",
   "execution_count": 68,
   "metadata": {
    "collapsed": false
   },
   "outputs": [
    {
     "name": "stdout",
     "output_type": "stream",
     "text": [
      "Epoch 1/1\n",
      "4000/4000 [==============================] - 167s - loss: 0.0266 - acc: 0.9888 - val_loss: 0.0518 - val_acc: 0.9790\n"
     ]
    },
    {
     "data": {
      "text/plain": [
       "<keras.callbacks.History at 0x7f2c6e529410>"
      ]
     },
     "execution_count": 68,
     "metadata": {},
     "output_type": "execute_result"
    }
   ],
   "source": [
    "x_conv_model.fit_generator(trn_batchesRND,\n",
    "                           samples_per_epoch = min(40*batch_size,trn_batchesRND.n),\n",
    "                           nb_epoch = 1,\n",
    "                           validation_data = val_batchesRND,\n",
    "                           nb_val_samples = min(20*batch_size,val_batchesRND.n))"
   ]
  },
  {
   "cell_type": "code",
   "execution_count": 69,
   "metadata": {
    "collapsed": false
   },
   "outputs": [
    {
     "name": "stdout",
     "output_type": "stream",
     "text": [
      "-5\n",
      "-4\n",
      "-3\n",
      "-2\n",
      "-1\n"
     ]
    }
   ],
   "source": [
    "for mdl in ll_models:\n",
    "    for k in range(-len(mdl.layers),0):\n",
    "        print(k)\n",
    "        #x_conv_model.layers[k].get_weights()\n",
    "        #mdl.layers[k].set_weights\n",
    "        mdl.layers[k].set_weights( x_conv_model.layers[k].get_weights() )"
   ]
  },
  {
   "cell_type": "code",
   "execution_count": 70,
   "metadata": {
    "collapsed": false
   },
   "outputs": [
    {
     "data": {
      "text/plain": [
       "array(0.9819999933242798, dtype=float32)"
      ]
     },
     "execution_count": 70,
     "metadata": {},
     "output_type": "execute_result"
    }
   ],
   "source": [
    "all_val_preds = []\n",
    "for mdl in ll_models:\n",
    "    these_val_preds = mdl.predict_on_batch(val_convfeatures)\n",
    "    assert(len(these_val_preds) == 4000)\n",
    "    all_val_preds.append( these_val_preds )\n",
    "mean_val_preds = np.stack(all_val_preds).mean(axis=0)\n",
    "categorical_accuracy(val_labels, mean_val_preds).eval()"
   ]
  },
  {
   "cell_type": "code",
   "execution_count": null,
   "metadata": {
    "collapsed": true
   },
   "outputs": [],
   "source": [
    "# WARNING : should save each model of the ensemble\n",
    "#ll_model.save_weights(model_path+'llmodel_finetune1.h5')\n",
    "#ll_model.load_weights(model_path+'llmodel_finetune1.h5')"
   ]
  },
  {
   "cell_type": "code",
   "execution_count": 65,
   "metadata": {
    "collapsed": false
   },
   "outputs": [
    {
     "name": "stdout",
     "output_type": "stream",
     "text": [
      "Found 12500 images belonging to 1 classes.\n"
     ]
    },
    {
     "data": {
      "text/plain": [
       "['test/10592.jpg',\n",
       " 'test/7217.jpg',\n",
       " 'test/3653.jpg',\n",
       " 'test/4382.jpg',\n",
       " 'test/2924.jpg',\n",
       " 'test/10.jpg',\n",
       " 'test/10916.jpg',\n",
       " 'test/12374.jpg',\n",
       " 'test/1871.jpg',\n",
       " 'test/11645.jpg']"
      ]
     },
     "execution_count": 65,
     "metadata": {},
     "output_type": "execute_result"
    }
   ],
   "source": [
    "test_batches = get_batches('test', shuffle=False, batch_size=batch_size, class_mode=None)\n",
    "testfiles = test_batches.filenames\n",
    "testfiles[0:10]"
   ]
  },
  {
   "cell_type": "markdown",
   "metadata": {},
   "source": [
    "### Will take a few minutes (maybe 5) to complete the 1st time"
   ]
  },
  {
   "cell_type": "code",
   "execution_count": 61,
   "metadata": {
    "collapsed": false
   },
   "outputs": [],
   "source": [
    "try:\n",
    "    test_convfeatures = load_array(model_path+'test_'+conv_model_hash+'_features.bc')\n",
    "    #test_vggfeatures = load_array(model_path+'test_vggbase_features.bc')\n",
    "    if False: # force update\n",
    "        raise\n",
    "except:\n",
    "    print('Missing file')\n",
    "    test_convfeatures = conv_model.predict_generator(test_batches, test_batches.nb_sample)\n",
    "    save_array(model_path+'test_'+conv_model_hash+'_features.bc', test_convfeatures)\n",
    "    #test_vggfeatures = vggbase.model.predict_generator(test_batches, test_batches.nb_sample)\n",
    "    #save_array(model_path + 'test_vggbase_features.bc', test_vggfeatures)"
   ]
  },
  {
   "cell_type": "code",
   "execution_count": 101,
   "metadata": {
    "collapsed": false
   },
   "outputs": [],
   "source": [
    "all_test_preds = []\n",
    "#for mdl in ll_models:\n",
    "for mdl in [bn_model]:\n",
    "    these_test_preds = mdl.predict_on_batch(test_convfeatures)\n",
    "    assert(len(these_test_preds) == 12500)\n",
    "    all_test_preds.append( these_test_preds )\n",
    "mean_test_preds = np.stack(all_test_preds).mean(axis=0)"
   ]
  },
  {
   "cell_type": "code",
   "execution_count": 102,
   "metadata": {
    "collapsed": false
   },
   "outputs": [
    {
     "data": {
      "text/plain": [
       "array([[  9.9962e-01,   3.7752e-04],\n",
       "       [  9.9958e-01,   4.2180e-04],\n",
       "       [  7.3013e-04,   9.9927e-01],\n",
       "       [  9.7156e-01,   2.8445e-02],\n",
       "       [  2.4661e-02,   9.7534e-01],\n",
       "       [  9.9991e-01,   8.7449e-05],\n",
       "       [  8.9760e-03,   9.9102e-01],\n",
       "       [  9.9999e-01,   5.8974e-06],\n",
       "       [  1.2232e-03,   9.9878e-01],\n",
       "       [  1.2749e-04,   9.9987e-01]], dtype=float32)"
      ]
     },
     "execution_count": 102,
     "metadata": {},
     "output_type": "execute_result"
    }
   ],
   "source": [
    "mean_test_preds[0:10]"
   ]
  },
  {
   "cell_type": "code",
   "execution_count": 103,
   "metadata": {
    "collapsed": false
   },
   "outputs": [
    {
     "data": {
      "text/plain": [
       "[{'id': 1, 'label': 0.9998},\n",
       " {'id': 2, 'label': 0.99977},\n",
       " {'id': 3, 'label': 0.9999},\n",
       " {'id': 4, 'label': 0.99982},\n",
       " {'id': 5, 'label': 0.0001},\n",
       " {'id': 6, 'label': 0.00181},\n",
       " {'id': 7, 'label': 0.0001},\n",
       " {'id': 8, 'label': 0.00032},\n",
       " {'id': 9, 'label': 0.00208},\n",
       " {'id': 10, 'label': 0.0001},\n",
       " {'id': 11, 'label': 0.00016},\n",
       " {'id': 12, 'label': 0.99921},\n",
       " {'id': 13, 'label': 0.00185},\n",
       " {'id': 14, 'label': 0.0228},\n",
       " {'id': 15, 'label': 0.0001},\n",
       " {'id': 16, 'label': 0.00219},\n",
       " {'id': 17, 'label': 0.99575},\n",
       " {'id': 18, 'label': 0.99971}]"
      ]
     },
     "execution_count": 103,
     "metadata": {},
     "output_type": "execute_result"
    }
   ],
   "source": [
    "dog_idx = 1\n",
    "Z1 = [{'id':int(f.split('/')[-1].split('.')[0]), 'label':min(max(round(p[dog_idx],5),0.0001),0.9999)} \n",
    "      for f, p in zip(testfiles, mean_test_preds)]\n",
    "def comp(x,y):\n",
    "    return int(x['id']) - int(y['id'])\n",
    "Z1 = sorted(Z1, comp)\n",
    "Z1[0:18]"
   ]
  },
  {
   "cell_type": "code",
   "execution_count": 104,
   "metadata": {
    "collapsed": false
   },
   "outputs": [],
   "source": [
    "import csv\n",
    "\n",
    "with open('predictions_v4_6.csv', 'w') as csvfile:\n",
    "    fieldnames = ['id', 'label']\n",
    "    writer = csv.DictWriter(csvfile, fieldnames=fieldnames)\n",
    "    writer.writeheader()\n",
    "    for z in Z1:\n",
    "        writer.writerow(z)"
   ]
  },
  {
   "cell_type": "code",
   "execution_count": null,
   "metadata": {
    "collapsed": true
   },
   "outputs": [],
   "source": []
  }
 ],
 "metadata": {
  "kernelspec": {
   "display_name": "Python 2",
   "language": "python",
   "name": "python2"
  },
  "language_info": {
   "codemirror_mode": {
    "name": "ipython",
    "version": 2
   },
   "file_extension": ".py",
   "mimetype": "text/x-python",
   "name": "python",
   "nbconvert_exporter": "python",
   "pygments_lexer": "ipython2",
   "version": "2.7.11"
  }
 },
 "nbformat": 4,
 "nbformat_minor": 0
}
