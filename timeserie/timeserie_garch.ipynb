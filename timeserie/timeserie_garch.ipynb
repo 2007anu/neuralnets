{
 "cells": [
  {
   "cell_type": "code",
   "execution_count": 1,
   "metadata": {
    "collapsed": false
   },
   "outputs": [
    {
     "name": "stderr",
     "output_type": "stream",
     "text": [
      "Using gpu device 0: Tesla K80 (CNMeM is disabled, cuDNN Version is too old. Update to v5, was 3007.)\n"
     ]
    }
   ],
   "source": [
    "from theano.sandbox import cuda"
   ]
  },
  {
   "cell_type": "code",
   "execution_count": 2,
   "metadata": {
    "collapsed": false
   },
   "outputs": [],
   "source": [
    "%matplotlib inline\n",
    "from __future__ import division, print_function"
   ]
  },
  {
   "cell_type": "code",
   "execution_count": 3,
   "metadata": {
    "collapsed": true
   },
   "outputs": [],
   "source": [
    "import math\n",
    "import numpy as np\n",
    "import random\n",
    "import sys\n",
    "\n",
    "from numpy.random import normal\n",
    "import matplotlib.pyplot as plt"
   ]
  },
  {
   "cell_type": "code",
   "execution_count": 4,
   "metadata": {
    "collapsed": false
   },
   "outputs": [
    {
     "name": "stderr",
     "output_type": "stream",
     "text": [
      "Using Theano backend.\n"
     ]
    }
   ],
   "source": [
    "from keras.preprocessing.sequence import pad_sequences\n",
    "from keras.layers import Input, Dense, Embedding, Activation, merge, Flatten, Dropout, Lambda\n",
    "from keras.layers import LSTM, SimpleRNN, TimeDistributed\n",
    "from keras.models import Model, Sequential\n",
    "from keras.layers.merge import Add, add\n",
    "from keras.layers.normalization import BatchNormalization\n",
    "from keras.optimizers import SGD, RMSprop, Adam\n",
    "from keras.constraints import nonneg\n",
    "from keras.layers.convolutional import *\n",
    "from keras import backend as K\n",
    "from keras.utils.data_utils import get_file"
   ]
  },
  {
   "cell_type": "code",
   "execution_count": 82,
   "metadata": {
    "collapsed": true
   },
   "outputs": [],
   "source": [
    "look_back = 12\n",
    "batch_size = 16"
   ]
  },
  {
   "cell_type": "code",
   "execution_count": 83,
   "metadata": {
    "collapsed": true
   },
   "outputs": [],
   "source": [
    "def mllklh(args): # minus log-likelihood of gaussian\n",
    "    var_t, eps2_t = args\n",
    "    return 0.5*math.log(2*math.pi) + 0.5*K.log(var_t)  + 0.5*(eps2_t/var_t)"
   ]
  },
  {
   "cell_type": "code",
   "execution_count": 84,
   "metadata": {
    "collapsed": false
   },
   "outputs": [
    {
     "data": {
      "text/plain": [
       "\"lag = 10\\n\\nhdim = 1\\n    \\ninputs = [Input(shape=(1,), dtype='float32') for i in range(lag)]\\n    \\nSquare = Lambda(lambda x:x*x, output_shape=(1,))\\n\\nDi2h = Dense(hdim, activation=None)\\nDh2h = Dense(hdim, activation=None, kernel_initializer='identity')\\n\\n#hidden = ... CONSTANT ZERO TENSOR IN KERAS ?\\n\\ne = Di2h(Square(inputs[0]))\\nhidden = e\\nfor i in range(1,lag-1): # WARNING\\n    e = Di2h(Square(inputs[i]))\\n    #hidden = merge([e, Dh2h(hidden)], mode='sum')\\n    hidden = add([e, Dh2h(hidden)])\\n    \\n#predictions = Dense(len(chars), activation='softmax')(hidden)\\n\\npredvar = Lambda(lambda x:K.abs(x)+0.000001, output_shape=(1,))([hidden]) # insure positive var\\n    \\nerror = Lambda(mllklh, output_shape=(1,))([predvar,Square(inputs[-1])])\\n\\nmodelUNR = Model(inputs=inputs, outputs=error) # un-rolled model\\n    \\ndef special_loss(dummy, errorterms):\\n        return errorterms\\n\\nmodelUNR.compile(optimizer=Adam(1e-3), loss=special_loss)\""
      ]
     },
     "execution_count": 84,
     "metadata": {},
     "output_type": "execute_result"
    }
   ],
   "source": [
    "'''lag = 10\n",
    "\n",
    "hdim = 1\n",
    "    \n",
    "inputs = [Input(shape=(1,), dtype='float32') for i in range(lag)]\n",
    "    \n",
    "Square = Lambda(lambda x:x*x, output_shape=(1,))\n",
    "\n",
    "Di2h = Dense(hdim, activation=None)\n",
    "Dh2h = Dense(hdim, activation=None, kernel_initializer='identity')\n",
    "\n",
    "#hidden = ... CONSTANT ZERO TENSOR IN KERAS ?\n",
    "\n",
    "e = Di2h(Square(inputs[0]))\n",
    "hidden = e\n",
    "for i in range(1,lag-1): # WARNING\n",
    "    e = Di2h(Square(inputs[i]))\n",
    "    #hidden = merge([e, Dh2h(hidden)], mode='sum')\n",
    "    hidden = add([e, Dh2h(hidden)])\n",
    "    \n",
    "#predictions = Dense(len(chars), activation='softmax')(hidden)\n",
    "\n",
    "predvar = Lambda(lambda x:K.abs(x)+0.000001, output_shape=(1,))([hidden]) # insure positive var\n",
    "    \n",
    "error = Lambda(mllklh, output_shape=(1,))([predvar,Square(inputs[-1])])\n",
    "\n",
    "modelUNR = Model(inputs=inputs, outputs=error) # un-rolled model\n",
    "    \n",
    "def special_loss(dummy, errorterms):\n",
    "        return errorterms\n",
    "\n",
    "modelUNR.compile(optimizer=Adam(1e-3), loss=special_loss)'''"
   ]
  },
  {
   "cell_type": "code",
   "execution_count": 85,
   "metadata": {
    "collapsed": false
   },
   "outputs": [],
   "source": [
    "#len(Xs), Xs[0].shape, modelUNR.predict([X[10:15,0] for X in Xs]).shape"
   ]
  },
  {
   "cell_type": "code",
   "execution_count": 86,
   "metadata": {
    "collapsed": false
   },
   "outputs": [],
   "source": [
    "#modelUNR.predict([X[50:60,0] for X in Xs])"
   ]
  },
  {
   "cell_type": "code",
   "execution_count": 87,
   "metadata": {
    "collapsed": false
   },
   "outputs": [],
   "source": [
    "#modelUNRV = Model(input=inputs, output=predvar)\n",
    "#np.sqrt(modelUNRV.predict([X[50:60,0] for X in Xs])*255)"
   ]
  },
  {
   "cell_type": "markdown",
   "metadata": {},
   "source": [
    "### RNN architecture : 2 models that share same weights"
   ]
  },
  {
   "cell_type": "code",
   "execution_count": 297,
   "metadata": {
    "collapsed": false
   },
   "outputs": [],
   "source": [
    "MatPlus = np.zeros((look_back-1,look_back))\n",
    "MatPlus[:,1:] = np.eye(look_back-1)\n",
    "#print(MatPlus)\n",
    "\n",
    "MatMinus = np.zeros((look_back-1,look_back))\n",
    "MatMinus[:,:-1] = np.eye(look_back-1)\n",
    "#print(MatMinus)"
   ]
  },
  {
   "cell_type": "code",
   "execution_count": 298,
   "metadata": {
    "collapsed": true
   },
   "outputs": [],
   "source": [
    "Dplus = Dense(look_back-1,\n",
    "              weights=[MatPlus.T, np.zeros((look_back-1,))],\n",
    "              input_dim=look_back)\n",
    "Dplus.trainable = False\n",
    "\n",
    "Dminus = Dense(look_back-1,\n",
    "              weights=[MatMinus.T, np.zeros((look_back-1,))],\n",
    "              input_dim=look_back)\n",
    "Dminus.trainable = False"
   ]
  },
  {
   "cell_type": "code",
   "execution_count": 339,
   "metadata": {
    "collapsed": false
   },
   "outputs": [],
   "source": [
    "I = Input(batch_shape=(batch_size, look_back,1), dtype='float32')\n",
    "I2 = Lambda(lambda x : K.square(x), output_shape=(look_back,1))(I)\n",
    "rnn = SimpleRNN(return_sequences=True, unroll=False,\n",
    "                units=1, input_shape=(look_back, 1),\n",
    "                bias_constraint=nonneg(), # insure positive var\n",
    "                kernel_constraint=nonneg(), # insure positive var\n",
    "                recurrent_constraint=nonneg(), # insure positive var\n",
    "                activation=None,\n",
    "                stateful=True) \n",
    "O1 = rnn(I2)\n",
    "O1f = Flatten()(O1)\n",
    "O1m = Dminus(O1f)\n",
    "\n",
    "V = Lambda(lambda x : K.sqrt(x), output_shape=(look_back,))(O1f) # get volatility\n",
    "\n",
    "I2f = Flatten()(I2)\n",
    "I2p = Dplus(I2f)\n",
    "\n",
    "Errors = Lambda(mllklh, output_shape=(look_back-1,))([O1m,I2p])\n",
    "\n",
    "Error = Lambda(lambda x : K.sum(x, axis=1), output_shape=(look_back-1,))(Errors)\n",
    "\n",
    "modelT = Model(inputs=I, outputs=Errors) # training model\n",
    "\n",
    "def special_loss(dummy, errorterms):\n",
    "    return errorterms\n",
    "\n",
    "modelT.compile(optimizer='adadelta', loss=special_loss)\n",
    "\n",
    "modelV = Model(inputs=I, outputs=V) # simulation model"
   ]
  },
  {
   "cell_type": "code",
   "execution_count": 340,
   "metadata": {
    "collapsed": false
   },
   "outputs": [
    {
     "data": {
      "text/plain": [
       "((12, 11), (11,))"
      ]
     },
     "execution_count": 340,
     "metadata": {},
     "output_type": "execute_result"
    }
   ],
   "source": [
    "Dplus.get_weights()[0].shape, Dplus.get_weights()[1].shape"
   ]
  },
  {
   "cell_type": "code",
   "execution_count": 341,
   "metadata": {
    "collapsed": false
   },
   "outputs": [
    {
     "data": {
      "text/plain": [
       "((16, 12, 1), (16, 12, 1), (16, 12, 1), (16, 12), (16, 12), (16, 11), (16, 11))"
      ]
     },
     "execution_count": 341,
     "metadata": {},
     "output_type": "execute_result"
    }
   ],
   "source": [
    "I._keras_shape, I2._keras_shape, O1._keras_shape, O1f._keras_shape, V._keras_shape, Errors._keras_shape, Error._keras_shape"
   ]
  },
  {
   "cell_type": "code",
   "execution_count": 342,
   "metadata": {
    "collapsed": false
   },
   "outputs": [
    {
     "name": "stdout",
     "output_type": "stream",
     "text": [
      "(16, 12, 1)\n",
      "(16, 12, 1)\n",
      "(16, 12)\n",
      "(16, 12)\n",
      "(16, 11)\n",
      "(16,)\n",
      "(16, 11)\n",
      "(16, 12)\n"
     ]
    }
   ],
   "source": [
    "onearr = np.ones((batch_size, look_back, 1)).astype('float32')\n",
    "print(I2.eval({I:onearr}).shape)\n",
    "print(O1.eval({I:onearr}).shape)\n",
    "print(O1f.eval({I:onearr}).shape)\n",
    "print(V.eval({I:onearr}).shape)\n",
    "print(Errors.eval({I:onearr}).shape)\n",
    "print(Error.eval({I:onearr}).shape)\n",
    "print(modelT.predict(onearr).shape)\n",
    "print(modelV.predict(onearr).shape)"
   ]
  },
  {
   "cell_type": "code",
   "execution_count": 343,
   "metadata": {
    "collapsed": false
   },
   "outputs": [
    {
     "name": "stdout",
     "output_type": "stream",
     "text": [
      "[[-31.11013794 -29.11013794 -27.11013794 -25.11013794 -23.11013794\n",
      "  -21.11013794 -19.11013794 -17.11013794 -15.11013794 -13.11013794\n",
      "  -11.11013794  -9.11013794]\n",
      " [-31.11013794 -29.11013794 -27.11013794 -25.11013794 -23.11013794\n",
      "  -21.11013794 -19.11013794 -17.11013794 -15.11013794 -13.11013794\n",
      "  -11.11013794  -9.11013794]\n",
      " [-31.11013794 -29.11013794 -27.11013794 -25.11013794 -23.11013794\n",
      "  -21.11013794 -19.11013794 -17.11013794 -15.11013794 -13.11013794\n",
      "  -11.11013794  -9.11013794]\n",
      " [-31.11013794 -29.11013794 -27.11013794 -25.11013794 -23.11013794\n",
      "  -21.11013794 -19.11013794 -17.11013794 -15.11013794 -13.11013794\n",
      "  -11.11013794  -9.11013794]\n",
      " [-31.11013794 -29.11013794 -27.11013794 -25.11013794 -23.11013794\n",
      "  -21.11013794 -19.11013794 -17.11013794 -15.11013794 -13.11013794\n",
      "  -11.11013794  -9.11013794]\n",
      " [-31.11013794 -29.11013794 -27.11013794 -25.11013794 -23.11013794\n",
      "  -21.11013794 -19.11013794 -17.11013794 -15.11013794 -13.11013794\n",
      "  -11.11013794  -9.11013794]\n",
      " [-31.11013794 -29.11013794 -27.11013794 -25.11013794 -23.11013794\n",
      "  -21.11013794 -19.11013794 -17.11013794 -15.11013794 -13.11013794\n",
      "  -11.11013794  -9.11013794]\n",
      " [-31.11013794 -29.11013794 -27.11013794 -25.11013794 -23.11013794\n",
      "  -21.11013794 -19.11013794 -17.11013794 -15.11013794 -13.11013794\n",
      "  -11.11013794  -9.11013794]\n",
      " [-31.11013794 -29.11013794 -27.11013794 -25.11013794 -23.11013794\n",
      "  -21.11013794 -19.11013794 -17.11013794 -15.11013794 -13.11013794\n",
      "  -11.11013794  -9.11013794]\n",
      " [-31.11013794 -29.11013794 -27.11013794 -25.11013794 -23.11013794\n",
      "  -21.11013794 -19.11013794 -17.11013794 -15.11013794 -13.11013794\n",
      "  -11.11013794  -9.11013794]\n",
      " [-31.11013794 -29.11013794 -27.11013794 -25.11013794 -23.11013794\n",
      "  -21.11013794 -19.11013794 -17.11013794 -15.11013794 -13.11013794\n",
      "  -11.11013794  -9.11013794]\n",
      " [-31.11013794 -29.11013794 -27.11013794 -25.11013794 -23.11013794\n",
      "  -21.11013794 -19.11013794 -17.11013794 -15.11013794 -13.11013794\n",
      "  -11.11013794  -9.11013794]\n",
      " [-31.11013794 -29.11013794 -27.11013794 -25.11013794 -23.11013794\n",
      "  -21.11013794 -19.11013794 -17.11013794 -15.11013794 -13.11013794\n",
      "  -11.11013794  -9.11013794]\n",
      " [-31.11013794 -29.11013794 -27.11013794 -25.11013794 -23.11013794\n",
      "  -21.11013794 -19.11013794 -17.11013794 -15.11013794 -13.11013794\n",
      "  -11.11013794  -9.11013794]\n",
      " [-31.11013794 -29.11013794 -27.11013794 -25.11013794 -23.11013794\n",
      "  -21.11013794 -19.11013794 -17.11013794 -15.11013794 -13.11013794\n",
      "  -11.11013794  -9.11013794]\n",
      " [-31.11013794 -29.11013794 -27.11013794 -25.11013794 -23.11013794\n",
      "  -21.11013794 -19.11013794 -17.11013794 -15.11013794 -13.11013794\n",
      "  -11.11013794  -9.11013794]]\n",
      "[[-31.11013794 -29.11013794 -27.11013794 -25.11013794 -23.11013794\n",
      "  -21.11013794 -19.11013794 -17.11013794 -15.11013794 -13.11013794\n",
      "  -11.11013794]\n",
      " [-31.11013794 -29.11013794 -27.11013794 -25.11013794 -23.11013794\n",
      "  -21.11013794 -19.11013794 -17.11013794 -15.11013794 -13.11013794\n",
      "  -11.11013794]\n",
      " [-31.11013794 -29.11013794 -27.11013794 -25.11013794 -23.11013794\n",
      "  -21.11013794 -19.11013794 -17.11013794 -15.11013794 -13.11013794\n",
      "  -11.11013794]\n",
      " [-31.11013794 -29.11013794 -27.11013794 -25.11013794 -23.11013794\n",
      "  -21.11013794 -19.11013794 -17.11013794 -15.11013794 -13.11013794\n",
      "  -11.11013794]\n",
      " [-31.11013794 -29.11013794 -27.11013794 -25.11013794 -23.11013794\n",
      "  -21.11013794 -19.11013794 -17.11013794 -15.11013794 -13.11013794\n",
      "  -11.11013794]\n",
      " [-31.11013794 -29.11013794 -27.11013794 -25.11013794 -23.11013794\n",
      "  -21.11013794 -19.11013794 -17.11013794 -15.11013794 -13.11013794\n",
      "  -11.11013794]\n",
      " [-31.11013794 -29.11013794 -27.11013794 -25.11013794 -23.11013794\n",
      "  -21.11013794 -19.11013794 -17.11013794 -15.11013794 -13.11013794\n",
      "  -11.11013794]\n",
      " [-31.11013794 -29.11013794 -27.11013794 -25.11013794 -23.11013794\n",
      "  -21.11013794 -19.11013794 -17.11013794 -15.11013794 -13.11013794\n",
      "  -11.11013794]\n",
      " [-31.11013794 -29.11013794 -27.11013794 -25.11013794 -23.11013794\n",
      "  -21.11013794 -19.11013794 -17.11013794 -15.11013794 -13.11013794\n",
      "  -11.11013794]\n",
      " [-31.11013794 -29.11013794 -27.11013794 -25.11013794 -23.11013794\n",
      "  -21.11013794 -19.11013794 -17.11013794 -15.11013794 -13.11013794\n",
      "  -11.11013794]\n",
      " [-31.11013794 -29.11013794 -27.11013794 -25.11013794 -23.11013794\n",
      "  -21.11013794 -19.11013794 -17.11013794 -15.11013794 -13.11013794\n",
      "  -11.11013794]\n",
      " [-31.11013794 -29.11013794 -27.11013794 -25.11013794 -23.11013794\n",
      "  -21.11013794 -19.11013794 -17.11013794 -15.11013794 -13.11013794\n",
      "  -11.11013794]\n",
      " [-31.11013794 -29.11013794 -27.11013794 -25.11013794 -23.11013794\n",
      "  -21.11013794 -19.11013794 -17.11013794 -15.11013794 -13.11013794\n",
      "  -11.11013794]\n",
      " [-31.11013794 -29.11013794 -27.11013794 -25.11013794 -23.11013794\n",
      "  -21.11013794 -19.11013794 -17.11013794 -15.11013794 -13.11013794\n",
      "  -11.11013794]\n",
      " [-31.11013794 -29.11013794 -27.11013794 -25.11013794 -23.11013794\n",
      "  -21.11013794 -19.11013794 -17.11013794 -15.11013794 -13.11013794\n",
      "  -11.11013794]\n",
      " [-31.11013794 -29.11013794 -27.11013794 -25.11013794 -23.11013794\n",
      "  -21.11013794 -19.11013794 -17.11013794 -15.11013794 -13.11013794\n",
      "  -11.11013794]]\n"
     ]
    }
   ],
   "source": [
    "rnn(I2).eval({I:onearr}) # dry run to allow weight setting\n",
    "rnn.set_weights([np.array([[0.5]]),np.array([[1]]),np.array([1.5])])\n",
    "print( O1f.eval({I:onearr}) )\n",
    "print( O1m.eval({I:onearr}) )"
   ]
  },
  {
   "cell_type": "code",
   "execution_count": 344,
   "metadata": {
    "collapsed": false
   },
   "outputs": [],
   "source": [
    "#print( I2f.eval({I:onearr}) )\n",
    "#print( I2p.eval({I:onearr}) )"
   ]
  },
  {
   "cell_type": "code",
   "execution_count": 345,
   "metadata": {
    "collapsed": false
   },
   "outputs": [
    {
     "data": {
      "text/plain": [
       "(16,)"
      ]
     },
     "execution_count": 345,
     "metadata": {},
     "output_type": "execute_result"
    }
   ],
   "source": [
    "#model.predict(onearr).shape\n",
    "Error.eval({I:onearr}).shape"
   ]
  },
  {
   "cell_type": "code",
   "execution_count": 346,
   "metadata": {
    "collapsed": false
   },
   "outputs": [
    {
     "data": {
      "text/plain": [
       "\"It = Input(shape=(look_back,1), dtype='float32')\\nRNNt = SimpleRNN(activation=None, return_sequences=True, unroll=False, units=1, input_shape=(look_back, 1))\\n\\nRNNt(It).eval({It:onearr}) # dry run to allow weight setting\\n\\nRNNt.set_weights([np.array([[0.5]]),np.array([[1.]]),np.array([3.])])\\nRNNt(It).eval({It:onearr})\""
      ]
     },
     "execution_count": 346,
     "metadata": {},
     "output_type": "execute_result"
    }
   ],
   "source": [
    "'''It = Input(shape=(look_back,1), dtype='float32')\n",
    "RNNt = SimpleRNN(activation=None, return_sequences=True, unroll=False, units=1, input_shape=(look_back, 1))\n",
    "\n",
    "RNNt(It).eval({It:onearr}) # dry run to allow weight setting\n",
    "\n",
    "RNNt.set_weights([np.array([[0.5]]),np.array([[1.]]),np.array([3.])])\n",
    "RNNt(It).eval({It:onearr})'''"
   ]
  },
  {
   "cell_type": "code",
   "execution_count": 347,
   "metadata": {
    "collapsed": false
   },
   "outputs": [],
   "source": [
    "#RNNt.states"
   ]
  },
  {
   "cell_type": "code",
   "execution_count": 348,
   "metadata": {
    "collapsed": false
   },
   "outputs": [
    {
     "name": "stdout",
     "output_type": "stream",
     "text": [
      "____________________________________________________________________________________________________\n",
      "Layer (type)                     Output Shape          Param #     Connected to                     \n",
      "====================================================================================================\n",
      "input_16 (InputLayer)            (16, 12, 1)           0                                            \n",
      "____________________________________________________________________________________________________\n",
      "lambda_58 (Lambda)               (16, 12, 1)           0                                            \n",
      "____________________________________________________________________________________________________\n",
      "simple_rnn_16 (SimpleRNN)        (16, 12, 1)           3                                            \n",
      "____________________________________________________________________________________________________\n",
      "flatten_29 (Flatten)             (16, 12)              0                                            \n",
      "____________________________________________________________________________________________________\n",
      "flatten_30 (Flatten)             (16, 12)              0                                            \n",
      "____________________________________________________________________________________________________\n",
      "dense_12 (Dense)                 (16, 11)              143                                          \n",
      "____________________________________________________________________________________________________\n",
      "dense_11 (Dense)                 (16, 11)              143                                          \n",
      "____________________________________________________________________________________________________\n",
      "lambda_60 (Lambda)               (16, 11)              0                                            \n",
      "====================================================================================================\n",
      "Total params: 289.0\n",
      "Trainable params: 3.0\n",
      "Non-trainable params: 286.0\n",
      "____________________________________________________________________________________________________\n"
     ]
    }
   ],
   "source": [
    "modelT.summary()"
   ]
  },
  {
   "cell_type": "markdown",
   "metadata": {},
   "source": [
    "#### Manually specify a GARCH model"
   ]
  },
  {
   "cell_type": "code",
   "execution_count": 349,
   "metadata": {
    "collapsed": false
   },
   "outputs": [
    {
     "name": "stdout",
     "output_type": "stream",
     "text": [
      "0.0874642784227\n"
     ]
    }
   ],
   "source": [
    "kappa = 0.000003\n",
    "alpha = 0.45\n",
    "beta = 0.45\n",
    "lvar = kappa / (1-alpha-beta)\n",
    "print(math.sqrt(lvar)*math.sqrt(255))"
   ]
  },
  {
   "cell_type": "markdown",
   "metadata": {},
   "source": [
    "#### Copy the known GARCH parameters as initial weights for the RNN"
   ]
  },
  {
   "cell_type": "code",
   "execution_count": 350,
   "metadata": {
    "collapsed": false
   },
   "outputs": [
    {
     "data": {
      "text/plain": [
       "0.00547722557505166"
      ]
     },
     "execution_count": 350,
     "metadata": {},
     "output_type": "execute_result"
    }
   ],
   "source": [
    "math.sqrt(lvar) # standard deviation of simulated data set"
   ]
  },
  {
   "cell_type": "code",
   "execution_count": 351,
   "metadata": {
    "collapsed": true
   },
   "outputs": [],
   "source": [
    "F = 1/math.sqrt(lvar) # will have to scale training data by F and Kappa by F^2 (alpha and beta unchanged)"
   ]
  },
  {
   "cell_type": "code",
   "execution_count": 395,
   "metadata": {
    "collapsed": false
   },
   "outputs": [],
   "source": [
    "rnn(I2).eval({I:onearr}) # dry run to allow weight setting\n",
    "rnn.set_weights([np.array([[beta]]),np.array([[alpha]]),np.array([kappa])*F*F*1.50])"
   ]
  },
  {
   "cell_type": "markdown",
   "metadata": {},
   "source": [
    "#### Simulate the GARCH dynamic"
   ]
  },
  {
   "cell_type": "code",
   "execution_count": 396,
   "metadata": {
    "collapsed": false
   },
   "outputs": [
    {
     "data": {
      "text/plain": [
       "(2000, 1998)"
      ]
     },
     "execution_count": 396,
     "metadata": {},
     "output_type": "execute_result"
    }
   ],
   "source": [
    "250*8, -2+int(2000/batch_size)*batch_size"
   ]
  },
  {
   "cell_type": "code",
   "execution_count": 397,
   "metadata": {
    "collapsed": false,
    "scrolled": true
   },
   "outputs": [],
   "source": [
    "# convert an array of values into a dataset matrix\n",
    "def create_dataset(dataset, look_back=1, allow_overlap=True):\n",
    "    dataX, dataY = [], []\n",
    "    if allow_overlap:\n",
    "        for i in range(len(dataset)-look_back-1):\n",
    "            a = dataset[i:(i+look_back), 0]\n",
    "            dataX.append(a)\n",
    "            dataY.append(dataset[i + look_back, 0])\n",
    "        return np.array(dataX), np.array(dataY)\n",
    "    else:\n",
    "        # non overlap\n",
    "        for i in range(0, (-1+int(dataset.shape[0]/batch_size))*batch_size, look_back):\n",
    "            #print(i)\n",
    "            a = dataset[i:(i+look_back), 0]\n",
    "            dataX.append(a)\n",
    "            dataY.append(dataset[i + look_back, 0])\n",
    "        return np.array(dataX), np.array(dataY)\n",
    "\n",
    "train = []\n",
    "trainvars = []\n",
    "var_t = lvar\n",
    "for t in range(250*8):\n",
    "    eps = math.sqrt(var_t) * normal()\n",
    "    var_t = kappa + alpha * var_t + beta * (eps*eps)\n",
    "    train.append(eps) # percent\n",
    "    trainvars.append(var_t)\n",
    "train = np.array(train).reshape(-1,1)\n",
    "trainX, trainY = create_dataset(train, look_back, allow_overlap=False)\n",
    "\n",
    "# reshape input to be [samples, time steps, features]\n",
    "trainX = np.reshape(trainX, (trainX.shape[0], 1, trainX.shape[1]))\n",
    "#print(trainX, trainY)"
   ]
  },
  {
   "cell_type": "code",
   "execution_count": 398,
   "metadata": {
    "collapsed": false
   },
   "outputs": [
    {
     "data": {
      "text/plain": [
       "((166, 1, 12), (166,), (166, 12, 1))"
      ]
     },
     "execution_count": 398,
     "metadata": {},
     "output_type": "execute_result"
    }
   ],
   "source": [
    "trainX.shape, trainY.shape, trainX.transpose((0,2,1)).shape"
   ]
  },
  {
   "cell_type": "code",
   "execution_count": 399,
   "metadata": {
    "collapsed": false
   },
   "outputs": [
    {
     "data": {
      "image/png": "[encoded data removed]",
      "text/plain": [
       "<matplotlib.figure.Figure at 0x7fd775b39dd0>"
      ]
     },
     "metadata": {},
     "output_type": "display_data"
    }
   ],
   "source": [
    "plt.figure(figsize=(10,7))\n",
    "plt.subplot(2,1,1)\n",
    "plt.plot(np.cumsum(train))\n",
    "plt.subplot(2,1,2)\n",
    "plt.plot(np.sqrt(trainvars)*math.sqrt(255))\n",
    "plt.show()"
   ]
  },
  {
   "cell_type": "code",
   "execution_count": 446,
   "metadata": {
    "collapsed": false
   },
   "outputs": [
    {
     "name": "stdout",
     "output_type": "stream",
     "text": [
      "0.0831843155217\n",
      "0.122407327879\n",
      "0.11920758154\n",
      "0.117655136002\n",
      "0.096607522092\n",
      "0.143281437602\n",
      "0.135527275959\n",
      "0.222114237836\n",
      "0.171404326891\n",
      "0.172952259063\n",
      "0.122011832585\n",
      "0.101696223067\n",
      "------- 11 --------\n",
      "0.0957206943178\n",
      "0.0704675370961\n",
      "0.057594615104\n",
      "0.0504860196734\n",
      "0.0437266597115\n",
      "0.0446905474297\n",
      "0.049446235466\n",
      "0.073810942494\n",
      "0.110996200352\n",
      "0.148371889354\n",
      "0.205236946695\n",
      "0.239227436816\n",
      "------- 23 --------\n",
      "0.269251610238\n",
      "0.198695026699\n",
      "0.158043786763\n",
      "0.274071137174\n",
      "0.18899016603\n",
      "0.279770817106\n",
      "0.286581216662\n",
      "0.211705344893\n",
      "0.213221023006\n",
      "0.145686330715\n",
      "0.108513885257\n",
      "0.07876318361\n",
      "------- 35 --------\n"
     ]
    }
   ],
   "source": [
    "var_t = lvar\n",
    "check_vars = []\n",
    "for eps in train[0:(50*look_back),0]:\n",
    "    var_t = kappa + alpha * var_t + beta * (eps*eps)\n",
    "for k, eps in enumerate(train[(50*look_back):((50*look_back)+batch_size*look_back),0]):\n",
    "    var_t = kappa + alpha * var_t + beta * (eps*eps)\n",
    "    check_vars.append(var_t)\n",
    "    if k<3*look_back:\n",
    "        print(math.sqrt(var_t*255))\n",
    "        if ((k>0) and ((k+1) % look_back == 0)):\n",
    "            print('-------', k, '--------')"
   ]
  },
  {
   "cell_type": "code",
   "execution_count": 440,
   "metadata": {
    "collapsed": false
   },
   "outputs": [
    {
     "data": {
      "text/plain": [
       "((16, 1),\n",
       " array([ 0.12466595,  0.65886021,  0.07745456,  0.05838956,  2.20282984,\n",
       "         0.1438238 ,  0.04804718,  0.09616376,  0.14108269,  0.03654763,\n",
       "         0.03405022,  0.05313734,  0.03579644,  0.02825653,  0.13248798,\n",
       "         0.08270363], dtype=float32))"
      ]
     },
     "execution_count": 440,
     "metadata": {},
     "output_type": "execute_result"
    }
   ],
   "source": [
    "rnn.states[0].get_value().shape, rnn.states[0].get_value()[:,0]*math.sqrt(255)/F"
   ]
  },
  {
   "cell_type": "code",
   "execution_count": 432,
   "metadata": {
    "collapsed": false
   },
   "outputs": [
    {
     "data": {
      "text/plain": [
       "(166, 12, 1)"
      ]
     },
     "execution_count": 432,
     "metadata": {},
     "output_type": "execute_result"
    }
   ],
   "source": [
    "trainX.transpose((0,2,1)).shape"
   ]
  },
  {
   "cell_type": "code",
   "execution_count": 443,
   "metadata": {
    "collapsed": false
   },
   "outputs": [
    {
     "data": {
      "text/plain": [
       "[<matplotlib.lines.Line2D at 0x7fd78093a490>]"
      ]
     },
     "execution_count": 443,
     "metadata": {},
     "output_type": "execute_result"
    },
    {
     "data": {
      "image/png": "[encoded data removed]",
      "text/plain": [
       "<matplotlib.figure.Figure at 0x7fd776156510>"
      ]
     },
     "metadata": {},
     "output_type": "display_data"
    }
   ],
   "source": [
    "#Vs = V.eval({I:trainX.transpose((0,2,1))[100:(100+batch_size),:,:].astype('float32')*F})*math.sqrt(255)/F\n",
    "Vs = modelV.predict( trainX.transpose((0,2,1))[50:(50+batch_size),:,:].astype('float32')*F )*math.sqrt(255)/F\n",
    "#np.squeeze(Vs.reshape((1,-1)))#[0:20,0], Vs[0,:], Vs[1,:]\n",
    "#Vs[0:3,:]\n",
    "plt.figure(figsize=(10,7))\n",
    "plt.plot( np.sqrt(np.array(check_vars)*255) )\n",
    "plt.plot( np.squeeze(Vs.reshape((1,-1)), axis=0) )"
   ]
  },
  {
   "cell_type": "markdown",
   "metadata": {},
   "source": [
    "#### Compute the model Loss before training to insure loss goes down"
   ]
  },
  {
   "cell_type": "code",
   "execution_count": 404,
   "metadata": {
    "collapsed": false
   },
   "outputs": [
    {
     "name": "stdout",
     "output_type": "stream",
     "text": [
      "275.698\n"
     ]
    }
   ],
   "source": [
    "test_arr = trainX.transpose((0,2,1))[50:(50+batch_size),:,:].astype('float32')\n",
    "ErrorStart = np.sum(Errors.eval({I:test_arr*F }))\n",
    "print(ErrorStart)"
   ]
  },
  {
   "cell_type": "code",
   "execution_count": 405,
   "metadata": {
    "collapsed": false
   },
   "outputs": [
    {
     "name": "stdout",
     "output_type": "stream",
     "text": [
      "[ 2.77996564  1.75214696  1.75067663  1.41607201  2.78542209  1.86697102\n",
      "  3.72569656  2.00030708  2.1918478   1.63620496  1.47986603]\n",
      "-------------------------\n",
      "[ 0.07938521  0.12283372  0.12099589  0.12007719  0.09987303  0.14560494\n",
      "  0.13802968  0.22366332  0.17341478  0.17494841  0.12482746  0.10505891]\n"
     ]
    }
   ],
   "source": [
    "print( modelT.predict(trainX.transpose((0,2,1))[50:(50+batch_size),:,:]*F)[0] )\n",
    "print('-------------------------')\n",
    "print( modelV.predict(trainX.transpose((0,2,1))[50:(50+batch_size),:,:]*F)[0]*math.sqrt(255)/F )"
   ]
  },
  {
   "cell_type": "code",
   "execution_count": 406,
   "metadata": {
    "collapsed": false
   },
   "outputs": [
    {
     "data": {
      "text/plain": [
       "10"
      ]
     },
     "execution_count": 406,
     "metadata": {},
     "output_type": "execute_result"
    }
   ],
   "source": [
    "max_batches = int(trainX.transpose((0,2,1)).shape[0]/batch_size)\n",
    "max_batches"
   ]
  },
  {
   "cell_type": "markdown",
   "metadata": {},
   "source": [
    "#### A few runs of training for sanity checks"
   ]
  },
  {
   "cell_type": "code",
   "execution_count": 422,
   "metadata": {
    "collapsed": false
   },
   "outputs": [],
   "source": [
    "modelT.optimizer.lr.set_value(1e-6) # 1e-3 seems too large !\n",
    "#modelT.optimizer.lr.get_value()"
   ]
  },
  {
   "cell_type": "code",
   "execution_count": 423,
   "metadata": {
    "collapsed": false
   },
   "outputs": [
    {
     "name": "stdout",
     "output_type": "stream",
     "text": [
      "Epoch 1/10\n",
      "160/160 [==============================] - 0s - loss: 1.1742     \n",
      "Epoch 2/10\n",
      "160/160 [==============================] - 0s - loss: 1.1742     \n",
      "Epoch 3/10\n",
      "160/160 [==============================] - 0s - loss: 1.1742     \n",
      "Epoch 4/10\n",
      "160/160 [==============================] - 0s - loss: 1.1742     \n",
      "Epoch 5/10\n",
      "160/160 [==============================] - 0s - loss: 1.1742     \n",
      "Epoch 6/10\n",
      "160/160 [==============================] - 0s - loss: 1.1742     \n",
      "Epoch 7/10\n",
      "160/160 [==============================] - 0s - loss: 1.1742     \n",
      "Epoch 8/10\n",
      "160/160 [==============================] - 0s - loss: 1.1742     \n",
      "Epoch 9/10\n",
      "160/160 [==============================] - 0s - loss: 1.1742     \n",
      "Epoch 10/10\n",
      "160/160 [==============================] - 0s - loss: 1.1742     \n"
     ]
    }
   ],
   "source": [
    "Ydummy = trainX.transpose((0,2,1))\n",
    "#print(Ydummy.shape)\n",
    "#print( trainX.transpose((0,2,1)).shape )\n",
    "hist0 = modelT.fit(trainX.transpose((0,2,1))[0:(max_batches*batch_size),:,:]*F,\n",
    "                   Ydummy[0:(max_batches*batch_size),0:-1,0],\n",
    "                   epochs=10,\n",
    "                   batch_size=batch_size,\n",
    "                   verbose=1,\n",
    "                   shuffle=False)"
   ]
  },
  {
   "cell_type": "markdown",
   "metadata": {},
   "source": [
    "#### Compare Trained-Loss to check it did not worsen"
   ]
  },
  {
   "cell_type": "code",
   "execution_count": 424,
   "metadata": {
    "collapsed": false
   },
   "outputs": [
    {
     "name": "stdout",
     "output_type": "stream",
     "text": [
      "275.698 277.206\n"
     ]
    }
   ],
   "source": [
    "test_arr = trainX.transpose((0,2,1))[50:50+batch_size:,:].astype('float32')\n",
    "ErrorEnd = np.sum(Errors.eval({I:test_arr*F}))\n",
    "print(ErrorStart, ErrorEnd)"
   ]
  },
  {
   "cell_type": "markdown",
   "metadata": {},
   "source": [
    "#### Compare long-term vol to check similarity"
   ]
  },
  {
   "cell_type": "code",
   "execution_count": 425,
   "metadata": {
    "collapsed": false
   },
   "outputs": [
    {
     "data": {
      "text/plain": [
       "0.10473784533584635"
      ]
     },
     "execution_count": 425,
     "metadata": {},
     "output_type": "execute_result"
    }
   ],
   "source": [
    "math.sqrt(rnn.get_weights()[2][0]/(1-rnn.get_weights()[0][0][0]-rnn.get_weights()[1][0][0])*255)/F"
   ]
  },
  {
   "cell_type": "code",
   "execution_count": 426,
   "metadata": {
    "collapsed": false
   },
   "outputs": [
    {
     "data": {
      "text/plain": [
       "(0.10000000000000003, 0.14814411, 0.44867724, 0.44801366)"
      ]
     },
     "execution_count": 426,
     "metadata": {},
     "output_type": "execute_result"
    }
   ],
   "source": [
    "kappa*F*F, rnn.get_weights()[2][0], rnn.get_weights()[0][0][0], rnn.get_weights()[1][0][0]"
   ]
  },
  {
   "cell_type": "markdown",
   "metadata": {},
   "source": [
    "# Dummy code (for reference) to remove later on"
   ]
  },
  {
   "cell_type": "code",
   "execution_count": 391,
   "metadata": {
    "collapsed": false
   },
   "outputs": [
    {
     "data": {
      "text/plain": [
       "'modelUNR.optimizer.lr = 1e-2\\ndummy_Y = Xs[0]\\nhist1 = modelUNR.fit(Xs, dummy_Y, batch_size=40, nb_epoch=25)'"
      ]
     },
     "execution_count": 391,
     "metadata": {},
     "output_type": "execute_result"
    }
   ],
   "source": [
    "'''modelUNR.optimizer.lr = 1e-2\n",
    "dummy_Y = Xs[0]\n",
    "hist1 = modelUNR.fit(Xs, dummy_Y, batch_size=40, nb_epoch=25)'''"
   ]
  },
  {
   "cell_type": "code",
   "execution_count": null,
   "metadata": {
    "collapsed": true
   },
   "outputs": [],
   "source": []
  }
 ],
 "metadata": {
  "kernelspec": {
   "display_name": "Python 2",
   "language": "python",
   "name": "python2"
  },
  "language_info": {
   "codemirror_mode": {
    "name": "ipython",
    "version": 2
   },
   "file_extension": ".py",
   "mimetype": "text/x-python",
   "name": "python",
   "nbconvert_exporter": "python",
   "pygments_lexer": "ipython2",
   "version": "2.7.13"
  }
 },
 "nbformat": 4,
 "nbformat_minor": 0
}
