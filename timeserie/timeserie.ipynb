{
 "cells": [
  {
   "cell_type": "code",
   "execution_count": 1,
   "metadata": {
    "collapsed": false
   },
   "outputs": [
    {
     "name": "stderr",
     "output_type": "stream",
     "text": [
      "Using gpu device 0: Tesla K80 (CNMeM is disabled)\n"
     ]
    }
   ],
   "source": [
    "from theano.sandbox import cuda"
   ]
  },
  {
   "cell_type": "code",
   "execution_count": 2,
   "metadata": {
    "collapsed": false
   },
   "outputs": [
    {
     "name": "stderr",
     "output_type": "stream",
     "text": [
      "Using Theano backend.\n"
     ]
    }
   ],
   "source": [
    "%matplotlib inline\n",
    "import utils_modified; reload(utils_modified)\n",
    "from utils_modified import *\n",
    "from __future__ import division, print_function"
   ]
  },
  {
   "cell_type": "code",
   "execution_count": 3,
   "metadata": {
    "collapsed": true
   },
   "outputs": [],
   "source": [
    "import numpy as np\n",
    "import random\n",
    "import sys"
   ]
  },
  {
   "cell_type": "code",
   "execution_count": 4,
   "metadata": {
    "collapsed": false
   },
   "outputs": [],
   "source": [
    "from keras.preprocessing.sequence import pad_sequences\n",
    "from keras.layers import Input, Dense, Embedding, Activation, LSTM, merge, Flatten, Dropout, Lambda\n",
    "from keras.models import Model, Sequential\n",
    "from keras.engine.topology import Merge\n",
    "from keras.layers.normalization import BatchNormalization\n",
    "from keras.optimizers import SGD, RMSprop, Adam\n",
    "from keras.layers.convolutional import *\n",
    "from keras.utils.data_utils import get_file"
   ]
  },
  {
   "cell_type": "code",
   "execution_count": 5,
   "metadata": {
    "collapsed": false
   },
   "outputs": [],
   "source": [
    "# https://keras.io/getting-started/sequential-model-guide/"
   ]
  },
  {
   "cell_type": "code",
   "execution_count": 6,
   "metadata": {
    "collapsed": true
   },
   "outputs": [],
   "source": [
    "look_back = 5\n",
    "model = Sequential()\n",
    "model.add(LSTM(4, input_dim=look_back))\n",
    "model.add(Dense(1))\n",
    "model.compile(loss='mean_squared_error', optimizer='adam')"
   ]
  },
  {
   "cell_type": "code",
   "execution_count": 7,
   "metadata": {
    "collapsed": false,
    "scrolled": true
   },
   "outputs": [
    {
     "name": "stdout",
     "output_type": "stream",
     "text": [
      "Epoch 1/100\n",
      "744/744 [==============================] - 0s - loss: 0.3924     \n",
      "Epoch 2/100\n",
      "744/744 [==============================] - 0s - loss: 0.3662     \n",
      "Epoch 3/100\n",
      "744/744 [==============================] - 0s - loss: 0.3401     \n",
      "Epoch 4/100\n",
      "744/744 [==============================] - 0s - loss: 0.3139     \n",
      "Epoch 5/100\n",
      "744/744 [==============================] - 0s - loss: 0.2888     \n",
      "Epoch 6/100\n",
      "744/744 [==============================] - 0s - loss: 0.2635     \n",
      "Epoch 7/100\n",
      "744/744 [==============================] - 0s - loss: 0.2394     \n",
      "Epoch 8/100\n",
      "744/744 [==============================] - 0s - loss: 0.2172     \n",
      "Epoch 9/100\n",
      "744/744 [==============================] - 0s - loss: 0.1964     \n",
      "Epoch 10/100\n",
      "744/744 [==============================] - 0s - loss: 0.1780     \n",
      "Epoch 11/100\n",
      "744/744 [==============================] - 0s - loss: 0.1619     \n",
      "Epoch 12/100\n",
      "744/744 [==============================] - 0s - loss: 0.1477     \n",
      "Epoch 13/100\n",
      "744/744 [==============================] - 0s - loss: 0.1351     \n",
      "Epoch 14/100\n",
      "744/744 [==============================] - 0s - loss: 0.1239     \n",
      "Epoch 15/100\n",
      "744/744 [==============================] - 0s - loss: 0.1144     \n",
      "Epoch 16/100\n",
      "744/744 [==============================] - 0s - loss: 0.1056     \n",
      "Epoch 17/100\n",
      "744/744 [==============================] - 0s - loss: 0.0978     \n",
      "Epoch 18/100\n",
      "744/744 [==============================] - 0s - loss: 0.0907     \n",
      "Epoch 19/100\n",
      "744/744 [==============================] - 0s - loss: 0.0840     \n",
      "Epoch 20/100\n",
      "744/744 [==============================] - 0s - loss: 0.0778     \n",
      "Epoch 21/100\n",
      "744/744 [==============================] - 0s - loss: 0.0720     \n",
      "Epoch 22/100\n",
      "744/744 [==============================] - 0s - loss: 0.0664     \n",
      "Epoch 23/100\n",
      "744/744 [==============================] - 0s - loss: 0.0610     \n",
      "Epoch 24/100\n",
      "744/744 [==============================] - 0s - loss: 0.0558     \n",
      "Epoch 25/100\n",
      "744/744 [==============================] - 0s - loss: 0.0510     \n",
      "Epoch 26/100\n",
      "744/744 [==============================] - 0s - loss: 0.0462     \n",
      "Epoch 27/100\n",
      "744/744 [==============================] - 0s - loss: 0.0418     \n",
      "Epoch 28/100\n",
      "744/744 [==============================] - 0s - loss: 0.0375     \n",
      "Epoch 29/100\n",
      "744/744 [==============================] - 0s - loss: 0.0335     \n",
      "Epoch 30/100\n",
      "744/744 [==============================] - 0s - loss: 0.0297     \n",
      "Epoch 31/100\n",
      "744/744 [==============================] - 0s - loss: 0.0262     \n",
      "Epoch 32/100\n",
      "744/744 [==============================] - 0s - loss: 0.0230     \n",
      "Epoch 33/100\n",
      "744/744 [==============================] - 0s - loss: 0.0201     \n",
      "Epoch 34/100\n",
      "744/744 [==============================] - 0s - loss: 0.0174     \n",
      "Epoch 35/100\n",
      "744/744 [==============================] - 0s - loss: 0.0150     \n",
      "Epoch 36/100\n",
      "744/744 [==============================] - 0s - loss: 0.0128     \n",
      "Epoch 37/100\n",
      "744/744 [==============================] - 0s - loss: 0.0109     \n",
      "Epoch 38/100\n",
      "744/744 [==============================] - 0s - loss: 0.0092     \n",
      "Epoch 39/100\n",
      "744/744 [==============================] - 0s - loss: 0.0078     \n",
      "Epoch 40/100\n",
      "744/744 [==============================] - 0s - loss: 0.0065     \n",
      "Epoch 41/100\n",
      "744/744 [==============================] - 0s - loss: 0.0054     \n",
      "Epoch 42/100\n",
      "744/744 [==============================] - 0s - loss: 0.0045     \n",
      "Epoch 43/100\n",
      "744/744 [==============================] - 0s - loss: 0.0038     \n",
      "Epoch 44/100\n",
      "744/744 [==============================] - 0s - loss: 0.0032     \n",
      "Epoch 45/100\n",
      "744/744 [==============================] - 0s - loss: 0.0026     \n",
      "Epoch 46/100\n",
      "744/744 [==============================] - 0s - loss: 0.0022     \n",
      "Epoch 47/100\n",
      "744/744 [==============================] - 0s - loss: 0.0019     \n",
      "Epoch 48/100\n",
      "744/744 [==============================] - 0s - loss: 0.0016     \n",
      "Epoch 49/100\n",
      "744/744 [==============================] - 0s - loss: 0.0014     \n",
      "Epoch 50/100\n",
      "744/744 [==============================] - 0s - loss: 0.0012     \n",
      "Epoch 51/100\n",
      "744/744 [==============================] - 0s - loss: 0.0011     \n",
      "Epoch 52/100\n",
      "744/744 [==============================] - 0s - loss: 9.5244e-04     \n",
      "Epoch 53/100\n",
      "744/744 [==============================] - 0s - loss: 8.6565e-04     \n",
      "Epoch 54/100\n",
      "744/744 [==============================] - 0s - loss: 7.9589e-04     \n",
      "Epoch 55/100\n",
      "744/744 [==============================] - 0s - loss: 7.3913e-04     \n",
      "Epoch 56/100\n",
      "744/744 [==============================] - 0s - loss: 6.9509e-04     \n",
      "Epoch 57/100\n",
      "744/744 [==============================] - 0s - loss: 6.5607e-04     \n",
      "Epoch 58/100\n",
      "744/744 [==============================] - 0s - loss: 6.2576e-04     \n",
      "Epoch 59/100\n",
      "744/744 [==============================] - 0s - loss: 5.9966e-04     \n",
      "Epoch 60/100\n",
      "744/744 [==============================] - 0s - loss: 5.7770e-04     \n",
      "Epoch 61/100\n",
      "744/744 [==============================] - 0s - loss: 5.5885e-04     \n",
      "Epoch 62/100\n",
      "744/744 [==============================] - 0s - loss: 5.4247e-04     \n",
      "Epoch 63/100\n",
      "744/744 [==============================] - 0s - loss: 5.2688e-04     \n",
      "Epoch 64/100\n",
      "744/744 [==============================] - 0s - loss: 5.1315e-04     \n",
      "Epoch 65/100\n",
      "744/744 [==============================] - 0s - loss: 5.0156e-04     \n",
      "Epoch 66/100\n",
      "744/744 [==============================] - 0s - loss: 4.8974e-04     \n",
      "Epoch 67/100\n",
      "744/744 [==============================] - 0s - loss: 4.7877e-04     \n",
      "Epoch 68/100\n",
      "744/744 [==============================] - 0s - loss: 4.6812e-04     \n",
      "Epoch 69/100\n",
      "744/744 [==============================] - 0s - loss: 4.5779e-04     \n",
      "Epoch 70/100\n",
      "744/744 [==============================] - 0s - loss: 4.4805e-04     \n",
      "Epoch 71/100\n",
      "744/744 [==============================] - 0s - loss: 4.3877e-04     \n",
      "Epoch 72/100\n",
      "744/744 [==============================] - 0s - loss: 4.3004e-04     \n",
      "Epoch 73/100\n",
      "744/744 [==============================] - 0s - loss: 4.2119e-04     \n",
      "Epoch 74/100\n",
      "744/744 [==============================] - 0s - loss: 4.1320e-04     \n",
      "Epoch 75/100\n",
      "744/744 [==============================] - 0s - loss: 4.0449e-04     \n",
      "Epoch 76/100\n",
      "744/744 [==============================] - 0s - loss: 3.9633e-04     \n",
      "Epoch 77/100\n",
      "744/744 [==============================] - 0s - loss: 3.8822e-04     \n",
      "Epoch 78/100\n",
      "744/744 [==============================] - 0s - loss: 3.8040e-04     \n",
      "Epoch 79/100\n",
      "744/744 [==============================] - 0s - loss: 3.7274e-04     \n",
      "Epoch 80/100\n",
      "744/744 [==============================] - 0s - loss: 3.6579e-04     \n",
      "Epoch 81/100\n",
      "744/744 [==============================] - 0s - loss: 3.5826e-04     \n",
      "Epoch 82/100\n",
      "744/744 [==============================] - 0s - loss: 3.5143e-04     \n",
      "Epoch 83/100\n",
      "744/744 [==============================] - 0s - loss: 3.4511e-04     \n",
      "Epoch 84/100\n",
      "744/744 [==============================] - 0s - loss: 3.3789e-04     \n",
      "Epoch 85/100\n",
      "744/744 [==============================] - 0s - loss: 3.3138e-04     \n",
      "Epoch 86/100\n",
      "744/744 [==============================] - 0s - loss: 3.2616e-04     \n",
      "Epoch 87/100\n",
      "744/744 [==============================] - 0s - loss: 3.1917e-04     \n",
      "Epoch 88/100\n",
      "744/744 [==============================] - 0s - loss: 3.1256e-04     \n",
      "Epoch 89/100\n",
      "744/744 [==============================] - 0s - loss: 3.0637e-04     \n",
      "Epoch 90/100\n",
      "744/744 [==============================] - 0s - loss: 3.0057e-04     \n",
      "Epoch 91/100\n",
      "744/744 [==============================] - 0s - loss: 2.9501e-04     \n",
      "Epoch 92/100\n",
      "744/744 [==============================] - 0s - loss: 2.8921e-04     \n",
      "Epoch 93/100\n",
      "744/744 [==============================] - 0s - loss: 2.8401e-04     \n",
      "Epoch 94/100\n",
      "744/744 [==============================] - 0s - loss: 2.7833e-04     \n",
      "Epoch 95/100\n",
      "744/744 [==============================] - 0s - loss: 2.7314e-04     \n",
      "Epoch 96/100\n",
      "744/744 [==============================] - 0s - loss: 2.6790e-04     \n",
      "Epoch 97/100\n",
      "744/744 [==============================] - 0s - loss: 2.6295e-04     \n",
      "Epoch 98/100\n",
      "744/744 [==============================] - 0s - loss: 2.5825e-04     \n",
      "Epoch 99/100\n",
      "744/744 [==============================] - 0s - loss: 2.5385e-04     \n",
      "Epoch 100/100\n",
      "744/744 [==============================] - 0s - loss: 2.4842e-04     \n"
     ]
    },
    {
     "data": {
      "text/plain": [
       "<keras.callbacks.History at 0x7f364613e450>"
      ]
     },
     "execution_count": 7,
     "metadata": {},
     "output_type": "execute_result"
    }
   ],
   "source": [
    "# convert an array of values into a dataset matrix\n",
    "def create_dataset(dataset, look_back=1):\n",
    "    dataX, dataY = [], []\n",
    "    for i in range(len(dataset)-look_back-1):\n",
    "        a = dataset[i:(i+look_back), 0]\n",
    "        dataX.append(a)\n",
    "        dataY.append(dataset[i + look_back, 0])\n",
    "    return np.array(dataX), np.array(dataY)\n",
    "\n",
    "train = [math.sin(x*0.2) for x in range(250*3)]\n",
    "train = np.array(train).reshape(-1,1)\n",
    "trainX, trainY = create_dataset(train, look_back)\n",
    "\n",
    "# reshape input to be [samples, time steps, features]\n",
    "trainX = np.reshape(trainX, (trainX.shape[0], 1, trainX.shape[1]))\n",
    "#print(trainX, trainY)\n",
    "model.fit(trainX, trainY, nb_epoch=100, batch_size=50, verbose=1)"
   ]
  },
  {
   "cell_type": "code",
   "execution_count": 8,
   "metadata": {
    "collapsed": true
   },
   "outputs": [],
   "source": [
    "lag = look_back"
   ]
  },
  {
   "cell_type": "code",
   "execution_count": 9,
   "metadata": {
    "collapsed": false
   },
   "outputs": [],
   "source": [
    "def show_top_next(mdl, inp, steps=1):\n",
    "    inp = np.copy(inp)\n",
    "    for k in range(steps):\n",
    "        #ps = mdl.predict([np.array([i]) for i in inp])\n",
    "        ps = mdl.predict(inp)\n",
    "        newimp = np.concatenate((inp[0,:,:],ps), axis=1)\n",
    "        inp[0,:,:] = newimp[:,1:]\n",
    "    return inp"
   ]
  },
  {
   "cell_type": "code",
   "execution_count": 10,
   "metadata": {
    "collapsed": false
   },
   "outputs": [
    {
     "name": "stdout",
     "output_type": "stream",
     "text": [
      "[[[ 0.90929743  0.8084964   0.67546318  0.51550137  0.33498815]]]\n",
      "[[[ 0.14971432 -0.0566142  -0.27141064 -0.47336614 -0.64913946]]]\n",
      "[[[-0.79665715 -0.90304971 -0.96826339 -0.99756896 -0.98139274]]]\n"
     ]
    }
   ],
   "source": [
    "cut = 10\n",
    "inps = [trainX[10:(cut+1),:,:], ]\n",
    "for iter in range(8):\n",
    "    inps.append( show_top_next(model, inps[-1], 5) )\n",
    "\n",
    "print(inps[0])\n",
    "print(inps[1])\n",
    "print(inps[2])"
   ]
  },
  {
   "cell_type": "code",
   "execution_count": 13,
   "metadata": {
    "collapsed": false
   },
   "outputs": [],
   "source": [
    "TSmodel = np.concatenate(inps, axis=2)[0,0]\n",
    "TSreal = trainX[range(cut,cut+5*len(inps),5),:,:].reshape((1,1,-1))[0,0]"
   ]
  },
  {
   "cell_type": "code",
   "execution_count": 14,
   "metadata": {
    "collapsed": false
   },
   "outputs": [
    {
     "data": {
      "image/png": "[encoded data removed]",
      "text/plain": [
       "<matplotlib.figure.Figure at 0x7f364614e490>"
      ]
     },
     "metadata": {},
     "output_type": "display_data"
    }
   ],
   "source": [
    "import matplotlib.pyplot as plt\n",
    "plt.figure(figsize=(10,7))\n",
    "plt.plot(TSreal)\n",
    "plt.plot(TSmodel)\n",
    "plt.legend(['real','model'], loc='upper right')\n",
    "plt.show()"
   ]
  },
  {
   "cell_type": "code",
   "execution_count": null,
   "metadata": {
    "collapsed": false
   },
   "outputs": [],
   "source": []
  }
 ],
 "metadata": {
  "kernelspec": {
   "display_name": "Python 2",
   "language": "python",
   "name": "python2"
  },
  "language_info": {
   "codemirror_mode": {
    "name": "ipython",
    "version": 2
   },
   "file_extension": ".py",
   "mimetype": "text/x-python",
   "name": "python",
   "nbconvert_exporter": "python",
   "pygments_lexer": "ipython2",
   "version": "2.7.11"
  }
 },
 "nbformat": 4,
 "nbformat_minor": 0
}
