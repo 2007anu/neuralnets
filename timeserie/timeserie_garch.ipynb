{
 "cells": [
  {
   "cell_type": "code",
   "execution_count": 1,
   "metadata": {
    "collapsed": false
   },
   "outputs": [
    {
     "name": "stderr",
     "output_type": "stream",
     "text": [
      "Using gpu device 0: Tesla K80 (CNMeM is disabled, cuDNN Version is too old. Update to v5, was 3007.)\n"
     ]
    }
   ],
   "source": [
    "from theano.sandbox import cuda"
   ]
  },
  {
   "cell_type": "code",
   "execution_count": 2,
   "metadata": {
    "collapsed": false
   },
   "outputs": [],
   "source": [
    "%matplotlib inline\n",
    "from __future__ import division, print_function"
   ]
  },
  {
   "cell_type": "code",
   "execution_count": 3,
   "metadata": {
    "collapsed": true
   },
   "outputs": [],
   "source": [
    "import math\n",
    "import numpy as np\n",
    "import random\n",
    "import sys\n",
    "\n",
    "from numpy.random import normal\n",
    "import matplotlib.pyplot as plt"
   ]
  },
  {
   "cell_type": "code",
   "execution_count": 4,
   "metadata": {
    "collapsed": false
   },
   "outputs": [
    {
     "name": "stderr",
     "output_type": "stream",
     "text": [
      "Using Theano backend.\n"
     ]
    }
   ],
   "source": [
    "from keras.preprocessing.sequence import pad_sequences\n",
    "from keras.layers import Input, Dense, Embedding, Activation, merge, Flatten, Dropout, Lambda\n",
    "from keras.layers import LSTM, SimpleRNN, TimeDistributed\n",
    "from keras.models import Model, Sequential\n",
    "from keras.layers.merge import Add, add\n",
    "from keras.layers.normalization import BatchNormalization\n",
    "from keras.optimizers import SGD, RMSprop, Adam\n",
    "from keras.constraints import nonneg\n",
    "from keras.layers.convolutional import *\n",
    "from keras import backend as K\n",
    "from keras.utils.data_utils import get_file"
   ]
  },
  {
   "cell_type": "code",
   "execution_count": 449,
   "metadata": {
    "collapsed": true
   },
   "outputs": [],
   "source": [
    "look_back = 12\n",
    "batch_size = 1"
   ]
  },
  {
   "cell_type": "code",
   "execution_count": 450,
   "metadata": {
    "collapsed": true
   },
   "outputs": [],
   "source": [
    "def mllklh(args): # minus log-likelihood of gaussian\n",
    "    var_t, eps2_t = args\n",
    "    return 0.5*math.log(2*math.pi) + 0.5*K.log(var_t)  + 0.5*(eps2_t/var_t)"
   ]
  },
  {
   "cell_type": "code",
   "execution_count": 452,
   "metadata": {
    "collapsed": false
   },
   "outputs": [],
   "source": [
    "#len(Xs), Xs[0].shape, modelUNR.predict([X[10:15,0] for X in Xs]).shape"
   ]
  },
  {
   "cell_type": "markdown",
   "metadata": {},
   "source": [
    "### RNN architecture : 2 models that share same weights"
   ]
  },
  {
   "cell_type": "code",
   "execution_count": 455,
   "metadata": {
    "collapsed": false
   },
   "outputs": [],
   "source": [
    "MatPlus = np.zeros((look_back-1,look_back))\n",
    "MatPlus[:,1:] = np.eye(look_back-1)\n",
    "#print(MatPlus)\n",
    "\n",
    "MatMinus = np.zeros((look_back-1,look_back))\n",
    "MatMinus[:,:-1] = np.eye(look_back-1)\n",
    "#print(MatMinus)"
   ]
  },
  {
   "cell_type": "code",
   "execution_count": 456,
   "metadata": {
    "collapsed": true
   },
   "outputs": [],
   "source": [
    "Dplus = Dense(look_back-1,\n",
    "              weights=[MatPlus.T, np.zeros((look_back-1,))],\n",
    "              input_dim=look_back)\n",
    "Dplus.trainable = False\n",
    "\n",
    "Dminus = Dense(look_back-1,\n",
    "              weights=[MatMinus.T, np.zeros((look_back-1,))],\n",
    "              input_dim=look_back)\n",
    "Dminus.trainable = False"
   ]
  },
  {
   "cell_type": "code",
   "execution_count": 909,
   "metadata": {
    "collapsed": false
   },
   "outputs": [],
   "source": [
    "I = Input(batch_shape=(batch_size, look_back,1), dtype='float32')\n",
    "I2 = Lambda(lambda x : K.square(x), output_shape=(look_back,1))(I)\n",
    "rnn = SimpleRNN(return_sequences=True, unroll=False,\n",
    "                units=1, input_shape=(look_back, 1),\n",
    "                bias_constraint=nonneg(), # insure positive var\n",
    "                kernel_constraint=nonneg(), # insure positive var\n",
    "                recurrent_constraint=nonneg(), # insure positive var\n",
    "                activation=None,\n",
    "                stateful=True)\n",
    "O1 = rnn(I2)\n",
    "O1f = Flatten()(O1)\n",
    "O1m = Dminus(O1f)\n",
    "\n",
    "V = Lambda(lambda x : K.sqrt(x), output_shape=(look_back,))(O1f) # get volatility\n",
    "\n",
    "I2f = Flatten()(I2)\n",
    "I2p = Dplus(I2f)\n",
    "\n",
    "Errors = Lambda(mllklh, output_shape=(look_back-1,))([O1m,I2p])\n",
    "\n",
    "Error = Lambda(lambda x : K.sum(x, axis=1), output_shape=(look_back-1,))(Errors)\n",
    "\n",
    "modelT = Model(inputs=I, outputs=Errors) # training model\n",
    "\n",
    "def special_loss(dummy, errorterms):\n",
    "    return errorterms\n",
    "\n",
    "modelT.compile(optimizer='adadelta', loss=special_loss)\n",
    "\n",
    "modelV = Model(inputs=I, outputs=V) # simulation model"
   ]
  },
  {
   "cell_type": "code",
   "execution_count": 910,
   "metadata": {
    "collapsed": false
   },
   "outputs": [
    {
     "data": {
      "text/plain": [
       "((12, 11), (11,))"
      ]
     },
     "execution_count": 910,
     "metadata": {},
     "output_type": "execute_result"
    }
   ],
   "source": [
    "Dplus.get_weights()[0].shape, Dplus.get_weights()[1].shape"
   ]
  },
  {
   "cell_type": "code",
   "execution_count": 911,
   "metadata": {
    "collapsed": false
   },
   "outputs": [
    {
     "data": {
      "text/plain": [
       "((1, 12, 1), (1, 12, 1), (1, 12, 1), (1, 12), (1, 12), (1, 11), (1, 11))"
      ]
     },
     "execution_count": 911,
     "metadata": {},
     "output_type": "execute_result"
    }
   ],
   "source": [
    "I._keras_shape, I2._keras_shape, O1._keras_shape, O1f._keras_shape, V._keras_shape, Errors._keras_shape, Error._keras_shape"
   ]
  },
  {
   "cell_type": "code",
   "execution_count": 912,
   "metadata": {
    "collapsed": false
   },
   "outputs": [
    {
     "name": "stdout",
     "output_type": "stream",
     "text": [
      "(1, 12, 1)\n",
      "(1, 12, 1)\n",
      "(1, 12)\n",
      "(1, 12)\n",
      "(1, 11)\n",
      "(1,)\n",
      "(1, 11)\n",
      "(1, 12)\n"
     ]
    }
   ],
   "source": [
    "onearr = np.ones((batch_size, look_back, 1)).astype('float32')\n",
    "print(I2.eval({I:onearr}).shape)\n",
    "print(O1.eval({I:onearr}).shape)\n",
    "print(O1f.eval({I:onearr}).shape)\n",
    "print(V.eval({I:onearr}).shape)\n",
    "print(Errors.eval({I:onearr}).shape)\n",
    "print(Error.eval({I:onearr}).shape)\n",
    "print(modelT.predict(onearr).shape)\n",
    "print(modelV.predict(onearr).shape)"
   ]
  },
  {
   "cell_type": "code",
   "execution_count": 913,
   "metadata": {
    "collapsed": false
   },
   "outputs": [
    {
     "name": "stdout",
     "output_type": "stream",
     "text": [
      "[[  2.   4.   6.   8.  10.  12.  14.  16.  18.  20.  22.  24.]]\n",
      "[[  2.   4.   6.   8.  10.  12.  14.  16.  18.  20.  22.]]\n"
     ]
    }
   ],
   "source": [
    "rnn(I2).eval({I:onearr}) # dry run to allow weight setting\n",
    "rnn.set_weights([np.array([[0.5]]),np.array([[1]]),np.array([1.5])])\n",
    "print( O1f.eval({I:onearr}) )\n",
    "print( O1m.eval({I:onearr}) )"
   ]
  },
  {
   "cell_type": "code",
   "execution_count": 914,
   "metadata": {
    "collapsed": false
   },
   "outputs": [],
   "source": [
    "#print( I2f.eval({I:onearr}) )\n",
    "#print( I2p.eval({I:onearr}) )"
   ]
  },
  {
   "cell_type": "code",
   "execution_count": 915,
   "metadata": {
    "collapsed": false
   },
   "outputs": [
    {
     "data": {
      "text/plain": [
       "(1,)"
      ]
     },
     "execution_count": 915,
     "metadata": {},
     "output_type": "execute_result"
    }
   ],
   "source": [
    "Error.eval({I:onearr}).shape"
   ]
  },
  {
   "cell_type": "code",
   "execution_count": 916,
   "metadata": {
    "collapsed": false
   },
   "outputs": [
    {
     "name": "stdout",
     "output_type": "stream",
     "text": [
      "____________________________________________________________________________________________________\n",
      "Layer (type)                     Output Shape          Param #     Connected to                     \n",
      "====================================================================================================\n",
      "input_9 (InputLayer)             (1, 12, 1)            0                                            \n",
      "____________________________________________________________________________________________________\n",
      "lambda_33 (Lambda)               (1, 12, 1)            0                                            \n",
      "____________________________________________________________________________________________________\n",
      "simple_rnn_9 (SimpleRNN)         (1, 12, 1)            3                                            \n",
      "____________________________________________________________________________________________________\n",
      "flatten_17 (Flatten)             (1, 12)               0                                            \n",
      "____________________________________________________________________________________________________\n",
      "flatten_18 (Flatten)             (1, 12)               0                                            \n",
      "____________________________________________________________________________________________________\n",
      "dense_8 (Dense)                  (1, 11)               143                                          \n",
      "____________________________________________________________________________________________________\n",
      "dense_7 (Dense)                  (1, 11)               143                                          \n",
      "____________________________________________________________________________________________________\n",
      "lambda_35 (Lambda)               (1, 11)               0                                            \n",
      "====================================================================================================\n",
      "Total params: 289.0\n",
      "Trainable params: 3.0\n",
      "Non-trainable params: 286.0\n",
      "____________________________________________________________________________________________________\n"
     ]
    }
   ],
   "source": [
    "modelT.summary()"
   ]
  },
  {
   "cell_type": "markdown",
   "metadata": {},
   "source": [
    "#### Manually specify a GARCH model"
   ]
  },
  {
   "cell_type": "code",
   "execution_count": 917,
   "metadata": {
    "collapsed": false
   },
   "outputs": [
    {
     "name": "stdout",
     "output_type": "stream",
     "text": [
      "0.123693168769\n"
     ]
    }
   ],
   "source": [
    "kappa = 0.000003\n",
    "alpha = 0.85\n",
    "beta = 0.10\n",
    "lvar = kappa / (1-alpha-beta)\n",
    "print(math.sqrt(lvar)*math.sqrt(255))"
   ]
  },
  {
   "cell_type": "markdown",
   "metadata": {},
   "source": [
    "#### Copy the known GARCH parameters as initial weights for the RNN"
   ]
  },
  {
   "cell_type": "code",
   "execution_count": 918,
   "metadata": {
    "collapsed": false
   },
   "outputs": [
    {
     "data": {
      "text/plain": [
       "0.007745966692414833"
      ]
     },
     "execution_count": 918,
     "metadata": {},
     "output_type": "execute_result"
    }
   ],
   "source": [
    "math.sqrt(lvar) # standard deviation of simulated data set"
   ]
  },
  {
   "cell_type": "code",
   "execution_count": 919,
   "metadata": {
    "collapsed": true
   },
   "outputs": [],
   "source": [
    "F = 1/math.sqrt(lvar) # will have to scale training data by F and Kappa by F^2 (alpha and beta unchanged)"
   ]
  },
  {
   "cell_type": "code",
   "execution_count": 920,
   "metadata": {
    "collapsed": false
   },
   "outputs": [],
   "source": [
    "rnn(I2).eval({I:onearr}) # dry run to allow weight setting\n",
    "rnn.set_weights([np.array([[beta]]),np.array([[alpha]]),np.array([kappa])*F*F])"
   ]
  },
  {
   "cell_type": "markdown",
   "metadata": {},
   "source": [
    "#### Simulate the GARCH dynamic"
   ]
  },
  {
   "cell_type": "code",
   "execution_count": 921,
   "metadata": {
    "collapsed": false,
    "scrolled": true
   },
   "outputs": [],
   "source": [
    "# convert an array of values into a dataset matrix\n",
    "def create_dataset(dataset, look_back=1, allow_overlap=True):\n",
    "    dataX, dataY = [], []\n",
    "    if allow_overlap:\n",
    "        for i in range(len(dataset)-look_back-1):\n",
    "            a = dataset[i:(i+look_back), 0]\n",
    "            dataX.append(a)\n",
    "            dataY.append(dataset[i + look_back, 0])\n",
    "        return np.array(dataX), np.array(dataY)\n",
    "    else:\n",
    "        # non overlap\n",
    "        for i in range(0, int(dataset.shape[0]/batch_size)*batch_size-look_back, look_back):\n",
    "            #print(i)\n",
    "            a = dataset[i:(i+look_back), 0]\n",
    "            dataX.append(a)\n",
    "            dataY.append(dataset[i + look_back, 0])\n",
    "        return np.array(dataX), np.array(dataY)\n",
    "\n",
    "train = []\n",
    "trainvars = []\n",
    "var_t = lvar\n",
    "for t in range(250*8):\n",
    "    eps = math.sqrt(var_t) * normal()\n",
    "    var_t = kappa + alpha * var_t + beta * (eps*eps)\n",
    "    train.append(eps) # percent\n",
    "    trainvars.append(var_t)\n",
    "train = np.array(train).reshape(-1,1)\n",
    "trainX, trainY = create_dataset(train, look_back, allow_overlap=False)\n",
    "\n",
    "# reshape input to be [samples, time steps, features]\n",
    "trainX = np.reshape(trainX, (trainX.shape[0], 1, trainX.shape[1]))\n",
    "#print(trainX, trainY)"
   ]
  },
  {
   "cell_type": "code",
   "execution_count": 922,
   "metadata": {
    "collapsed": false
   },
   "outputs": [
    {
     "data": {
      "text/plain": [
       "((166, 1, 12), (166,), (166, 12, 1))"
      ]
     },
     "execution_count": 922,
     "metadata": {},
     "output_type": "execute_result"
    }
   ],
   "source": [
    "trainX.shape, trainY.shape, trainX.transpose((0,2,1)).shape"
   ]
  },
  {
   "cell_type": "code",
   "execution_count": 923,
   "metadata": {
    "collapsed": false
   },
   "outputs": [
    {
     "data": {
      "image/png": "[encoded data removed]",
      "text/plain": [
       "<matplotlib.figure.Figure at 0x7f20dd056250>"
      ]
     },
     "metadata": {},
     "output_type": "display_data"
    }
   ],
   "source": [
    "plt.figure(figsize=(10,7))\n",
    "plt.subplot(2,1,1)\n",
    "plt.plot(np.cumsum(train))\n",
    "plt.subplot(2,1,2)\n",
    "plt.plot(np.sqrt(trainvars)*math.sqrt(255))\n",
    "plt.show()"
   ]
  },
  {
   "cell_type": "code",
   "execution_count": 924,
   "metadata": {
    "collapsed": false
   },
   "outputs": [
    {
     "name": "stdout",
     "output_type": "stream",
     "text": [
      "0.0519392320363\n",
      "0.0718148541917\n",
      "0.111129803957\n",
      "0.106651602018\n",
      "0.103350974872\n",
      "0.102106527236\n",
      "0.109781379052\n",
      "0.107246216699\n",
      "0.110446390277\n",
      "0.113423593078\n",
      "0.116018060655\n",
      "0.110508514623\n",
      "------- 11 --------\n",
      "0.110967468856\n",
      "0.124538747831\n",
      "0.120402954992\n",
      "0.114515707264\n",
      "0.109324970434\n",
      "0.113980399459\n",
      "0.113692230661\n",
      "0.13867891001\n",
      "0.133192504061\n",
      "0.128731864336\n",
      "0.122235639633\n",
      "0.118872322563\n",
      "------- 23 --------\n",
      "0.115254852169\n",
      "0.110322801915\n",
      "0.131097051638\n",
      "0.136212994937\n",
      "0.129044787728\n",
      "0.12214620413\n",
      "0.13385104975\n",
      "0.135414185827\n",
      "0.132696289962\n",
      "0.168565802914\n",
      "0.180157093536\n",
      "0.168386929576\n",
      "------- 35 --------\n"
     ]
    }
   ],
   "source": [
    "var_t = 0#lvar\n",
    "check_vars = []\n",
    "#for eps in train[0:(50*look_back),0]:\n",
    "#    var_t = kappa + alpha * var_t + beta * (eps*eps)\n",
    "for k, eps in enumerate(train[(50*look_back):((50*look_back)+3*batch_size*look_back),0]):\n",
    "    var_t = kappa + alpha * var_t + beta * (eps*eps)\n",
    "    check_vars.append(var_t)\n",
    "    if k<3*look_back:\n",
    "        print(math.sqrt(var_t*255))\n",
    "        if ((k>0) and ((k+1) % look_back == 0)):\n",
    "            print('-------', k, '--------')"
   ]
  },
  {
   "cell_type": "code",
   "execution_count": 925,
   "metadata": {
    "collapsed": false
   },
   "outputs": [
    {
     "data": {
      "text/plain": [
       "((1, 1), array([ 0.], dtype=float32))"
      ]
     },
     "execution_count": 925,
     "metadata": {},
     "output_type": "execute_result"
    }
   ],
   "source": [
    "rnn.states[0].get_value().shape, rnn.states[0].get_value()[:,0]*math.sqrt(255)/F"
   ]
  },
  {
   "cell_type": "code",
   "execution_count": 926,
   "metadata": {
    "collapsed": false
   },
   "outputs": [
    {
     "data": {
      "text/plain": [
       "(166, 12, 1)"
      ]
     },
     "execution_count": 926,
     "metadata": {},
     "output_type": "execute_result"
    }
   ],
   "source": [
    "trainX.transpose((0,2,1)).shape"
   ]
  },
  {
   "cell_type": "code",
   "execution_count": 927,
   "metadata": {
    "collapsed": false
   },
   "outputs": [
    {
     "name": "stdout",
     "output_type": "stream",
     "text": [
      "0.0519392320363\n",
      "0.0519392320363\n"
     ]
    }
   ],
   "source": [
    "A = trainX.transpose((0,2,1))[50,:,0]\n",
    "B = train[(50*look_back):((50*look_back)+1*look_back),0]\n",
    "\n",
    "var_t = 0\n",
    "\n",
    "print( math.sqrt((kappa + alpha * var_t + beta * (A[0]**2))*255) )\n",
    "print( math.sqrt((kappa + alpha * var_t + beta * (B[0]**2))*255) )"
   ]
  },
  {
   "cell_type": "code",
   "execution_count": 928,
   "metadata": {
    "collapsed": false
   },
   "outputs": [
    {
     "data": {
      "text/plain": [
       "(0.051939232036253169, 0.070833862)"
      ]
     },
     "execution_count": 928,
     "metadata": {},
     "output_type": "execute_result"
    }
   ],
   "source": [
    "np.sqrt(np.array(check_vars)*255)[0], np.squeeze(Vs.reshape((1,-1)), axis=0)[0]"
   ]
  },
  {
   "cell_type": "code",
   "execution_count": 929,
   "metadata": {
    "collapsed": false
   },
   "outputs": [],
   "source": [
    "rnn.reset_states()"
   ]
  },
  {
   "cell_type": "code",
   "execution_count": 930,
   "metadata": {
    "collapsed": false
   },
   "outputs": [
    {
     "data": {
      "text/plain": [
       "[<matplotlib.lines.Line2D at 0x7f20dd700050>]"
      ]
     },
     "execution_count": 930,
     "metadata": {},
     "output_type": "execute_result"
    },
    {
     "data": {
      "image/png": "[encoded data removed]",
      "text/plain": [
       "<matplotlib.figure.Figure at 0x7f20dcb01f10>"
      ]
     },
     "metadata": {},
     "output_type": "display_data"
    }
   ],
   "source": [
    "#Vs = V.eval({I:trainX.transpose((0,2,1))[100:(100+batch_size),:,:].astype('float32')*F})*math.sqrt(255)/F\n",
    "Vs0 = modelV.predict( trainX.transpose((0,2,1))[50:(50+batch_size),:,:].astype('float32')*F )*math.sqrt(255)/F\n",
    "Vs1 = modelV.predict( trainX.transpose((0,2,1))[51:(51+batch_size),:,:].astype('float32')*F )*math.sqrt(255)/F\n",
    "Vs2 = modelV.predict( trainX.transpose((0,2,1))[52:(52+batch_size),:,:].astype('float32')*F )*math.sqrt(255)/F\n",
    "Vs = np.vstack([Vs0,Vs1,Vs2])\n",
    "#np.squeeze(Vs.reshape((1,-1)))#[0:20,0], Vs[0,:], Vs[1,:]\n",
    "#Vs[0:3,:]\n",
    "plt.figure(figsize=(10,7))\n",
    "plt.plot( np.sqrt(np.array(check_vars)*255), c='red', marker='+' )\n",
    "plt.plot( np.squeeze(Vs.reshape((1,-1)), axis=0), c='black' )"
   ]
  },
  {
   "cell_type": "markdown",
   "metadata": {},
   "source": [
    "#### Compute the model Loss before training to insure loss goes down"
   ]
  },
  {
   "cell_type": "code",
   "execution_count": 931,
   "metadata": {
    "collapsed": false
   },
   "outputs": [
    {
     "name": "stdout",
     "output_type": "stream",
     "text": [
      "16.2256\n"
     ]
    }
   ],
   "source": [
    "test_arr = trainX.transpose((0,2,1))[50:(50+batch_size),:,:].astype('float32')\n",
    "ErrorStart = np.sum(Errors.eval({I:test_arr*F }))\n",
    "print(ErrorStart)"
   ]
  },
  {
   "cell_type": "code",
   "execution_count": 932,
   "metadata": {
    "collapsed": false
   },
   "outputs": [
    {
     "name": "stdout",
     "output_type": "stream",
     "text": [
      "[ 1.59087622  2.58123779  1.27049232  1.23480713  1.25342405  1.65424097\n",
      "  1.19713271  1.46405625  1.48231244  1.4895097   1.00750184]\n",
      "-------------------------\n",
      "[ 0.12847637  0.12997921  0.14942044  0.14090674  0.13375179  0.12865709\n",
      "  0.13137662  0.12620793  0.12633722  0.12674068  0.12719566  0.12051097]\n"
     ]
    }
   ],
   "source": [
    "print( modelT.predict(trainX.transpose((0,2,1))[50:(50+batch_size),:,:]*F)[0] )\n",
    "print('-------------------------')\n",
    "print( modelV.predict(trainX.transpose((0,2,1))[50:(50+batch_size),:,:]*F)[0]*math.sqrt(255)/F )"
   ]
  },
  {
   "cell_type": "code",
   "execution_count": 933,
   "metadata": {
    "collapsed": false
   },
   "outputs": [
    {
     "data": {
      "text/plain": [
       "166"
      ]
     },
     "execution_count": 933,
     "metadata": {},
     "output_type": "execute_result"
    }
   ],
   "source": [
    "max_batches = int(trainX.transpose((0,2,1)).shape[0]/batch_size)\n",
    "max_batches"
   ]
  },
  {
   "cell_type": "markdown",
   "metadata": {},
   "source": [
    "#### A few runs of training for sanity checks"
   ]
  },
  {
   "cell_type": "code",
   "execution_count": 934,
   "metadata": {
    "collapsed": false
   },
   "outputs": [],
   "source": [
    "modelT.optimizer.lr.set_value(1e-1) # 1e-3 seems too large !\n",
    "#modelT.optimizer.lr.get_value()"
   ]
  },
  {
   "cell_type": "code",
   "execution_count": 935,
   "metadata": {
    "collapsed": false
   },
   "outputs": [],
   "source": [
    "Ydummy = trainX.transpose((0,2,1))\n",
    "#print(Ydummy.shape)\n",
    "#print( trainX.transpose((0,2,1)).shape )\n",
    "hist0 = modelT.fit(trainX.transpose((0,2,1))[0:(max_batches*batch_size),:,:]*F,\n",
    "                   Ydummy[0:(max_batches*batch_size),0:-1,0],\n",
    "                   epochs=10,\n",
    "                   batch_size=batch_size,\n",
    "                   shuffle=False,\n",
    "                   verbose=0)"
   ]
  },
  {
   "cell_type": "markdown",
   "metadata": {},
   "source": [
    "#### Compare Trained-Loss to check it did not worsen"
   ]
  },
  {
   "cell_type": "code",
   "execution_count": 936,
   "metadata": {
    "collapsed": false
   },
   "outputs": [
    {
     "name": "stdout",
     "output_type": "stream",
     "text": [
      "16.2256 16.5544\n"
     ]
    }
   ],
   "source": [
    "test_arr = trainX.transpose((0,2,1))[50:50+batch_size:,:].astype('float32')\n",
    "ErrorEnd = np.sum(Errors.eval({I:test_arr*F}))\n",
    "print(ErrorStart, ErrorEnd)"
   ]
  },
  {
   "cell_type": "markdown",
   "metadata": {},
   "source": [
    "#### Compare long-term vol to check similarity"
   ]
  },
  {
   "cell_type": "code",
   "execution_count": 937,
   "metadata": {
    "collapsed": false
   },
   "outputs": [
    {
     "data": {
      "text/plain": [
       "0.1238502836849362"
      ]
     },
     "execution_count": 937,
     "metadata": {},
     "output_type": "execute_result"
    }
   ],
   "source": [
    "math.sqrt(rnn.get_weights()[2][0]/(1-rnn.get_weights()[0][0][0]-rnn.get_weights()[1][0][0])*255)/F"
   ]
  },
  {
   "cell_type": "code",
   "execution_count": 938,
   "metadata": {
    "collapsed": false
   },
   "outputs": [
    {
     "data": {
      "text/plain": [
       "(0.05000000000000002, 0.051904418, 0.096673928, 0.85155326)"
      ]
     },
     "execution_count": 938,
     "metadata": {},
     "output_type": "execute_result"
    }
   ],
   "source": [
    "kappa*F*F, rnn.get_weights()[2][0], rnn.get_weights()[0][0][0], rnn.get_weights()[1][0][0]"
   ]
  },
  {
   "cell_type": "code",
   "execution_count": null,
   "metadata": {
    "collapsed": true
   },
   "outputs": [],
   "source": []
  }
 ],
 "metadata": {
  "kernelspec": {
   "display_name": "Python 2",
   "language": "python",
   "name": "python2"
  },
  "language_info": {
   "codemirror_mode": {
    "name": "ipython",
    "version": 2
   },
   "file_extension": ".py",
   "mimetype": "text/x-python",
   "name": "python",
   "nbconvert_exporter": "python",
   "pygments_lexer": "ipython2",
   "version": "2.7.13"
  }
 },
 "nbformat": 4,
 "nbformat_minor": 0
}
